{
 "cells": [
  {
   "cell_type": "markdown",
   "id": "d4f66ae8",
   "metadata": {},
   "source": [
    "\n",
    "# Sales ROI Analysis\n",
    "\n",
    "This notebook calculates and visualizes ROI (Return on Investment) for real estate data by merging ZHVI and ZHVF datasets and performing necessary transformations.\n"
   ]
  },
  {
   "cell_type": "code",
   "execution_count": 1,
   "id": "216a8ae3",
   "metadata": {},
   "outputs": [],
   "source": [
    "\n",
    "import pandas as pd\n",
    "import matplotlib.pyplot as plt\n",
    "import numpy as np\n",
    "\n",
    "# Replace with your dataset paths or inputs\n",
    "zhvi_df = pd.read_csv('Metro_zhvi_uc_sfr_tier_0.33_0.67_sm_sa_month.csv')  # Replace with actual path or input\n",
    "zhvf_df = pd.read_csv('Metro_zhvf_growth_uc_sfrcondo_tier_0.33_0.67_month.csv')  # Replace with actual path or input\n"
   ]
  },
  {
   "cell_type": "code",
   "execution_count": 2,
   "id": "6cfc687d",
   "metadata": {},
   "outputs": [
    {
     "name": "stdout",
     "output_type": "stream",
     "text": [
      "Merged DataFrame shape: (894, 35)\n"
     ]
    }
   ],
   "source": [
    "\n",
    "# Ensure RegionID exists and matches in both dataframes\n",
    "if 'RegionID' not in zhvi_df.columns or 'RegionID' not in zhvf_df.columns:\n",
    "    raise KeyError(\"Both DataFrames must contain 'RegionID' for merging.\")\n",
    "\n",
    "# Merge dataframes\n",
    "merged_df = zhvi_df.merge(zhvf_df, on='RegionID', suffixes=('_zhvi', '_zhvf'), how='inner')\n",
    "print(f\"Merged DataFrame shape: {merged_df.shape}\")\n"
   ]
  },
  {
   "cell_type": "code",
   "execution_count": 3,
   "id": "25f439c3",
   "metadata": {},
   "outputs": [
    {
     "name": "stdout",
     "output_type": "stream",
     "text": [
      "ROI calculation complete.\n"
     ]
    }
   ],
   "source": [
    "\n",
    "# Specify columns for ZHVI (current value) and ZHVF (forecasted value)\n",
    "roi_column_zhvi = '10/31/2024'  # Replace with the correct column from zhvi_df\n",
    "roi_column_zhvf = '11/30/2024'  # Replace with the correct column from zhvf_df\n",
    "\n",
    "# Check if these columns exist\n",
    "if roi_column_zhvi not in merged_df.columns or roi_column_zhvf not in merged_df.columns:\n",
    "    raise KeyError(f\"Columns '{roi_column_zhvi}' or '{roi_column_zhvf}' do not exist in the merged DataFrame.\")\n",
    "\n",
    "# Calculate ROI\n",
    "merged_df['ROI'] = (merged_df[roi_column_zhvi] - merged_df[roi_column_zhvf]) / merged_df[roi_column_zhvf] * 100\n",
    "print(\"ROI calculation complete.\")\n"
   ]
  },
  {
   "cell_type": "code",
   "execution_count": 4,
   "id": "a6c7c21b",
   "metadata": {},
   "outputs": [
    {
     "name": "stdout",
     "output_type": "stream",
     "text": [
      "Cleaned DataFrame shape: (893, 36)\n"
     ]
    }
   ],
   "source": [
    "\n",
    "# Remove rows with invalid ROI values\n",
    "merged_df = merged_df[np.isfinite(merged_df['ROI'])]\n",
    "merged_df = merged_df.dropna(subset=['ROI'])  # Drop NaN values in ROI\n",
    "print(f\"Cleaned DataFrame shape: {merged_df.shape}\")\n"
   ]
  },
  {
   "cell_type": "code",
   "execution_count": 5,
   "id": "0a8e6ac7-13c8-4f57-823f-681ec8971c39",
   "metadata": {},
   "outputs": [
    {
     "data": {
      "image/png": "[encoded data removed]",
      "text/plain": [
       "<Figure size 1000x600 with 1 Axes>"
      ]
     },
     "metadata": {},
     "output_type": "display_data"
    }
   ],
   "source": [
    "import pandas as pd\n",
    "import matplotlib.pyplot as plt\n",
    "import numpy as np\n",
    "\n",
    "# Load the datasets\n",
    "zhvi_df = pd.read_csv('Metro_zhvi_uc_sfr_tier_0.33_0.67_sm_sa_month.csv')  # Replace with actual file path\n",
    "zhvf_df = pd.read_csv('Metro_zhvf_growth_uc_sfrcondo_tier_0.33_0.67_month.csv')  # Replace with actual file path\n",
    "\n",
    "# Merge the datasets on 'RegionID'\n",
    "merged_df = zhvi_df.merge(zhvf_df, on='RegionID', suffixes=('_zhvi', '_zhvf'), how='inner')\n",
    "\n",
    "# Specify columns for ROI calculation\n",
    "roi_column_zhvi = '10/31/2024'  # Adjust to the correct column name\n",
    "roi_column_zhvf = '11/30/2024'  # Adjust to the correct column name\n",
    "\n",
    "# Ensure the selected columns exist in the merged dataset\n",
    "if roi_column_zhvi in merged_df.columns and roi_column_zhvf in merged_df.columns:\n",
    "    # Calculate ROI\n",
    "    merged_df['ROI'] = (merged_df[roi_column_zhvi] - merged_df[roi_column_zhvf]) / merged_df[roi_column_zhvf] * 100\n",
    "\n",
    "    # Clean the data (remove invalid or non-finite ROI values)\n",
    "    merged_df = merged_df[np.isfinite(merged_df['ROI'])].dropna(subset=['ROI'])\n",
    "\n",
    "    # Create the boxplot\n",
    "    plt.figure(figsize=(10, 6))\n",
    "    plt.boxplot(merged_df['ROI'], vert=False, patch_artist=True, notch=True, showmeans=True)\n",
    "    plt.title(\"Boxplot of ROI\")\n",
    "    plt.xlabel(\"ROI (%)\")\n",
    "    plt.show()\n",
    "else:\n",
    "    print(f\"One or both columns '{roi_column_zhvi}' and '{roi_column_zhvf}' do not exist in the merged dataset.\")\n"
   ]
  },
  {
   "cell_type": "code",
   "execution_count": 6,
   "id": "5ce60b3f-f423-4669-99e7-5105df5f247d",
   "metadata": {},
   "outputs": [
    {
     "name": "stdout",
     "output_type": "stream",
     "text": [
      "Lower Bound: -81024616.83333334, Upper Bound: 13659577.3888889\n"
     ]
    }
   ],
   "source": [
    "# Calculate the IQR for ROI\n",
    "Q1 = merged_df['ROI'].quantile(0.25)  # First quartile (25th percentile)\n",
    "Q3 = merged_df['ROI'].quantile(0.75)  # Third quartile (75th percentile)\n",
    "IQR = Q3 - Q1  # Interquartile range\n",
    "\n",
    "# Define bounds for outliers\n",
    "lower_bound = Q1 - 1.5 * IQR\n",
    "upper_bound = Q3 + 1.5 * IQR\n",
    "\n",
    "print(f\"Lower Bound: {lower_bound}, Upper Bound: {upper_bound}\")"
   ]
  },
  {
   "cell_type": "code",
   "execution_count": 7,
   "id": "d9508b34-516d-4f29-a2a7-5b205343ec32",
   "metadata": {},
   "outputs": [],
   "source": [
    "# Cap outliers at the lower and upper bounds\n",
    "merged_df['ROI'] = merged_df['ROI'].clip(lower=-81024616.83333334, upper=13659577.3888889)\n"
   ]
  },
  {
   "cell_type": "code",
   "execution_count": 8,
   "id": "3e8bdcb1-f898-4ef9-b83a-260ac7b0a3d6",
   "metadata": {},
   "outputs": [
    {
     "name": "stdout",
     "output_type": "stream",
     "text": [
      "Data size before cleaning: 893, after cleaning: 893\n"
     ]
    }
   ],
   "source": [
    "# Calculate the IQR for ROI\n",
    "Q1 = merged_df['ROI'].quantile(0.25)  # First quartile (25th percentile)\n",
    "Q3 = merged_df['ROI'].quantile(0.75)  # Third quartile (75th percentile)\n",
    "IQR = Q3 - Q1  # Interquartile range\n",
    "\n",
    "# Define bounds for outliers\n",
    "lower_bound = Q1 - 1.5 * IQR\n",
    "upper_bound = Q3 + 1.5 * IQR\n",
    "\n",
    "# Remove outliers\n",
    "cleaned_df = merged_df[(merged_df['ROI'] >= lower_bound) & (merged_df['ROI'] <= upper_bound)]\n",
    "print(f\"Data size before cleaning: {merged_df.shape[0]}, after cleaning: {cleaned_df.shape[0]}\")\n"
   ]
  },
  {
   "cell_type": "code",
   "execution_count": 9,
   "id": "51c0c92c-89b7-4ae5-bcdc-adb6f5d106f1",
   "metadata": {},
   "outputs": [
    {
     "data": {
      "image/png": "[encoded data removed]",
      "text/plain": [
       "<Figure size 1000x600 with 1 Axes>"
      ]
     },
     "metadata": {},
     "output_type": "display_data"
    }
   ],
   "source": [
    "# Create the boxplot after cleaning\n",
    "plt.figure(figsize=(10, 6))\n",
    "plt.boxplot(cleaned_df['ROI'], vert=False, patch_artist=True, notch=True, showmeans=True)\n",
    "plt.title(\"Boxplot of ROI After Cleaning\")\n",
    "plt.xlabel(\"ROI (%)\")\n",
    "plt.show()\n"
   ]
  },
  {
   "cell_type": "markdown",
   "id": "4f4cd3af-a1d6-4843-aeb8-95a4efa62d86",
   "metadata": {},
   "source": [
    "### Explanation \n",
    "#### Key Components of the Boxplot:\n",
    "\n",
    "1. **Blue Box**:\n",
    "   - Represents the **Interquartile Range (IQR)**, which spans the middle 50% of the data.\n",
    "   - The lower edge of the box is the first quartile (Q1, 25th percentile), and the upper edge is the third quartile (Q3, 75th percentile).\n",
    "\n",
    "2. **Horizontal Line Inside the Box**:\n",
    "   - Indicates the **median (Q2)**, or the midpoint of the data distribution.\n",
    "\n",
    "3. **Whiskers**:\n",
    "   - Extend to the smallest and largest data points within 1.5 times the IQR from Q1 and Q3, respectively.\n",
    "   - Points beyond the whiskers are considered outliers and have been removed during the cleaning process.\n",
    "\n",
    "4. **Green Triangle**:\n",
    "   - Represents the **mean (average)** of the ROI data after cleaning.\n",
    "   - The mean provides an additional measure of central tendency and allows for comparison with the median.\n",
    "\n",
    "#### Key Observations:\n",
    "- After cleaning, the data is tightly distributed with fewer outliers, as extreme values have been removed.\n",
    "- The mean (green triangle) is slightly shifted from the median (horizontal line), indicating some asymmetry in the data.\n",
    "\n",
    "This cleaned boxplot provides a clearer and more accurate view of the ROI data distribution, making it easier to interpret and analyze trends without the distraction of extreme outliers.\n"
   ]
  },
  {
   "cell_type": "markdown",
   "id": "595ca7b5-77c2-49b3-ab35-91792e4d70b1",
   "metadata": {},
   "source": [
    "### Assumptions:\n",
    "\n",
    "#### Mortgage:\n",
    "- **80% Loan-to-Value (LTV)**.\n",
    "- **5% annual interest rate**.\n",
    "- **30-year term**.\n",
    "\n",
    "#### Dates used for Purchase and Sale Dates:\n",
    "- **Purchase**: January 2023.\n",
    "- **Sale**: September 2024.\n"
   ]
  },
  {
   "cell_type": "code",
   "execution_count": 10,
   "id": "7d8ff4e2-cde3-42bf-9ef9-faebecfda695",
   "metadata": {},
   "outputs": [
    {
     "name": "stdout",
     "output_type": "stream",
     "text": [
      "   RegionID  SizeRank       RegionName RegionType StateName  1/31/2023  \\\n",
      "0    394913         1     New York, NY        msa        NY   525000.0   \n",
      "1    753899         2  Los Angeles, CA        msa        CA   805000.0   \n",
      "2    394463         3      Chicago, IL        msa        IL   252500.0   \n",
      "3    394514         4       Dallas, TX        msa        TX   350000.0   \n",
      "4    394692         5      Houston, TX        msa        TX   294500.0   \n",
      "\n",
      "   2/28/2023  3/31/2023  4/30/2023  5/31/2023  ...  12/31/2023  1/31/2024  \\\n",
      "0   510000.0   515000.0   530000.0   550000.0  ...    575000.0   570000.0   \n",
      "1   824000.0   840000.0   850000.0   860000.0  ...    870000.0   865000.0   \n",
      "2   259900.0   280000.0   289000.0   300000.0  ...    280000.0   279900.0   \n",
      "3   367500.0   370000.0   381000.0   391000.0  ...    368000.0   368000.0   \n",
      "4   300000.0   310000.0   319900.0   325000.0  ...    310000.0   306000.0   \n",
      "\n",
      "   2/29/2024  3/31/2024  4/30/2024  5/31/2024  6/30/2024  7/31/2024  \\\n",
      "0   565000.0   575000.0   585000.0   615000.0   640000.0   650000.0   \n",
      "1   915000.0   916500.0   950000.0   970000.0   960000.0   950500.0   \n",
      "2   285000.0   300000.0   315000.0   325000.0   337275.0   330000.0   \n",
      "3   380000.0   390000.0   400000.0   405000.0   400000.0   395000.0   \n",
      "4   325000.0   322000.0   340000.0   344500.0   348000.0   346000.0   \n",
      "\n",
      "   8/31/2024  9/30/2024  \n",
      "0   640000.0     629000  \n",
      "1   935000.0     915000  \n",
      "2   320000.0     320000  \n",
      "3   390000.0     381925  \n",
      "4   327500.0     330000  \n",
      "\n",
      "[5 rows x 26 columns]\n"
     ]
    }
   ],
   "source": [
    "sale_price_df = pd.read_csv('Metro_median_sale_price_uc_sfrcondo_month.csv')\n",
    "print(sale_price_df.head())  \n"
   ]
  },
  {
   "cell_type": "code",
   "execution_count": null,
   "id": "e637fc08-892b-4bd1-a270-00055eba6521",
   "metadata": {},
   "outputs": [],
   "source": []
  },
  {
   "cell_type": "code",
   "execution_count": 11,
   "id": "17cefa75-48ab-479a-9ded-8d82d8ed0c9e",
   "metadata": {},
   "outputs": [
    {
     "name": "stdout",
     "output_type": "stream",
     "text": [
      "Index(['RegionID', 'SizeRank', 'RegionName', 'RegionType', 'StateName',\n",
      "       '1/31/2023', '2/28/2023', '3/31/2023', '4/30/2023', '5/31/2023',\n",
      "       '6/30/2023', '7/31/2023', '8/31/2023', '9/30/2023', '10/31/2023',\n",
      "       '11/30/2023', '12/31/2023', '1/31/2024', '2/29/2024', '3/31/2024',\n",
      "       '4/30/2024', '5/31/2024', '6/30/2024', '7/31/2024', '8/31/2024',\n",
      "       '9/30/2024', '10/31/2024'],\n",
      "      dtype='object')\n",
      "Index(['RegionID', 'SizeRank', 'RegionName', 'RegionType', 'StateName',\n",
      "       '1/31/2023', '2/28/2023', '3/31/2023', '4/30/2023', '5/31/2023',\n",
      "       '6/30/2023', '7/31/2023', '8/31/2023', '9/30/2023', '10/31/2023',\n",
      "       '11/30/2023', '12/31/2023', '1/31/2024', '2/29/2024', '3/31/2024',\n",
      "       '4/30/2024', '5/31/2024', '6/30/2024', '7/31/2024', '8/31/2024',\n",
      "       '9/30/2024'],\n",
      "      dtype='object')\n"
     ]
    }
   ],
   "source": [
    "print(zhvi_df.columns)\n",
    "print(sale_price_df.columns)\n"
   ]
  },
  {
   "cell_type": "code",
   "execution_count": 12,
   "id": "94222bb4-ab1a-4eea-9c1f-b4b8451e6d2a",
   "metadata": {},
   "outputs": [],
   "source": [
    "zhvi_df = pd.read_csv('Metro_zhvi_uc_sfr_tier_0.33_0.67_sm_sa_month.csv')\n",
    "sale_price_df = pd.read_csv('Metro_median_sale_price_uc_sfrcondo_month.csv')\n"
   ]
  },
  {
   "cell_type": "code",
   "execution_count": 13,
   "id": "69778ff1-9e71-49da-9568-9d388550b336",
   "metadata": {},
   "outputs": [],
   "source": [
    "merged_df = zhvi_df.merge(sale_price_df, on=\"RegionID\", suffixes=(\"_purchase\", \"_sale\"))"
   ]
  },
  {
   "cell_type": "code",
   "execution_count": 14,
   "id": "3548a7a3-f92c-4444-be59-90d1d7dcce9d",
   "metadata": {},
   "outputs": [
    {
     "name": "stdout",
     "output_type": "stream",
     "text": [
      "Index(['RegionID', 'SizeRank_purchase', 'RegionName_purchase',\n",
      "       'RegionType_purchase', 'StateName_purchase', '1/31/2023_purchase',\n",
      "       '2/28/2023_purchase', '3/31/2023_purchase', '4/30/2023_purchase',\n",
      "       '5/31/2023_purchase', '6/30/2023_purchase', '7/31/2023_purchase',\n",
      "       '8/31/2023_purchase', '9/30/2023_purchase', '10/31/2023_purchase',\n",
      "       '11/30/2023_purchase', '12/31/2023_purchase', '1/31/2024_purchase',\n",
      "       '2/29/2024_purchase', '3/31/2024_purchase', '4/30/2024_purchase',\n",
      "       '5/31/2024_purchase', '6/30/2024_purchase', '7/31/2024_purchase',\n",
      "       '8/31/2024_purchase', '9/30/2024_purchase', '10/31/2024',\n",
      "       'SizeRank_sale', 'RegionName_sale', 'RegionType_sale', 'StateName_sale',\n",
      "       '1/31/2023_sale', '2/28/2023_sale', '3/31/2023_sale', '4/30/2023_sale',\n",
      "       '5/31/2023_sale', '6/30/2023_sale', '7/31/2023_sale', '8/31/2023_sale',\n",
      "       '9/30/2023_sale', '10/31/2023_sale', '11/30/2023_sale',\n",
      "       '12/31/2023_sale', '1/31/2024_sale', '2/29/2024_sale', '3/31/2024_sale',\n",
      "       '4/30/2024_sale', '5/31/2024_sale', '6/30/2024_sale', '7/31/2024_sale',\n",
      "       '8/31/2024_sale', '9/30/2024_sale'],\n",
      "      dtype='object')\n"
     ]
    }
   ],
   "source": [
    "print(merged_df.columns)"
   ]
  },
  {
   "cell_type": "code",
   "execution_count": 15,
   "id": "797bdd20-f6b2-43b3-bd85-473938290dbd",
   "metadata": {},
   "outputs": [
    {
     "name": "stdout",
     "output_type": "stream",
     "text": [
      "Average Profit Percentage: -87.00%\n"
     ]
    }
   ],
   "source": [
    "# Correct the purchase and sale price column references\n",
    "purchase_date = \"1/31/2023_purchase\"  # Adjusted for ZHVI with suffix\n",
    "sale_date = \"3/31/2024_sale\"         # Adjusted for Sale Price with suffix\n",
    "\n",
    "# Calculate Purchase Price and Sale Price\n",
    "merged_df[\"Purchase Price\"] = merged_df[purchase_date]\n",
    "merged_df[\"Sale Price\"] = merged_df[sale_date]\n",
    "\n",
    "\n",
    "merged_df[\"Mortgage Paid\"] = 0.8 * merged_df[\"Purchase Price\"] * (1 + 0.05 * 1.75)\n",
    "\n",
    "# Calculate Net Profit\n",
    "merged_df[\"Net Profit\"] = merged_df[\"Sale Price\"] - merged_df[\"Purchase Price\"] - merged_df[\"Mortgage Paid\"]\n",
    "\n",
    "# Calculate Profit Percentage\n",
    "merged_df[\"Profit Percentage\"] = (merged_df[\"Net Profit\"] / merged_df[\"Purchase Price\"]) * 100\n",
    "\n",
    "# Calculate Average Profit Percentage\n",
    "average_profit_percentage = merged_df[\"Profit Percentage\"].mean()\n",
    "\n",
    "print(f\"Average Profit Percentage: {average_profit_percentage:.2f}%\")\n"
   ]
  },
  {
   "cell_type": "code",
   "execution_count": 16,
   "id": "06cf95b8-8f94-450d-b6cd-9d9ecee100a0",
   "metadata": {},
   "outputs": [],
   "source": [
    "merged_df = merged_df[(merged_df[\"Purchase Price\"] > 0) & (merged_df[\"Sale Price\"] > 0)]"
   ]
  },
  {
   "cell_type": "code",
   "execution_count": 17,
   "id": "ac7370dd-a338-4ded-ad3e-d7c11a799c77",
   "metadata": {},
   "outputs": [
    {
     "name": "stdout",
     "output_type": "stream",
     "text": [
      "   RegionID  SizeRank_purchase RegionName_purchase RegionType_purchase  \\\n",
      "0    394913                  1        New York, NY                 msa   \n",
      "1    753899                  2     Los Angeles, CA                 msa   \n",
      "2    394463                  3         Chicago, IL                 msa   \n",
      "3    394514                  4          Dallas, TX                 msa   \n",
      "4    394692                  5         Houston, TX                 msa   \n",
      "\n",
      "  StateName_purchase  1/31/2023_purchase  2/28/2023_purchase  \\\n",
      "0                 NY         618315.3511         617846.0641   \n",
      "1                 CA         903986.6773         892731.2695   \n",
      "2                 IL         304945.1226         305039.9586   \n",
      "3                 TX         372484.0732         370230.9292   \n",
      "4                 TX         307389.9912         305680.3944   \n",
      "\n",
      "   3/31/2023_purchase  4/30/2023_purchase  5/31/2023_purchase  ...  \\\n",
      "0         618981.3400         621750.6512         626320.7805  ...   \n",
      "1         882677.7305         880399.7757         884651.7303  ...   \n",
      "2         305928.1024         307807.3543         310078.1220  ...   \n",
      "3         368702.7284         368168.7980         368468.2531  ...   \n",
      "4         304498.9292         304023.1966         304154.0559  ...   \n",
      "\n",
      "   5/31/2024_sale  6/30/2024_sale  7/31/2024_sale  8/31/2024_sale  \\\n",
      "0        615000.0        640000.0        650000.0        640000.0   \n",
      "1        970000.0        960000.0        950500.0        935000.0   \n",
      "2        325000.0        337275.0        330000.0        320000.0   \n",
      "3        405000.0        400000.0        395000.0        390000.0   \n",
      "4        344500.0        348000.0        346000.0        327500.0   \n",
      "\n",
      "   9/30/2024_sale  Purchase Price  Sale Price  Mortgage Paid     Net Profit  \\\n",
      "0          629000     618315.3511    575000.0  537934.355457 -581249.706557   \n",
      "1          915000     903986.6773    916500.0  786468.409251 -773955.086551   \n",
      "2          320000     304945.1226    300000.0  265302.256662 -270247.379262   \n",
      "3          381925     372484.0732    390000.0  324061.143684 -306545.216884   \n",
      "4          330000     307389.9912    322000.0  267429.292344 -252819.283544   \n",
      "\n",
      "   Profit Percentage  \n",
      "0         -94.005382  \n",
      "1         -85.615762  \n",
      "2         -88.621643  \n",
      "3         -82.297537  \n",
      "4         -82.247077  \n",
      "\n",
      "[5 rows x 57 columns]\n"
     ]
    }
   ],
   "source": [
    "print(merged_df.head())"
   ]
  },
  {
   "cell_type": "code",
   "execution_count": 18,
   "id": "72e2ad56-0099-42b2-bfad-b9a71c19451f",
   "metadata": {},
   "outputs": [
    {
     "name": "stdout",
     "output_type": "stream",
     "text": [
      "Adjusted Average Profit Percentage: -87.00%\n"
     ]
    }
   ],
   "source": [
    "# Adjust Mortgage Paid for 1.75 years\n",
    "merged_df[\"Mortgage Paid\"] = 0.8 * merged_df[\"Purchase Price\"] * (1 + 0.05 * 1.75)\n",
    "\n",
    "# Recalculate Net Profit and Profit Percentage\n",
    "merged_df[\"Net Profit\"] = merged_df[\"Sale Price\"] - merged_df[\"Purchase Price\"] - merged_df[\"Mortgage Paid\"]\n",
    "merged_df[\"Profit Percentage\"] = (merged_df[\"Net Profit\"] / merged_df[\"Purchase Price\"]) * 100\n",
    "\n",
    "# Exclude Outliers\n",
    "merged_df = merged_df[(merged_df[\"Purchase Price\"] > 0) & (merged_df[\"Sale Price\"] > 0)]\n",
    "\n",
    "# Calculate Average Profit Percentage\n",
    "average_profit_percentage = merged_df[\"Profit Percentage\"].mean()\n",
    "print(f\"Adjusted Average Profit Percentage: {average_profit_percentage:.2f}%\")\n"
   ]
  },
  {
   "cell_type": "code",
   "execution_count": 19,
   "id": "1c002a04-793d-4a36-b4c8-8174f41c4d21",
   "metadata": {},
   "outputs": [
    {
     "name": "stdout",
     "output_type": "stream",
     "text": [
      "Average Profit Percentage after 6 months: -18.25%\n"
     ]
    }
   ],
   "source": [
    "# Ensure merged_df is a deep copy\n",
    "merged_df = merged_df.copy()\n",
    "\n",
    "# Inputs\n",
    "n_months = 6\n",
    "annual_interest_rate = 0.05\n",
    "monthly_interest_rate = annual_interest_rate / 12\n",
    "loan_to_value = 0.8\n",
    "down_payment_percentage = 1 - loan_to_value\n",
    "net_gain_from_upgrades = 10000\n",
    "\n",
    "# Calculate Loan Amount\n",
    "merged_df.loc[:, \"Loan Amount\"] = loan_to_value * merged_df[\"Purchase Price\"]\n",
    "\n",
    "# Calculate Down Payment\n",
    "merged_df.loc[:, \"Down Payment\"] = down_payment_percentage * merged_df[\"Purchase Price\"]\n",
    "\n",
    "# Calculate Monthly Mortgage Payment\n",
    "merged_df.loc[:, \"Monthly Mortgage Payment\"] = merged_df[\"Loan Amount\"] * (\n",
    "    monthly_interest_rate * (1 + monthly_interest_rate) ** 360\n",
    ") / ((1 + monthly_interest_rate) ** 360 - 1)\n",
    "\n",
    "# Calculate Total Mortgage Paid for n months\n",
    "merged_df.loc[:, \"Total Mortgage Paid\"] = merged_df[\"Monthly Mortgage Payment\"] * n_months\n",
    "\n",
    "# Adjust Sale Price Based on Upgrades\n",
    "merged_df.loc[:, \"Adjusted Sale Price\"] = merged_df[\"Sale Price\"] + net_gain_from_upgrades\n",
    "\n",
    "# Calculate Net Profit\n",
    "merged_df.loc[:, \"Net Profit\"] = (\n",
    "    merged_df[\"Adjusted Sale Price\"]\n",
    "    - merged_df[\"Purchase Price\"]\n",
    "    - merged_df[\"Total Mortgage Paid\"]\n",
    "    - merged_df[\"Down Payment\"]\n",
    ")\n",
    "\n",
    "# Calculate Profit Percentage\n",
    "merged_df.loc[:, \"Profit Percentage\"] = (merged_df[\"Net Profit\"] / merged_df[\"Purchase Price\"]) * 100\n",
    "\n",
    "# Calculate Average Profit Percentage\n",
    "average_profit_percentage = merged_df[\"Profit Percentage\"].mean()\n",
    "print(f\"Average Profit Percentage after {n_months} months: {average_profit_percentage:.2f}%\")\n"
   ]
  },
  {
   "cell_type": "code",
   "execution_count": 20,
   "id": "b44ba331-7950-4462-8b0c-c2d9b7b85182",
   "metadata": {},
   "outputs": [
    {
     "name": "stdout",
     "output_type": "stream",
     "text": [
      "Average Profit Percentage after 4 months: -17.39%\n"
     ]
    }
   ],
   "source": [
    "# Ensure merged_df is a deep copy\n",
    "merged_df = merged_df.copy()\n",
    "\n",
    "# Inputs\n",
    "n_months = 4\n",
    "annual_interest_rate = 0.05\n",
    "monthly_interest_rate = annual_interest_rate / 12\n",
    "loan_to_value = 0.8\n",
    "down_payment_percentage = 1 - loan_to_value\n",
    "net_gain_from_upgrades = 10000\n",
    "\n",
    "# Calculate Loan Amount\n",
    "merged_df.loc[:, \"Loan Amount\"] = loan_to_value * merged_df[\"Purchase Price\"]\n",
    "\n",
    "# Calculate Down Payment\n",
    "merged_df.loc[:, \"Down Payment\"] = down_payment_percentage * merged_df[\"Purchase Price\"]\n",
    "\n",
    "# Calculate Monthly Mortgage Payment\n",
    "merged_df.loc[:, \"Monthly Mortgage Payment\"] = merged_df[\"Loan Amount\"] * (\n",
    "    monthly_interest_rate * (1 + monthly_interest_rate) ** 360\n",
    ") / ((1 + monthly_interest_rate) ** 360 - 1)\n",
    "\n",
    "# Calculate Total Mortgage Paid for n months\n",
    "merged_df.loc[:, \"Total Mortgage Paid\"] = merged_df[\"Monthly Mortgage Payment\"] * n_months\n",
    "\n",
    "# Adjust Sale Price Based on Upgrades\n",
    "merged_df.loc[:, \"Adjusted Sale Price\"] = merged_df[\"Sale Price\"] + net_gain_from_upgrades\n",
    "\n",
    "# Calculate Net Profit\n",
    "merged_df.loc[:, \"Net Profit\"] = (\n",
    "    merged_df[\"Adjusted Sale Price\"]\n",
    "    - merged_df[\"Purchase Price\"]\n",
    "    - merged_df[\"Total Mortgage Paid\"]\n",
    "    - merged_df[\"Down Payment\"]\n",
    ")\n",
    "\n",
    "# Calculate Profit Percentage\n",
    "merged_df.loc[:, \"Profit Percentage\"] = (merged_df[\"Net Profit\"] / merged_df[\"Purchase Price\"]) * 100\n",
    "\n",
    "# Calculate Average Profit Percentage\n",
    "average_profit_percentage = merged_df[\"Profit Percentage\"].mean()\n",
    "print(f\"Average Profit Percentage after {n_months} months: {average_profit_percentage:.2f}%\")\n"
   ]
  },
  {
   "cell_type": "code",
   "execution_count": 21,
   "id": "97ebdeca-1f70-4ecd-b444-b6d624221351",
   "metadata": {},
   "outputs": [
    {
     "name": "stdout",
     "output_type": "stream",
     "text": [
      "Average Profit Percentage after 10 months: -19.97%\n"
     ]
    }
   ],
   "source": [
    "# Ensure merged_df is a deep copy\n",
    "merged_df = merged_df.copy()\n",
    "\n",
    "# Inputs\n",
    "n_months = 10\n",
    "annual_interest_rate = 0.05\n",
    "monthly_interest_rate = annual_interest_rate / 12\n",
    "loan_to_value = 0.8\n",
    "down_payment_percentage = 1 - loan_to_value\n",
    "net_gain_from_upgrades = 10000\n",
    "\n",
    "# Calculate Loan Amount\n",
    "merged_df.loc[:, \"Loan Amount\"] = loan_to_value * merged_df[\"Purchase Price\"]\n",
    "\n",
    "# Calculate Down Payment\n",
    "merged_df.loc[:, \"Down Payment\"] = down_payment_percentage * merged_df[\"Purchase Price\"]\n",
    "\n",
    "# Calculate Monthly Mortgage Payment\n",
    "merged_df.loc[:, \"Monthly Mortgage Payment\"] = merged_df[\"Loan Amount\"] * (\n",
    "    monthly_interest_rate * (1 + monthly_interest_rate) ** 360\n",
    ") / ((1 + monthly_interest_rate) ** 360 - 1)\n",
    "\n",
    "# Calculate Total Mortgage Paid for n months\n",
    "merged_df.loc[:, \"Total Mortgage Paid\"] = merged_df[\"Monthly Mortgage Payment\"] * n_months\n",
    "\n",
    "# Adjust Sale Price Based on Upgrades\n",
    "merged_df.loc[:, \"Adjusted Sale Price\"] = merged_df[\"Sale Price\"] + net_gain_from_upgrades\n",
    "\n",
    "# Calculate Net Profit\n",
    "merged_df.loc[:, \"Net Profit\"] = (\n",
    "    merged_df[\"Adjusted Sale Price\"]\n",
    "    - merged_df[\"Purchase Price\"]\n",
    "    - merged_df[\"Total Mortgage Paid\"]\n",
    "    - merged_df[\"Down Payment\"]\n",
    ")\n",
    "\n",
    "# Calculate Profit Percentage\n",
    "merged_df.loc[:, \"Profit Percentage\"] = (merged_df[\"Net Profit\"] / merged_df[\"Purchase Price\"]) * 100\n",
    "\n",
    "# Calculate Average Profit Percentage\n",
    "average_profit_percentage = merged_df[\"Profit Percentage\"].mean()\n",
    "print(f\"Average Profit Percentage after {n_months} months: {average_profit_percentage:.2f}%\")\n"
   ]
  },
  {
   "cell_type": "code",
   "execution_count": 22,
   "id": "bdd4445f-2d9c-4fbf-b2f7-9e8253d8d50c",
   "metadata": {},
   "outputs": [
    {
     "name": "stdout",
     "output_type": "stream",
     "text": [
      "Average Profit Percentage for profitable cases: 34.28%\n",
      "Number of properties meeting the profit threshold: 7\n"
     ]
    }
   ],
   "source": [
    "# Inputs\n",
    "n_months = 6  # Number of months held\n",
    "annual_interest_rate = 0.05  # Annual interest rate (5%)\n",
    "monthly_interest_rate = annual_interest_rate / 12\n",
    "loan_to_value = 0.8  # 80% Loan-to-Value ratio\n",
    "down_payment_percentage = 1 - loan_to_value  # 20% Down Payment\n",
    "upgrades_cost = 15000  # Example cost of upgrades ($)\n",
    "required_profit_percentage = 20  # Minimum profit percentage to justify upgrades\n",
    "\n",
    "# Ensure merged_df is a deep copy\n",
    "merged_df = merged_df.copy()\n",
    "\n",
    "# Calculate Loan Amount\n",
    "merged_df.loc[:, \"Loan Amount\"] = loan_to_value * merged_df[\"Purchase Price\"]\n",
    "\n",
    "# Calculate Down Payment\n",
    "merged_df.loc[:, \"Down Payment\"] = down_payment_percentage * merged_df[\"Purchase Price\"]\n",
    "\n",
    "# Calculate Monthly Mortgage Payment\n",
    "merged_df.loc[:, \"Monthly Mortgage Payment\"] = merged_df[\"Loan Amount\"] * (\n",
    "    monthly_interest_rate * (1 + monthly_interest_rate) ** 360\n",
    ") / ((1 + monthly_interest_rate) ** 360 - 1)\n",
    "\n",
    "# Total Mortgage Paid for n months\n",
    "merged_df.loc[:, \"Total Mortgage Paid\"] = merged_df[\"Monthly Mortgage Payment\"] * n_months\n",
    "\n",
    "# Adjust Sale Price for Upgrades\n",
    "net_gain_from_upgrades = 20000  # Example net gain from upgrades ($)\n",
    "merged_df.loc[:, \"Adjusted Sale Price\"] = merged_df[\"Sale Price\"] + net_gain_from_upgrades\n",
    "\n",
    "# Calculate Net Profit including Upgrades Cost\n",
    "merged_df.loc[:, \"Net Profit\"] = (\n",
    "    merged_df[\"Adjusted Sale Price\"]\n",
    "    - merged_df[\"Purchase Price\"]\n",
    "    - merged_df[\"Down Payment\"]\n",
    "    - merged_df[\"Total Mortgage Paid\"]\n",
    "    - upgrades_cost  # Include upgrades cost\n",
    ")\n",
    "\n",
    "# Calculate Profit Percentage\n",
    "merged_df.loc[:, \"Profit Percentage\"] = (merged_df[\"Net Profit\"] / merged_df[\"Purchase Price\"]) * 100\n",
    "\n",
    "# Filter rows meeting the required profit percentage\n",
    "profitable_upgrades = merged_df[merged_df[\"Profit Percentage\"] >= required_profit_percentage]\n",
    "\n",
    "# Calculate Average Profit Percentage for these cases\n",
    "average_profit_percentage = profitable_upgrades[\"Profit Percentage\"].mean()\n",
    "\n",
    "# Output results\n",
    "print(f\"Average Profit Percentage for profitable cases: {average_profit_percentage:.2f}%\")\n",
    "print(f\"Number of properties meeting the profit threshold: {len(profitable_upgrades)}\")\n"
   ]
  },
  {
   "cell_type": "code",
   "execution_count": 24,
   "id": "8714e6b2-68bc-492b-a7f8-06bad3a75c0b",
   "metadata": {},
   "outputs": [
    {
     "name": "stdout",
     "output_type": "stream",
     "text": [
      "Number of profitable areas: 7\n"
     ]
    },
    {
     "data": {
      "image/png": "[encoded data removed]",
      "text/plain": [
       "<Figure size 1200x600 with 1 Axes>"
      ]
     },
     "metadata": {},
     "output_type": "display_data"
    }
   ],
   "source": [
    "import pandas as pd\n",
    "import matplotlib.pyplot as plt\n",
    "\n",
    "# Ensure profitable_properties is defined\n",
    "required_profit_percentage = 20  # Minimum profit percentage to include\n",
    "profitable_properties = merged_df[merged_df[\"Profit Percentage\"] >= required_profit_percentage]\n",
    "\n",
    "# Check if the columns exist\n",
    "grouping_columns = [\"RegionName_purchase\", \"StateName_purchase\"]  # Adjust to available columns\n",
    "if not all(col in profitable_properties.columns for col in grouping_columns):\n",
    "    print(f\"Available columns: {profitable_properties.columns}\")\n",
    "    grouping_columns = [\"StateName_purchase\"]  # Fall back to StateName_purchase if RegionName_purchase is unavailable\n",
    "\n",
    "# Group and summarize by region\n",
    "area_summary = (\n",
    "    profitable_properties.groupby(grouping_columns)\n",
    "    .agg(\n",
    "        Total_Profitable_Properties=(\"Profit Percentage\", \"count\"),\n",
    "        Average_Profit_Percentage=(\"Profit Percentage\", \"mean\")\n",
    "    )\n",
    "    .sort_values(by=\"Average_Profit_Percentage\", ascending=False)\n",
    ")\n",
    "\n",
    "# Print summary statistics\n",
    "print(f\"Number of profitable areas: {len(area_summary)}\")\n",
    "\n",
    "# Visualization of the top 10 profitable areas\n",
    "top_areas = area_summary.head(10)\n",
    "top_areas.reset_index(inplace=True)\n",
    "\n",
    "plt.figure(figsize=(12, 6))\n",
    "plt.barh(\n",
    "    top_areas[\"RegionName_purchase\"],\n",
    "    top_areas[\"Average_Profit_Percentage\"],\n",
    "    color=\"skyblue\"\n",
    ")\n",
    "plt.xlabel(\"Average Profit Percentage\")\n",
    "plt.ylabel(\"Region Name\")\n",
    "plt.title(\"Top 10 Profitable Areas by Average Profit Percentage\")\n",
    "plt.gca().invert_yaxis()  # Reverse the order for better readability\n",
    "plt.tight_layout()\n",
    "plt.show()\n"
   ]
  },
  {
   "cell_type": "code",
   "execution_count": 25,
   "id": "c1965810-0598-4cdc-9a52-d5f5b5e34155",
   "metadata": {},
   "outputs": [
    {
     "name": "stdout",
     "output_type": "stream",
     "text": [
      "Available columns: Index(['RegionID', 'SizeRank_purchase', 'RegionName_purchase',\n",
      "       'RegionType_purchase', 'StateName_purchase', '1/31/2023_purchase',\n",
      "       '2/28/2023_purchase', '3/31/2023_purchase', '4/30/2023_purchase',\n",
      "       '5/31/2023_purchase', '6/30/2023_purchase', '7/31/2023_purchase',\n",
      "       '8/31/2023_purchase', '9/30/2023_purchase', '10/31/2023_purchase',\n",
      "       '11/30/2023_purchase', '12/31/2023_purchase', '1/31/2024_purchase',\n",
      "       '2/29/2024_purchase', '3/31/2024_purchase', '4/30/2024_purchase',\n",
      "       '5/31/2024_purchase', '6/30/2024_purchase', '7/31/2024_purchase',\n",
      "       '8/31/2024_purchase', '9/30/2024_purchase', '10/31/2024',\n",
      "       'SizeRank_sale', 'RegionName_sale', 'RegionType_sale', 'StateName_sale',\n",
      "       '1/31/2023_sale', '2/28/2023_sale', '3/31/2023_sale', '4/30/2023_sale',\n",
      "       '5/31/2023_sale', '6/30/2023_sale', '7/31/2023_sale', '8/31/2023_sale',\n",
      "       '9/30/2023_sale', '10/31/2023_sale', '11/30/2023_sale',\n",
      "       '12/31/2023_sale', '1/31/2024_sale', '2/29/2024_sale', '3/31/2024_sale',\n",
      "       '4/30/2024_sale', '5/31/2024_sale', '6/30/2024_sale', '7/31/2024_sale',\n",
      "       '8/31/2024_sale', '9/30/2024_sale', 'Purchase Price', 'Sale Price',\n",
      "       'Mortgage Paid', 'Net Profit', 'Profit Percentage', 'Loan Amount',\n",
      "       'Down Payment', 'Monthly Mortgage Payment', 'Total Mortgage Paid',\n",
      "       'Adjusted Sale Price'],\n",
      "      dtype='object')\n",
      "Number of profitable areas: 7\n"
     ]
    }
   ],
   "source": [
    "# Check if the columns exist\n",
    "grouping_columns = [\"RegionName\", \"StateName\"]  # Adjust to available columns\n",
    "if not all(col in profitable_properties.columns for col in grouping_columns):\n",
    "    print(f\"Available columns: {profitable_properties.columns}\")\n",
    "    grouping_columns = [\"RegionID\"]  # Fall back to RegionID if others are unavailable\n",
    "\n",
    "# Group and summarize by region\n",
    "area_summary = (\n",
    "    profitable_properties.groupby(grouping_columns)\n",
    "    .agg(\n",
    "        Total_Profitable_Properties=(\"Profit Percentage\", \"count\"),\n",
    "        Average_Profit_Percentage=(\"Profit Percentage\", \"mean\")\n",
    "    )\n",
    "    .sort_values(by=\"Average_Profit_Percentage\", ascending=False)\n",
    ")\n",
    "\n",
    "print(f\"Number of profitable areas: {len(area_summary)}\")\n"
   ]
  },
  {
   "cell_type": "code",
   "execution_count": 26,
   "id": "dbf982e6-b892-439a-8102-17a8e111eb70",
   "metadata": {},
   "outputs": [
    {
     "name": "stdout",
     "output_type": "stream",
     "text": [
      "Available columns: Index(['RegionID', 'SizeRank_purchase', 'RegionName_purchase',\n",
      "       'RegionType_purchase', 'StateName_purchase', '1/31/2023_purchase',\n",
      "       '2/28/2023_purchase', '3/31/2023_purchase', '4/30/2023_purchase',\n",
      "       '5/31/2023_purchase', '6/30/2023_purchase', '7/31/2023_purchase',\n",
      "       '8/31/2023_purchase', '9/30/2023_purchase', '10/31/2023_purchase',\n",
      "       '11/30/2023_purchase', '12/31/2023_purchase', '1/31/2024_purchase',\n",
      "       '2/29/2024_purchase', '3/31/2024_purchase', '4/30/2024_purchase',\n",
      "       '5/31/2024_purchase', '6/30/2024_purchase', '7/31/2024_purchase',\n",
      "       '8/31/2024_purchase', '9/30/2024_purchase', '10/31/2024',\n",
      "       'SizeRank_sale', 'RegionName_sale', 'RegionType_sale', 'StateName_sale',\n",
      "       '1/31/2023_sale', '2/28/2023_sale', '3/31/2023_sale', '4/30/2023_sale',\n",
      "       '5/31/2023_sale', '6/30/2023_sale', '7/31/2023_sale', '8/31/2023_sale',\n",
      "       '9/30/2023_sale', '10/31/2023_sale', '11/30/2023_sale',\n",
      "       '12/31/2023_sale', '1/31/2024_sale', '2/29/2024_sale', '3/31/2024_sale',\n",
      "       '4/30/2024_sale', '5/31/2024_sale', '6/30/2024_sale', '7/31/2024_sale',\n",
      "       '8/31/2024_sale', '9/30/2024_sale', 'Purchase Price', 'Sale Price',\n",
      "       'Mortgage Paid', 'Net Profit', 'Profit Percentage', 'Loan Amount',\n",
      "       'Down Payment', 'Monthly Mortgage Payment', 'Total Mortgage Paid',\n",
      "       'Adjusted Sale Price'],\n",
      "      dtype='object')\n",
      "Number of profitable areas: 7\n"
     ]
    },
    {
     "data": {
      "image/png": "[encoded data removed]",
      "text/plain": [
       "<Figure size 1200x600 with 1 Axes>"
      ]
     },
     "metadata": {},
     "output_type": "display_data"
    }
   ],
   "source": [
    "# Assuming 'profitable_properties' DataFrame is already prepared\n",
    "\n",
    "# Check if the columns exist\n",
    "grouping_columns = [\"RegionName\", \"StateName\"]  # Adjust to available columns\n",
    "if not all(col in profitable_properties.columns for col in grouping_columns):\n",
    "    print(f\"Available columns: {profitable_properties.columns}\")\n",
    "    grouping_columns = [\"RegionID\"]  # Fall back to RegionID if others are unavailable\n",
    "\n",
    "# Group and summarize by region\n",
    "area_summary = (\n",
    "    profitable_properties.groupby(grouping_columns)\n",
    "    .agg(\n",
    "        Total_Profitable_Properties=(\"Profit Percentage\", \"count\"),\n",
    "        Average_Profit_Percentage=(\"Profit Percentage\", \"mean\")\n",
    "    )\n",
    "    .sort_values(by=\"Average_Profit_Percentage\", ascending=False)\n",
    ")\n",
    "\n",
    "# Print summary statistics\n",
    "print(f\"Number of profitable areas: {len(area_summary)}\")\n",
    "\n",
    "# Visualization of the top 10 profitable areas\n",
    "top_areas = area_summary.head(10)\n",
    "top_areas.reset_index(inplace=True)\n",
    "\n",
    "plt.figure(figsize=(12, 6))\n",
    "plt.barh(\n",
    "    top_areas[\"RegionName\"] if \"RegionName\" in grouping_columns else top_areas[\"RegionID\"],\n",
    "    top_areas[\"Average_Profit_Percentage\"],\n",
    "    color=\"skyblue\"\n",
    ")\n",
    "plt.xlabel(\"Average Profit Percentage\")\n",
    "plt.ylabel(\"Region Name\" if \"RegionName\" in grouping_columns else \"Region ID\")\n",
    "plt.title(\"Top 10 Profitable Areas by Average Profit Percentage\")\n",
    "plt.gca().invert_yaxis()  # Reverse the order for better readability\n",
    "plt.tight_layout()\n",
    "plt.show()\n"
   ]
  },
  {
   "cell_type": "code",
   "execution_count": null,
   "id": "316fa889-436d-4053-8f87-dfb379fde02e",
   "metadata": {},
   "outputs": [],
   "source": [
    "print (profitable_properties)"
   ]
  },
  {
   "cell_type": "code",
   "execution_count": null,
   "id": "7aebe8e9-fa62-478d-b8b9-97bfc5eafb4a",
   "metadata": {},
   "outputs": [],
   "source": [
    "import pandas as pd\n",
    "import matplotlib.pyplot as plt\n",
    "\n",
    "# Assuming 'profitable_properties' DataFrame is already prepared\n",
    "\n",
    "# Check if the columns exist\n",
    "grouping_columns = [\"RegionName_purchase\", \"StateName_purchase\"]  # Adjusted to available columns\n",
    "if not all(col in profitable_properties.columns for col in grouping_columns):\n",
    "    print(f\"Available columns: {profitable_properties.columns}\")\n",
    "    grouping_columns = [\"StateName_purchase\"]  # Fall back to StateName_purchase if RegionName_purchase is unavailable\n",
    "\n",
    "# Group and summarize by region\n",
    "area_summary = (\n",
    "    profitable_properties.groupby(grouping_columns)\n",
    "    .agg(\n",
    "        Total_Profitable_Properties=(\"Profit Percentage\", \"count\"),\n",
    "        Average_Profit_Percentage=(\"Profit Percentage\", \"mean\")\n",
    "    )\n",
    "    .sort_values(by=\"Average_Profit_Percentage\", ascending=False)\n",
    ")\n",
    "\n",
    "# Print summary statistics\n",
    "print(f\"Number of profitable areas: {len(area_summary)}\")\n",
    "\n",
    "# Visualization of the top 10 profitable areas\n",
    "top_areas = area_summary.head(10)\n",
    "top_areas.reset_index(inplace=True)\n",
    "\n",
    "plt.figure(figsize=(12, 6))\n",
    "plt.barh(\n",
    "    top_areas[\"RegionName_purchase\"],\n",
    "    top_areas[\"Average_Profit_Percentage\"],\n",
    "    color=\"skyblue\"\n",
    ")\n",
    "plt.xlabel(\"Average Profit Percentage\")\n",
    "plt.ylabel(\"Region Name\")\n",
    "plt.title(\"Top 10 Profitable Areas by Average Profit Percentage\")\n",
    "plt.gca().invert_yaxis()  # Reverse the order for better readability\n",
    "plt.tight_layout()\n",
    "plt.show()\n"
   ]
  },
  {
   "cell_type": "code",
   "execution_count": null,
   "id": "9a10934a-7eea-4da1-95b1-2f8c48d28886",
   "metadata": {},
   "outputs": [],
   "source": []
  }
 ],
 "metadata": {
  "kernelspec": {
   "display_name": "Python 3 (ipykernel)",
   "language": "python",
   "name": "python3"
  },
  "language_info": {
   "codemirror_mode": {
    "name": "ipython",
    "version": 3
   },
   "file_extension": ".py",
   "mimetype": "text/x-python",
   "name": "python",
   "nbconvert_exporter": "python",
   "pygments_lexer": "ipython3",
   "version": "3.12.4"
  }
 },
 "nbformat": 4,
 "nbformat_minor": 5
}
