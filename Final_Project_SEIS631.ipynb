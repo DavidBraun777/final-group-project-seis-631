{
 "cells": [
  {
   "cell_type": "markdown",
   "id": "628b1e74-4947-4f5c-a8b4-836112597f6b",
   "metadata": {},
   "source": [
    "# 1) Show me the market trends to help me decide. Which US real-estate market is doing best overall. 1 (**Matt Henning**)"
   ]
  },
  {
   "cell_type": "code",
   "execution_count": null,
   "id": "9920c3d0-48aa-4028-a6eb-61a53cb4192c",
   "metadata": {},
   "outputs": [],
   "source": [
    "import pandas as pd\n",
    "import numpy as np\n",
    "import seaborn as sns                       #visualisation\n",
    "import matplotlib.pyplot as plt             #visualisation\n",
    "%matplotlib inline     \n",
    "sns.set(color_codes=True)"
   ]
  },
  {
   "cell_type": "code",
   "execution_count": null,
   "id": "8eb89309-2c4e-43e0-9437-7fcaf258f3fb",
   "metadata": {},
   "outputs": [],
   "source": [
    "# Load datasets\n",
    "zhvi_data = pd.read_csv('ZHVI_Metro_zhvi_uc_sfr_tier_0.33_0.67_sm_sa_month.csv')\n",
    "zori_data = pd.read_csv('ZORI_Metro_zordi_uc_sfr_month.csv')\n",
    "market_temp_data = pd.read_csv('MARKET_TEMP_Metro_market_temp_index_uc_sfrcondo_month.csv')\n",
    "dttp_data = pd.read_csv('DTTP_Metro_mean_doz_pending_uc_sfrcondo_month.csv')\n",
    "inventory_data = pd.read_csv('FOR_SALE_INVENTORY_Metro_invt_fs_uc_sfr_sm_month.csv')\n",
    "\n",
    "# Display data to ensure it loaded\n",
    "zhvi_data.head(), zori_data.head(), market_temp_data.head(), dttp_data.head(), inventory_data.head()\n",
    "# Reshape datasets for 2023-2024\n",
    "def reshape_and_filter(df, id_vars, value_name, start_year=2023, end_year=2024):\n",
    "    df_long = df.melt(id_vars=id_vars, var_name=\"Date\", value_name=value_name)\n",
    "    df_long[\"Date\"] = pd.to_datetime(df_long[\"Date\"], errors=\"coerce\")\n",
    "    return df_long[\n",
    "        (df_long[\"Date\"].dt.year >= start_year) & (df_long[\"Date\"].dt.year <= end_year)\n",
    "    ]"
   ]
  },
  {
   "cell_type": "markdown",
   "id": "bcf0ea44",
   "metadata": {},
   "source": [
    "## Which US Real Estate Market is Doing Best Overall?"
   ]
  },
  {
   "cell_type": "code",
   "execution_count": null,
   "id": "d3143809",
   "metadata": {
    "scrolled": true
   },
   "outputs": [],
   "source": [
    "# Extract the latest data for analysis, rename for zhvi and zori to clarify and tracking\n",
    "zhvi_latest = zhvi_data[['RegionName', 'StateName', '2024-10-31']].rename(columns={'2024-10-31': 'ZHVI_Latest'})\n",
    "zori_latest = zori_data[['RegionName', 'StateName', '2024-10-31']].rename(columns={'2024-10-31': 'ZORI_Latest'})\n",
    "market_temp_latest = market_temp_data[['RegionName', 'StateName', '2024-10-31']].rename(columns={'2024-10-31': 'MarketTemp_Latest'})\n",
    "\n",
    "# Merge datasets, merging the zhvi and zori for region and state, makes it more clear and remove united states as a region\n",
    "combined_data = pd.merge(zhvi_latest, zori_latest, on=['RegionName', 'StateName'], how='inner')\n",
    "combined_data = pd.merge(combined_data, market_temp_latest, on=['RegionName', 'StateName'], how='inner')\n",
    "\n",
    "# Rank markets by metrics, metrics being \"hottest\" by state/region \n",
    "combined_data['ZHVI_Rank'] = combined_data['ZHVI_Latest'].rank(ascending=False)\n",
    "combined_data['ZORI_Rank'] = combined_data['ZORI_Latest'].rank(ascending=False)\n",
    "combined_data['MarketTemp_Rank'] = combined_data['MarketTemp_Latest'].rank(ascending=False)\n",
    "\n",
    "# Calculate overall rank\n",
    "combined_data['Overall_Rank'] = combined_data[['ZHVI_Rank', 'ZORI_Rank', 'MarketTemp_Rank']].mean(axis=1)\n",
    "\n",
    "# Top-performing markets\n",
    "top_markets = combined_data.sort_values(by='Overall_Rank').head(10)\n",
    "top_markets"
   ]
  },
  {
   "cell_type": "markdown",
   "id": "5f4861fe-5868-4697-901f-873b29ddaf8b",
   "metadata": {},
   "source": [
    "### **ZHVI_Latest**\n",
    "- **Definition**:  \n",
    "  The Zillow Home Value Index (ZHVI) for the most recent period (**October 2024**).\n",
    "\n",
    "- **Purpose**:  \n",
    "  ZHVI provides an average property value (home price) within a region.\n",
    "  - **Price Appreciation**: How property values have grown over time.\n",
    "  - **Market Demand**: Higher ZHVI values indicate a stronger demand for housing in that area.\n",
    "\n",
    "---\n",
    "\n",
    "### **ZORI_Latest**\n",
    "- **Definition**:  \n",
    "  The Zillow Observed Rent Index (ZORI) for the most recent period (**October 2024**).\n",
    "\n",
    "- **Purpose**:  \n",
    "  ZORI tracks the average rent prices across a region. \n",
    "  - **Rental Yields**: Comparing rental income to property prices.\n",
    "  - **Profitability for Landlords**: Higher ZORI values mean higher rental income potential.\n",
    "\n",
    "---\n",
    "\n",
    "### **How These Columns Were Created**\n",
    "These columns were extracted and renamed from the original datasets to make them easier to understand and work with:\n",
    "\n",
    "- **ZHVI_Latest** is derived from the ZHVI dataset (`zhvi_data`).\n",
    "- **ZORI_Latest** is derived from the ZORI dataset (`zori_data`).\n",
    "- The renaming ensures clarity in tracking the most recent metrics.\n",
    "\n",
    "\n",
    "### **Why They Matter**\n",
    "\n",
    "Together, **ZHVI** and **ZORI** provide a comprehensive view of a real estate market:\n",
    "\n",
    "- **ZHVI** helps evaluate appreciation potential and market strength.\n",
    "- **ZORI** indicates rental income potential and profitability for rental investments.\n",
    "- Comparing the two allows investors to identify markets with both rising property values and strong rental returns.\n"
   ]
  },
  {
   "cell_type": "markdown",
   "id": "dd961742",
   "metadata": {},
   "source": [
    "### Visualization of Top 10 Performing Markets"
   ]
  },
  {
   "cell_type": "code",
   "execution_count": null,
   "id": "2942dc56",
   "metadata": {},
   "outputs": [],
   "source": [
    "\n",
    "# Bar chart for overall rank\n",
    "plt.figure(figsize=(10, 6))\n",
    "plt.barh(top_markets['RegionName'], top_markets['Overall_Rank'], color='green')\n",
    "plt.xlabel('Overall Rank')\n",
    "plt.ylabel('Region')\n",
    "plt.title('Top 10 Performing Real Estate Markets')\n",
    "plt.gca().invert_yaxis()\n",
    "plt.show()"
   ]
  },
  {
   "attachments": {},
   "cell_type": "markdown",
   "id": "e2345ac0-b899-4aa6-af3d-d26bb742243e",
   "metadata": {},
   "source": [
    "### **Bar Chart: Top 10 Performing Real Estate Markets**\n",
    "\n",
    "### **Why Lower Overall Rank Is Better**\n",
    "\n",
    "- **Higher Performance Across Metrics**:  \n",
    "  A lower overall rank means the market consistently excels in the evaluated areas:\n",
    "  - **Price Growth (ZHVI)**\n",
    "  - **Rental Returns (ZORI)**\n",
    "  - **Competitiveness (Market Activity)**\n",
    "\n",
    "- **Comparative Ranking**:  \n",
    "  The system ranks markets relative to one another. For example:\n",
    "  - A market with **Rank 1 for ZHVI**, **Rank 2 for ZORI**, and **Rank 1 for Market Activity** has an **average overall rank of 1.33**, making it highly competitive.\n",
    "  - A market with **Rank 5, Rank 6, and Rank 7** has an **average overall rank of 6.0**, indicating lower performance compared to the first market.\n",
    "\n",
    "---\n",
    "\n",
    "### **Insight 1**\n",
    "- **San Jose, CA**:  \n",
    "  If it has the lowest overall rank, it likely performs exceptionally well in price appreciation and market activity, even if its rental yields are moderate.\n",
    "  \n",
    "- **Springfield, MA**:  \n",
    "  If it has a higher overall rank, it might perform well in rental yields but less so in price appreciation or market activity.\n",
    "\n",
    "\n",
    "### **Insight 2**:\n",
    "- Markets like **San Jose, CA** and **San Francisco, CA** rank highly due to their strong price appreciation, despite relatively moderate rental yields.\n",
    "- **Salinas, CA** and **Manchester, NH** offer a mix of competitive rental yields and moderate market activity, making them attractive for investors looking for balanced opportunities.\n"
   ]
  },
  {
   "cell_type": "code",
   "execution_count": null,
   "id": "8d35ec68-8c58-4a60-b6aa-59d4b6f03ade",
   "metadata": {},
   "outputs": [],
   "source": [
    "import matplotlib.pyplot as plt\n",
    "\n",
    "# Extract trends for top market regions from zhvi\n",
    "top_market_regions = top_markets['RegionName'].unique()\n",
    "zhvi_trends = zhvi_data[zhvi_data['RegionName'].isin(top_market_regions)]\n",
    "\n",
    "# Transpose data for plotting (columns as dates, rows as regions)\n",
    "zhvi_trends = zhvi_trends.set_index('RegionName').drop(['RegionID', 'SizeRank', 'RegionType', 'StateName'], axis=1).T\n",
    "zhvi_trends.index = pd.to_datetime(zhvi_trends.index)  # Convert dates to datetime for better plotting\n",
    "\n",
    "# Filter for October 2023 to October 2024\n",
    "start_date = \"2023-10-01\"\n",
    "end_date = \"2024-10-31\"\n",
    "zhvi_trends = zhvi_trends[(zhvi_trends.index >= start_date) & (zhvi_trends.index <= end_date)]\n",
    "\n",
    "# Plot the trends\n",
    "plt.figure(figsize=(12, 8))\n",
    "for region in zhvi_trends.columns:\n",
    "    plt.plot(zhvi_trends.index, zhvi_trends[region], label=region)\n",
    "\n",
    "plt.title(\"Home Value Trends (ZHVI) for Top Performing Markets (Oct 2023 - Oct 2024)\", fontsize=14)\n",
    "plt.xlabel(\"Year\", fontsize=12)\n",
    "plt.ylabel(\"ZHVI (Home Value Index)\", fontsize=12)\n",
    "plt.legend(title=\"Region\", bbox_to_anchor=(1.05, 1), loc='upper left')\n",
    "plt.grid(alpha=0.5, linestyle='--')\n",
    "plt.tight_layout()\n",
    "plt.show()\n"
   ]
  },
  {
   "cell_type": "code",
   "execution_count": null,
   "id": "de10952a-7531-4703-b9a7-7c1a4bbee4c6",
   "metadata": {},
   "outputs": [],
   "source": [
    "# Filter for October 2023 to October 2024\n",
    "start_date = \"2023-10-01\"\n",
    "end_date = \"2024-10-31\"\n",
    "zhvi_trends = zhvi_trends[(zhvi_trends.index >= start_date) & (zhvi_trends.index <= end_date)]\n",
    "\n",
    "# Calculate the median home price for each region in the date range\n",
    "median_home_price = zhvi_trends.median().sort_values(ascending=False).reset_index()\n",
    "median_home_price.columns = [\"RegionName\", \"Median_ZHVI\"]\n",
    "\n",
    "# Plot the median home price per region as a bar graph\n",
    "plt.figure(figsize=(12, 6))\n",
    "sns.barplot(data=median_home_price, x=\"RegionName\", y=\"Median_ZHVI\", hue=\"RegionName\", dodge=False, palette=\"viridis\")\n",
    "plt.title(\"Median Home Price per Region (Oct 2023 - Oct 2024)\", fontsize=16)\n",
    "plt.xlabel(\"Region\", fontsize=12)\n",
    "plt.ylabel(\"Median Home Price ($million)\", fontsize=12)\n",
    "plt.xticks(rotation=45, ha=\"right\")\n",
    "plt.tight_layout()\n",
    "plt.show()\n",
    "\n"
   ]
  },
  {
   "cell_type": "markdown",
   "id": "df0ef234-b180-4c10-aaf2-a1c577d31623",
   "metadata": {},
   "source": [
    "### **Home Value Trends Visualization**\n",
    "\n",
    "**Line Chart: Home Value Trends (ZHVI) for Top Performing Markets**\n",
    "\n",
    "- **What It Shows**:  \n",
    "  This chart tracks how home values (ZHVI) have changed over time in the top 10 real estate markets. Each line represents the average property value in a market, allowing us to compare their growth trends.\n",
    "\n",
    "- **Key Insights**:\n",
    "  1. **Fast-Growing Markets**:  \n",
    "     Cities like *San Jose, CA* and *San Francisco, CA* show sharp increases in home values, indicating strong demand and rapid appreciation. These markets are great for investors who want to buy, upgrade, and sell quickly to maximize profits.\n",
    "  2. **Steady Growers**:  \n",
    "     Areas such as *Salinas, CA* and *Manchester, NH* have slower but consistent growth. These markets are better for long-term investments, as their steady increases suggest stability and lower risk.\n",
    "  3. **Stable or Cooling Markets**:  \n",
    "     Some regions with flatter lines might be reaching a peak or cooling off. While these areas may not offer as much price appreciation, they could still be profitable for rental income.\n",
    "\n",
    "- **Why It Matters**:  \n",
    "  - Steeper lines show markets where property values are growing rapidly, which can lead to higher profits if you sell soon.  \n",
    "  - Gradual, steady growth suggests reliable markets where property values are less volatile, making them ideal for long-term investments.  \n",
    "  - Flat trends indicate stable markets, which might still be good for renting out properties or holding for future appreciation.\n",
    "\n",
    "- **How to Use This Information**:  \n",
    "  - If you want quick profits, focus on markets with sharp growth like *San Jose* or *San Francisco*.  \n",
    "  - For steady income and long-term value, look at consistent growers like *Salinas* or *Springfield*.  \n",
    "  - The chart helps you decide if a market is still growing, stable, or slowing down, so you can plan your investment accordingly.\n"
   ]
  },
  {
   "cell_type": "markdown",
   "id": "f0c283df-1b68-4c25-83ac-26fb3c6f1c04",
   "metadata": {},
   "source": [
    "### **Conclusion for Question 1: Which US Real Estate Market is Doing Best Overall?**\n",
    "\n",
    "Based on the analysis, the top-performing real estate markets are determined by their strong performance in price appreciation (ZHVI), rental yields (ZORI), and market activity (temperature index). Markets like **San Jose, CA** and **San Francisco, CA** rank highly due to their consistent price growth and competitive nature. However, regions such as **Salinas, CA** and **Manchester, NH** offer a balance of moderate price appreciation and high rental yields, making them attractive for long-term investments.\n",
    "\n",
    "- **High Growth Markets**: *San Jose, CA* and *San Francisco, CA* excel in appreciation, ideal for flipping or short-term investments.\n",
    "- **Balanced Growth and Rental Yield Markets**: *Salinas, CA* and *Springfield, MA* provide steady price growth and strong rental yields, making them favorable for long-term investments.\n",
    "\n",
    "Overall, the best market depends on your investment strategy. If rapid price appreciation is the priority, focus on competitive markets with high demand. For consistent returns, target markets with a balance of moderate appreciation and strong rental yields.\n",
    "\n",
    "---"
   ]
  },
  {
   "cell_type": "markdown",
   "id": "2e05dc81-85cb-48c4-a3f4-7ae8d4883595",
   "metadata": {},
   "source": [
    "# 2) Are the sale prices and inventory listing going up or down overall in the US? 10 points (**Cristian Zendejas**)\n",
    "---"
   ]
  },
  {
   "cell_type": "code",
   "execution_count": null,
   "id": "642d105f-07d5-4073-a035-f1cc51d37cb9",
   "metadata": {},
   "outputs": [],
   "source": [
    "import pandas as pd\n",
    "import numpy as np\n",
    "import seaborn as sns                       #visualisation\n",
    "import matplotlib.pyplot as plt             #visualisation\n",
    "%matplotlib inline     \n",
    "sns.set(color_codes=True)"
   ]
  },
  {
   "cell_type": "markdown",
   "id": "752addf3-cde1-4fc9-a42e-9ce96e201e38",
   "metadata": {},
   "source": [
    "### Let's start with looking at the new listings throughout the year of 10/2023-10/2024."
   ]
  },
  {
   "cell_type": "code",
   "execution_count": null,
   "id": "658f5494-d6a0-4a4b-ad61-289a9148fe95",
   "metadata": {},
   "outputs": [],
   "source": [
    "df = pd.read_csv(\"for_sale_new_listings_month.csv\")\n",
    "df.head(20)"
   ]
  },
  {
   "cell_type": "code",
   "execution_count": null,
   "id": "c56170db-5a20-428d-aa97-0645bb457c5e",
   "metadata": {},
   "outputs": [],
   "source": [
    "df.tail(20)"
   ]
  },
  {
   "cell_type": "code",
   "execution_count": null,
   "id": "8f6b5809-ddc7-4606-a951-c9e7cb775615",
   "metadata": {},
   "outputs": [],
   "source": [
    "df.dtypes"
   ]
  },
  {
   "cell_type": "code",
   "execution_count": null,
   "id": "ed2b5c34-f6ee-470d-b431-e0f5503d1817",
   "metadata": {},
   "outputs": [],
   "source": [
    "start_date = '2018-01-31'\n",
    "end_date = '2022-12-31'\n",
    "\n",
    "df = df.drop(index=0).reset_index(drop=True)\n",
    "\n",
    "date_columns = [col for col in df.columns if pd.to_datetime(col, errors='coerce', format='%Y-%m-%d', exact=True) is not pd.NaT]\n",
    "\n",
    "columns_to_drop = [col for col in date_columns if start_date <= col <= end_date]\n",
    "df = df.drop(columns=columns_to_drop)\n",
    "\n",
    "df[\"RegionName\"] = df[\"RegionName\"].apply(lambda x: x.split(',')[0])\n",
    "df.head(10)"
   ]
  },
  {
   "cell_type": "code",
   "execution_count": null,
   "id": "d9b10f01-01cb-4b84-8634-ccb3b3d6677e",
   "metadata": {},
   "outputs": [],
   "source": [
    "df.count()"
   ]
  },
  {
   "cell_type": "markdown",
   "id": "9a5c01fb-a9b2-4165-8082-10a7f4e4671d",
   "metadata": {},
   "source": [
    "### Renaming some columns since the originals are a little lengthy and my changes on one column are different."
   ]
  },
  {
   "cell_type": "code",
   "execution_count": null,
   "id": "5e08d854-0e67-4694-b257-077687bea277",
   "metadata": {},
   "outputs": [],
   "source": [
    "df = df.rename(columns={\"SizeRank\": \"Rank\", \"RegionName\": \"City\", \"StateName\": \"State\"})\n",
    "df.head(10)"
   ]
  },
  {
   "cell_type": "markdown",
   "id": "bcad0cb7-5dfa-4683-942d-5f47cd49a9b7",
   "metadata": {},
   "source": [
    "### Let's start seeing if there are any duplicates we need to remove."
   ]
  },
  {
   "cell_type": "code",
   "execution_count": null,
   "id": "b565f4e7-5355-4515-8727-52b12a134dfd",
   "metadata": {},
   "outputs": [],
   "source": [
    "df.shape"
   ]
  },
  {
   "cell_type": "code",
   "execution_count": null,
   "id": "88dfd53f-0865-483b-9d34-d99f1a589cc3",
   "metadata": {},
   "outputs": [],
   "source": [
    "duplicate_rows_df = df[df.duplicated()]\n",
    "print(\"number of duplicate rows: \", duplicate_rows_df.shape)"
   ]
  },
  {
   "cell_type": "code",
   "execution_count": null,
   "id": "c86d4be8-ab1d-4913-a5fa-abda0be38000",
   "metadata": {},
   "outputs": [],
   "source": [
    "df.count()"
   ]
  },
  {
   "cell_type": "code",
   "execution_count": null,
   "id": "55fe1a6a-1a56-48a2-b8e0-4ed3d4acc295",
   "metadata": {},
   "outputs": [],
   "source": [
    "df = df.drop_duplicates()\n",
    "df.count()"
   ]
  },
  {
   "cell_type": "markdown",
   "id": "5accbb53-e3f5-4554-b9af-9f8d33b6e12f",
   "metadata": {},
   "source": [
    "### Now let's drop null or NaN values."
   ]
  },
  {
   "cell_type": "code",
   "execution_count": null,
   "id": "e6319eb5-a42b-45b6-999b-f92d39d907af",
   "metadata": {},
   "outputs": [],
   "source": [
    "print(df.isnull().sum())"
   ]
  },
  {
   "cell_type": "code",
   "execution_count": null,
   "id": "776ee4b6-bb69-412c-ab07-12c55494a1bb",
   "metadata": {},
   "outputs": [],
   "source": [
    "df = df.dropna()\n",
    "df.count()"
   ]
  },
  {
   "cell_type": "code",
   "execution_count": null,
   "id": "0989e388-1d6b-41fa-856c-51e4768bd422",
   "metadata": {},
   "outputs": [],
   "source": [
    "print(df.isnull().sum())"
   ]
  },
  {
   "cell_type": "code",
   "execution_count": null,
   "id": "dbf5b499-6569-4be7-9dce-69d1e95ee7d6",
   "metadata": {},
   "outputs": [],
   "source": [
    "df.head(5)"
   ]
  },
  {
   "cell_type": "markdown",
   "id": "6f9ff718-03cf-48ec-bab7-5ce7b2048661",
   "metadata": {},
   "source": [
    "### Now let's look for any outliers in the date columns."
   ]
  },
  {
   "cell_type": "code",
   "execution_count": null,
   "id": "f3b1b85b-ad7a-4a5a-9309-af37091656c0",
   "metadata": {},
   "outputs": [],
   "source": [
    "sns.boxplot(x=df['2023-09-30'])"
   ]
  },
  {
   "cell_type": "code",
   "execution_count": null,
   "id": "9e2415a9-1112-4499-8cc6-15292841a76c",
   "metadata": {},
   "outputs": [],
   "source": [
    "sns.boxplot(x=df['2023-10-31'])"
   ]
  },
  {
   "cell_type": "code",
   "execution_count": null,
   "id": "e93dba70-fdbe-44b1-b3c2-0809a37ab5ee",
   "metadata": {},
   "outputs": [],
   "source": [
    "sns.boxplot(x=df['2023-11-30'])"
   ]
  },
  {
   "cell_type": "code",
   "execution_count": null,
   "id": "2b263351-b0ab-4f0a-b6bf-2f20b30b624a",
   "metadata": {},
   "outputs": [],
   "source": [
    "sns.boxplot(x=df['2023-12-31'])"
   ]
  },
  {
   "cell_type": "code",
   "execution_count": null,
   "id": "1374f2b5-dbba-4aa2-929d-e54a71d736c1",
   "metadata": {},
   "outputs": [],
   "source": [
    "sns.boxplot(x=df['2024-01-31'])"
   ]
  },
  {
   "cell_type": "code",
   "execution_count": null,
   "id": "3d4bd09e-e304-4a19-a44a-00f0ccadf40a",
   "metadata": {},
   "outputs": [],
   "source": [
    "sns.boxplot(x=df['2024-02-29'])"
   ]
  },
  {
   "cell_type": "code",
   "execution_count": null,
   "id": "bbce6dc5-13b3-4101-b428-fee1feab42e6",
   "metadata": {},
   "outputs": [],
   "source": [
    "sns.boxplot(x=df['2024-03-31'])"
   ]
  },
  {
   "cell_type": "code",
   "execution_count": null,
   "id": "3b89aa56-16d1-41eb-b584-aac112666caa",
   "metadata": {},
   "outputs": [],
   "source": [
    "sns.boxplot(x=df['2024-04-30'])"
   ]
  },
  {
   "cell_type": "code",
   "execution_count": null,
   "id": "db9e227d-a68f-43d4-b1e4-bca2cbfbf367",
   "metadata": {},
   "outputs": [],
   "source": [
    "sns.boxplot(x=df['2024-05-31'])"
   ]
  },
  {
   "cell_type": "code",
   "execution_count": null,
   "id": "79b20a69-bf41-43ea-a75d-57af4973fa27",
   "metadata": {},
   "outputs": [],
   "source": [
    "sns.boxplot(x=df['2024-06-30'])"
   ]
  },
  {
   "cell_type": "code",
   "execution_count": null,
   "id": "bcbe512a-3194-423f-8e0d-072b23d80c5b",
   "metadata": {},
   "outputs": [],
   "source": [
    "sns.boxplot(x=df['2024-07-31'])"
   ]
  },
  {
   "cell_type": "code",
   "execution_count": null,
   "id": "236162ee-9721-4043-8463-a51582977042",
   "metadata": {},
   "outputs": [],
   "source": [
    "sns.boxplot(x=df['2024-08-31'])"
   ]
  },
  {
   "cell_type": "code",
   "execution_count": null,
   "id": "f18c56ff-69b4-4cd8-a193-057b7373abb2",
   "metadata": {},
   "outputs": [],
   "source": [
    "sns.boxplot(x=df['2024-09-30'])"
   ]
  },
  {
   "cell_type": "code",
   "execution_count": null,
   "id": "66dee819-56b3-4636-93f0-c5dc8193e747",
   "metadata": {},
   "outputs": [],
   "source": [
    "sns.boxplot(x=df['2024-10-31'])"
   ]
  },
  {
   "cell_type": "markdown",
   "id": "3865b898-a0f2-410d-95ee-cf1a2c473176",
   "metadata": {},
   "source": [
    "### Looking at all the charts for the date columns I'm seeing very little variation around the median for the data. It looks like a lot of the values were considered outliers, but if everything is an outlier than I'm assuming nothing is. For this reason, I'm not removing any of the data that is considered outliers."
   ]
  },
  {
   "cell_type": "code",
   "execution_count": null,
   "id": "99900fea-9328-4789-b338-1441dd1600b1",
   "metadata": {},
   "outputs": [],
   "source": [
    "date_columns = [col for col in df.columns if pd.to_datetime(col, errors='coerce', format='%Y-%m-%d', exact=True) is not pd.NaT]\n",
    "\n",
    "date_df = df[date_columns]\n",
    "Q1 = date_df.quantile(0.25)\n",
    "Q3 = date_df.quantile(0.75)\n",
    "IQR = Q3 - Q1\n",
    "print(IQR)"
   ]
  },
  {
   "cell_type": "markdown",
   "id": "d3b53cda-088f-4417-b903-67b50f954040",
   "metadata": {},
   "source": [
    "### Let's look at the total listings for each state by year 2024 vs 2023."
   ]
  },
  {
   "cell_type": "markdown",
   "id": "d394ffdd-87a1-4b7c-99ca-00dc48b42904",
   "metadata": {},
   "source": [
    "### As mentioned above I'll only use the months of January-October for both ye"
   ]
  },
  {
   "cell_type": "code",
   "execution_count": null,
   "id": "254df97b-310a-4475-87d9-5a49751b827b",
   "metadata": {},
   "outputs": [],
   "source": [
    "drop_nov_dec = ['2023-11-30', '2023-12-31']\n",
    "df = df.drop(columns=drop_nov_dec)"
   ]
  },
  {
   "cell_type": "code",
   "execution_count": null,
   "id": "cf9eba25-5d50-4426-b3ab-fc91b1971ef8",
   "metadata": {},
   "outputs": [],
   "source": [
    "dates_2023 = [col for col in df.columns if col.startswith('2023')]\n",
    "dates_2024 = [col for col in df.columns if col.startswith('2024')]\n",
    "\n",
    "df['TotalListings_2023'] = df[dates_2023].sum(axis=1)\n",
    "df['TotalListings_2024'] = df[dates_2024].sum(axis=1)\n",
    "\n",
    "state_totals_2023 = df.groupby('State')['TotalListings_2023'].sum()\n",
    "state_totals_2024 = df.groupby('State')['TotalListings_2024'].sum()\n",
    "\n",
    "state_totals_comparison = pd.DataFrame({\n",
    "    '2023 Listings': state_totals_2023,\n",
    "    '2024 Listings': state_totals_2024\n",
    "}).sort_values(by='2023 Listings', ascending=False)"
   ]
  },
  {
   "cell_type": "code",
   "execution_count": null,
   "id": "94a836f2-8c5e-4a8d-b0d3-f77697cc75bf",
   "metadata": {},
   "outputs": [],
   "source": [
    "state_totals_comparison.plot(kind='bar', figsize=(15,10))\n",
    "plt.title(\"Total Listings by State: Comparison of Years (2023 vs 2024)\")\n",
    "plt.xlabel('State')\n",
    "plt.ylabel(\"Total Listings\")\n",
    "plt.show()"
   ]
  },
  {
   "cell_type": "markdown",
   "id": "5c6116ca-b3ea-4e0c-9417-a95befe7c388",
   "metadata": {},
   "source": [
    "### Florida seems to be a clear winner in terms of listings each year having the most both years."
   ]
  },
  {
   "cell_type": "markdown",
   "id": "63722cd2-0aa4-4106-82b1-f185c8e6bb3e",
   "metadata": {},
   "source": [
    "### Now let's look at the total listings by month compared by years."
   ]
  },
  {
   "cell_type": "code",
   "execution_count": null,
   "id": "52f4c245-63a6-49ce-9edb-4aee76557eb0",
   "metadata": {},
   "outputs": [],
   "source": [
    "monthly_totals_2023 = df[dates_2023].sum()\n",
    "monthly_totals_2024 = df[dates_2024].sum()\n",
    "\n",
    "comparison_df = pd.DataFrame({\n",
    "    'Month': monthly_totals_2023.index.str.slice(5),\n",
    "    '2023 Listings': monthly_totals_2023.values,\n",
    "    '2024 Listings': monthly_totals_2024.values,\n",
    "})\n",
    "\n",
    "comparison_df.plot(x='Month', kind='bar', figsize=(20,10))\n",
    "plt.title(\"Monthly Listings Comparison: 2023 v 2024\")\n",
    "plt.xlabel(\"Month\")\n",
    "plt.ylabel(\"Total Listings\")\n",
    "plt.xticks(rotation=45)\n",
    "plt.show()"
   ]
  },
  {
   "cell_type": "markdown",
   "id": "51fc8b6f-4459-41c8-8468-c6b3f6ecbdae",
   "metadata": {},
   "source": [
    "### We can definitely see that 2024 overall had more listings than 2023. The peak of 2024 was in May while in 2023 it was June."
   ]
  },
  {
   "cell_type": "code",
   "execution_count": null,
   "id": "70920460-465c-4456-8a71-00d18cfdffb5",
   "metadata": {},
   "outputs": [],
   "source": [
    "comparison_df.plot(x='Month', kind='line', figsize=(20,10))\n",
    "plt.title(\"Monthly Listings Comparison: 2023 v 2024\")\n",
    "plt.xlabel(\"Month\")\n",
    "plt.ylabel(\"Total Listings\")\n",
    "plt.xticks(rotation=45)\n",
    "plt.show()"
   ]
  },
  {
   "cell_type": "markdown",
   "id": "d18fcff6-3e68-44e6-8f03-73b1e55825fa",
   "metadata": {},
   "source": [
    "### When comparing the years for the same months January - October, we see that overall 2024 has had more listings most of the year then 2023. The listings peaked in May of 2024 and as we approached the winter months, they have steadily declined. Overall it looks like listings are going down now that we are past the summer months."
   ]
  },
  {
   "cell_type": "markdown",
   "id": "14378b04-6bfd-4ee3-9e9f-169ec75938c6",
   "metadata": {},
   "source": [
    "### Now let's take a look at the listing sale prices and see if they have been increasing in 2024 vs 2023."
   ]
  },
  {
   "cell_type": "code",
   "execution_count": null,
   "id": "6f0115b2-a435-41f6-8184-b1fe96baec70",
   "metadata": {},
   "outputs": [],
   "source": [
    "price_df = pd.read_csv(\"Median_list_price_month.csv\")\n",
    "price_df.head(20)"
   ]
  },
  {
   "cell_type": "code",
   "execution_count": null,
   "id": "eb42b9cc-203f-4962-9b9e-6d1de787de47",
   "metadata": {},
   "outputs": [],
   "source": [
    "price_df.tail(20)"
   ]
  },
  {
   "cell_type": "markdown",
   "id": "b8111773-b5c5-4678-b20c-94c6885524dd",
   "metadata": {},
   "source": [
    "### The data is very similar to the new listings data, so we'll remove the first row and only use the 2023 & 2024 years again to compare the same months."
   ]
  },
  {
   "cell_type": "code",
   "execution_count": null,
   "id": "48aa8837-3270-410c-9791-58d76521dc22",
   "metadata": {},
   "outputs": [],
   "source": [
    "price_start_date = '2018-01-31'\n",
    "price_end_date = '2022-12-31'\n",
    "\n",
    "price_df = price_df.drop(index=0).reset_index(drop=True)\n",
    "\n",
    "price_date_columns = [col for col in price_df.columns if pd.to_datetime(col, errors='coerce', format='%Y-%m-%d', exact=True) is not pd.NaT]\n",
    "\n",
    "columns_to_drop = [col for col in price_date_columns if price_start_date <= col <= price_end_date]\n",
    "price_df = price_df.drop(columns=columns_to_drop)\n",
    "\n",
    "price_df[\"RegionName\"] = price_df[\"RegionName\"].apply(lambda x: x.split(',')[0])\n",
    "price_df.head(10)"
   ]
  },
  {
   "cell_type": "code",
   "execution_count": null,
   "id": "4d563427-b50f-4199-870c-7d6a89c9e422",
   "metadata": {},
   "outputs": [],
   "source": [
    "price_df.dtypes"
   ]
  },
  {
   "cell_type": "code",
   "execution_count": null,
   "id": "a047e714-c414-4e52-9df0-d587a89f3ef8",
   "metadata": {},
   "outputs": [],
   "source": [
    "price_df.count()"
   ]
  },
  {
   "cell_type": "markdown",
   "id": "602c717a-39fb-415c-8cb9-ed29bafa4b48",
   "metadata": {},
   "source": [
    "### Just like before we'll rename the columns."
   ]
  },
  {
   "cell_type": "code",
   "execution_count": null,
   "id": "cc417d85-a802-4544-aee0-71046c5d8948",
   "metadata": {},
   "outputs": [],
   "source": [
    "price_df = price_df.rename(columns={\"SizeRank\": \"Rank\", \"RegionName\": \"City\", \"StateName\": \"State\"})\n",
    "price_df.head(10)"
   ]
  },
  {
   "cell_type": "code",
   "execution_count": null,
   "id": "d9918967-8b03-4fb6-bef0-23d96eba6418",
   "metadata": {},
   "outputs": [],
   "source": [
    "price_df.shape"
   ]
  },
  {
   "cell_type": "code",
   "execution_count": null,
   "id": "ec9dcc0b-f4c3-4edc-8fac-b9df1005f3f9",
   "metadata": {},
   "outputs": [],
   "source": [
    "duplicate_rows_df = price_df[price_df.duplicated()]\n",
    "print(\"number of duplicate rows: \", duplicate_rows_df.shape)"
   ]
  },
  {
   "cell_type": "code",
   "execution_count": null,
   "id": "5fd4914a-538e-4cb1-8af8-d77b8951afc8",
   "metadata": {},
   "outputs": [],
   "source": [
    "price_df.count()"
   ]
  },
  {
   "cell_type": "code",
   "execution_count": null,
   "id": "dd7851f3-c2ab-4b6a-8483-3467fb542a54",
   "metadata": {},
   "outputs": [],
   "source": [
    "price_df = price_df.drop_duplicates()\n",
    "price_df.head(10)"
   ]
  },
  {
   "cell_type": "code",
   "execution_count": null,
   "id": "4445fe63-7b13-4fde-9c44-aa9c5623a21f",
   "metadata": {},
   "outputs": [],
   "source": [
    "price_df.count()"
   ]
  },
  {
   "cell_type": "markdown",
   "id": "e3a91d59-e3e5-4a77-9234-7966cc9ff6fb",
   "metadata": {},
   "source": [
    "### Removing any null data and NaN types."
   ]
  },
  {
   "cell_type": "code",
   "execution_count": null,
   "id": "89a2bff8-152d-4f35-9b76-16fb22a34262",
   "metadata": {},
   "outputs": [],
   "source": [
    "print(price_df.isnull().sum())"
   ]
  },
  {
   "cell_type": "code",
   "execution_count": null,
   "id": "8a0265b0-adaf-4742-b4d6-da48843f7bfe",
   "metadata": {},
   "outputs": [],
   "source": [
    "price_df = price_df.dropna()\n",
    "price_df.count()"
   ]
  },
  {
   "cell_type": "code",
   "execution_count": null,
   "id": "cb4b0b6c-05de-4d44-bec7-e3c02268eb72",
   "metadata": {},
   "outputs": [],
   "source": [
    "print(price_df.isnull().sum())"
   ]
  },
  {
   "cell_type": "markdown",
   "id": "effab7e4-b74c-489d-90ff-5f26627cb051",
   "metadata": {},
   "source": [
    "### Checking for outliers."
   ]
  },
  {
   "cell_type": "code",
   "execution_count": null,
   "id": "ffe936f8-d06d-4fbc-a535-261855487a96",
   "metadata": {},
   "outputs": [],
   "source": [
    "sns.boxplot(x=price_df['2023-01-31'])"
   ]
  },
  {
   "cell_type": "code",
   "execution_count": null,
   "id": "29228096-4c58-4092-842d-c6007a6135c4",
   "metadata": {},
   "outputs": [],
   "source": [
    "sns.boxplot(x=price_df['2023-05-31'])"
   ]
  },
  {
   "cell_type": "code",
   "execution_count": null,
   "id": "85c86fa5-0128-4ab7-8748-f08ff7de65cc",
   "metadata": {},
   "outputs": [],
   "source": [
    "sns.boxplot(x=price_df['2024-01-31'])"
   ]
  },
  {
   "cell_type": "code",
   "execution_count": null,
   "id": "f1bfb109-d495-45db-96f8-c44255954219",
   "metadata": {},
   "outputs": [],
   "source": [
    "sns.boxplot(x=price_df['2024-05-31'])"
   ]
  },
  {
   "cell_type": "code",
   "execution_count": null,
   "id": "c9875212-9e42-4e97-85af-29422dcd8961",
   "metadata": {},
   "outputs": [],
   "source": [
    "price_date_columns = [col for col in price_df.columns if pd.to_datetime(col, errors='coerce', format='%Y-%m-%d', exact=True) is not pd.NaT]\n",
    "\n",
    "price_date_df = price_df[price_date_columns]\n",
    "Q1 = price_date_df.quantile(0.25)\n",
    "Q3 = price_date_df.quantile(0.75)\n",
    "IQR = Q3 - Q1\n",
    "print(IQR)"
   ]
  },
  {
   "cell_type": "markdown",
   "id": "8a48e2db-59dd-4ef2-9800-70061a323484",
   "metadata": {},
   "source": [
    "### Looking at the charts again, there is definitely more variation around the median, but there are quite a few outliers still. My guess is these are from states where housing prices have really shot up. Like before, I'll keep the data as is as there are a lot of values considered outliers."
   ]
  },
  {
   "cell_type": "markdown",
   "id": "6e6ef8d3-08d7-4ccc-a5d8-4466f3766158",
   "metadata": {},
   "source": [
    "### Similar to above in the previous section, I'll need to grab the date columns."
   ]
  },
  {
   "cell_type": "code",
   "execution_count": null,
   "id": "847fb41b-b1f0-419f-943d-1a709d030db5",
   "metadata": {},
   "outputs": [],
   "source": [
    "drop_nov_dec = ['2023-11-30', '2023-12-31']\n",
    "price_df = price_df.drop(columns=drop_nov_dec)"
   ]
  },
  {
   "cell_type": "code",
   "execution_count": null,
   "id": "33b5d860-fedc-4aa8-b264-0825ffcd5d36",
   "metadata": {},
   "outputs": [],
   "source": [
    "dates_2023 = [col for col in price_df.columns if col.startswith('2023')]\n",
    "dates_2024 = [col for col in price_df.columns if col.startswith('2024')]\n",
    "\n",
    "price_df['TotalListPrice_2023'] = price_df[dates_2023].sum(axis=1)\n",
    "price_df['TotalListPrice_2024'] = price_df[dates_2024].sum(axis=1)\n",
    "\n",
    "state_totals_2023 = price_df.groupby('State')['TotalListPrice_2023'].sum()\n",
    "state_totals_2024 = price_df.groupby('State')['TotalListPrice_2024'].sum()\n",
    "\n",
    "state_totals_comparison = pd.DataFrame({\n",
    "    '2023 List Price': state_totals_2023,\n",
    "    '2024 List Price': state_totals_2024\n",
    "}).sort_values(by='2023 List Price', ascending=False)"
   ]
  },
  {
   "cell_type": "code",
   "execution_count": null,
   "id": "e9a6edb3-4778-4387-8641-4781bda56553",
   "metadata": {},
   "outputs": [],
   "source": [
    "state_totals_comparison.plot(kind='bar', figsize=(15,10))\n",
    "plt.title(\"Total Listings by State: Comparison of Years (2023 vs 2024)\")\n",
    "plt.xlabel('State')\n",
    "plt.ylabel(\"Total List Price (Millions)\")\n",
    "plt.show()"
   ]
  },
  {
   "cell_type": "markdown",
   "id": "f970981f-97ee-4e68-a570-e8dcc8bfe091",
   "metadata": {},
   "source": [
    "### We can see that California and Texas have a huge amount homes listed for high prices when compared to the rest of the states. Those numbers still increased in 2024!"
   ]
  },
  {
   "cell_type": "code",
   "execution_count": null,
   "id": "caea518f-1401-4862-ba1c-1ee17578ccd9",
   "metadata": {},
   "outputs": [],
   "source": [
    "monthly_totals_2023 = price_df[dates_2023].sum()\n",
    "monthly_totals_2024 = price_df[dates_2024].sum()\n",
    "\n",
    "price_comparison_df = pd.DataFrame({\n",
    "    'Month': monthly_totals_2023.index.str.slice(5),\n",
    "    '2023 Listings': monthly_totals_2023.values,\n",
    "    '2024 Listings': monthly_totals_2024.values,\n",
    "})\n",
    "\n",
    "price_comparison_df.plot(x='Month', kind='bar', figsize=(20,10))\n",
    "plt.title(\"Monthly Listings Comparison: 2023 v 2024\")\n",
    "plt.xlabel(\"Month\")\n",
    "plt.ylabel(\"Total List Price (Millions)\")\n",
    "plt.xticks(rotation=45)\n",
    "plt.show()"
   ]
  },
  {
   "cell_type": "markdown",
   "id": "0a7772ff-9242-495d-8175-1dc6f93101bf",
   "metadata": {},
   "source": [
    "### Breaking it down by months here helped spread the prices but it is harder to see which month clearly had the most."
   ]
  },
  {
   "cell_type": "code",
   "execution_count": null,
   "id": "1e90f998-341d-4aa2-a2ac-11213d8bfed4",
   "metadata": {},
   "outputs": [],
   "source": [
    "price_comparison_df.plot(x='Month', kind='line', figsize=(20,10))\n",
    "plt.title(\"Monthly List Price Comparison: 2023 v 2024\")\n",
    "plt.xlabel(\"Month\")\n",
    "plt.ylabel(\"Total List Price (Millions)\")\n",
    "plt.xticks(rotation=45)\n",
    "plt.show()"
   ]
  },
  {
   "cell_type": "markdown",
   "id": "f9305c8c-c6f7-4ebe-8745-caee1810d184",
   "metadata": {},
   "source": [
    "### A line graph does a better job of showing us what month was best in both years. For both years the highest prices were in the summer months of June and July. As in the listing graphs, these prices also start to go down as winter approaches. I would say that 2024 saw an increase in home prices for sure, but it is cooling down."
   ]
  },
  {
   "cell_type": "markdown",
   "id": "97f04eb0-29b6-41ea-97ef-12c54dfebc22",
   "metadata": {},
   "source": [
    "## Overall I would say that at this point in the year that listings and pricings are going down. With the coming winter months people will not be listing as many houses and those that are, will be lowering their prices to sell."
   ]
  },
  {
   "cell_type": "markdown",
   "id": "80c4ab69-327d-478c-9515-07e127cd56b7",
   "metadata": {},
   "source": [
    "# 3) Should I wait to invest or should I invest now and if so then where should I invest. (You could recommend more than one place)? 10 points (**Matt Henning**)\n",
    "---"
   ]
  },
  {
   "cell_type": "markdown",
   "id": "6290d37d",
   "metadata": {},
   "source": [
    "## Should You Invest Now or Wait? Where Should You Invest?"
   ]
  },
  {
   "cell_type": "code",
   "execution_count": null,
   "id": "045395c8-83eb-4599-b285-e0253aefd090",
   "metadata": {},
   "outputs": [],
   "source": [
    "import pandas as pd\n",
    "import seaborn as sns\n",
    "import matplotlib.pyplot as plt"
   ]
  },
  {
   "cell_type": "code",
   "execution_count": null,
   "id": "707745b8-2e03-4e5e-9cec-0a764c343a5f",
   "metadata": {},
   "outputs": [],
   "source": [
    "# Load datasets\n",
    "zhvi_data = pd.read_csv('ZHVI_Metro_zhvi_uc_sfr_tier_0.33_0.67_sm_sa_month.csv')\n",
    "zori_data = pd.read_csv('ZORI_Metro_zordi_uc_sfr_month.csv')\n",
    "market_temp_data = pd.read_csv('MARKET_TEMP_Metro_market_temp_index_uc_sfrcondo_month.csv')\n",
    "dttp_data = pd.read_csv('DTTP_Metro_mean_doz_pending_uc_sfrcondo_month.csv')\n",
    "inventory_data = pd.read_csv('FOR_SALE_INVENTORY_Metro_invt_fs_uc_sfr_sm_month.csv')\n",
    "\n",
    "# Display data to ensure it loaded\n",
    "zhvi_data.head(), zori_data.head(), market_temp_data.head(), dttp_data.head(), inventory_data.head()\n",
    "# Reshape datasets for 2023-2024\n",
    "def reshape_and_filter(df, id_vars, value_name, start_year=2023, end_year=2024):\n",
    "    df_long = df.melt(id_vars=id_vars, var_name=\"Date\", value_name=value_name)\n",
    "    df_long[\"Date\"] = pd.to_datetime(df_long[\"Date\"], errors=\"coerce\")\n",
    "    return df_long[\n",
    "        (df_long[\"Date\"].dt.year >= start_year) & (df_long[\"Date\"].dt.year <= end_year)\n",
    "    ]\n"
   ]
  },
  {
   "cell_type": "code",
   "execution_count": null,
   "id": "a90bf9c0-8c37-4cb4-b34b-bf753fdfebd2",
   "metadata": {},
   "outputs": [],
   "source": [
    "# Extract the latest data for analysis, rename for zhvi and zori to clarify and tracking\n",
    "zhvi_latest = zhvi_data[['RegionName', 'StateName', '2024-10-31']].rename(columns={'2024-10-31': 'ZHVI_Latest'})\n",
    "zori_latest = zori_data[['RegionName', 'StateName', '2024-10-31']].rename(columns={'2024-10-31': 'ZORI_Latest'})\n",
    "market_temp_latest = market_temp_data[['RegionName', 'StateName', '2024-10-31']].rename(columns={'2024-10-31': 'MarketTemp_Latest'})\n",
    "\n",
    "# Merge datasets, merging the zhvi and zori for region and state, makes it more clear and remove united states as a region\n",
    "combined_data = pd.merge(zhvi_latest, zori_latest, on=['RegionName', 'StateName'], how='inner')\n",
    "combined_data = pd.merge(combined_data, market_temp_latest, on=['RegionName', 'StateName'], how='inner')\n",
    "\n",
    "# Rank markets by metrics, metrics being \"hottest\" by state/region \n",
    "combined_data['ZHVI_Rank'] = combined_data['ZHVI_Latest'].rank(ascending=False)\n",
    "combined_data['ZORI_Rank'] = combined_data['ZORI_Latest'].rank(ascending=False)\n",
    "combined_data['MarketTemp_Rank'] = combined_data['MarketTemp_Latest'].rank(ascending=False)\n",
    "\n",
    "# Calculate overall rank\n",
    "combined_data['Overall_Rank'] = combined_data[['ZHVI_Rank', 'ZORI_Rank', 'MarketTemp_Rank']].mean(axis=1)\n",
    "\n",
    "# Top-performing markets\n",
    "top_markets = combined_data.sort_values(by='Overall_Rank').head(10)\n",
    "top_markets"
   ]
  },
  {
   "cell_type": "code",
   "execution_count": null,
   "id": "b87a298f-5e48-466f-b922-f9136322b720",
   "metadata": {},
   "outputs": [],
   "source": [
    "# Filter inventory_data and dttp_data for October 2023 to October 2024\n",
    "def filter_by_date_range(df, start_date, end_date, id_vars, value_name):\n",
    "    # Melt the dataset to reshape it\n",
    "    df_long = df.melt(id_vars=id_vars, var_name=\"Date\", value_name=value_name)\n",
    "    # Convert the Date column to datetime explicitly specifying the format\n",
    "    df_long[\"Date\"] = pd.to_datetime(df_long[\"Date\"], format=\"%Y-%m-%d\", errors=\"coerce\")\n",
    "    # Filter by the date range\n",
    "    return df_long[(df_long[\"Date\"] >= start_date) & (df_long[\"Date\"] <= end_date)]\n",
    "\n",
    "# Define the date range\n",
    "start_date = \"2023-10-01\"\n",
    "end_date = \"2024-10-31\"\n",
    "\n",
    "# Reshape and filter inventory_data\n",
    "inventory_filtered = filter_by_date_range(\n",
    "    inventory_data, start_date, end_date, id_vars=[\"RegionName\", \"StateName\"], value_name=\"Inventory\"\n",
    ")\n",
    "\n",
    "# Reshape and filter dttp_data\n",
    "dttp_filtered = filter_by_date_range(\n",
    "    dttp_data, start_date, end_date, id_vars=[\"RegionName\", \"StateName\"], value_name=\"DaysOnMarket\"\n",
    ")\n",
    "\n",
    "# Aggregate the filtered data to get the latest values (October 2024)\n",
    "inventory_latest = inventory_filtered.groupby([\"RegionName\", \"StateName\"])[\"Inventory\"].last().reset_index()\n",
    "dttp_latest = dttp_filtered.groupby([\"RegionName\", \"StateName\"])[\"DaysOnMarket\"].last().reset_index()\n",
    "\n",
    "# Merge the filtered and aggregated data with top markets\n",
    "investment_data = pd.merge(top_markets, inventory_latest, on=[\"RegionName\", \"StateName\"], how=\"inner\")\n",
    "investment_data = pd.merge(investment_data, dttp_latest, on=[\"RegionName\", \"StateName\"], how=\"inner\")\n",
    "\n",
    "print(investment_data)"
   ]
  },
  {
   "cell_type": "code",
   "execution_count": null,
   "id": "1d84ce0e",
   "metadata": {},
   "outputs": [],
   "source": [
    "# Analyze inventory and days on market trends\n",
    "inventory_latest = inventory_data[['RegionName', 'StateName', '2024-10-31']].rename(columns={'2024-10-31': 'Inventory_Latest'})\n",
    "dttp_latest = dttp_data[['RegionName', 'StateName', '2024-10-31']].rename(columns={'2024-10-31': 'DaysOnMarket_Latest'})\n",
    "\n",
    "# Merge with top markets data\n",
    "investment_data = pd.merge(top_markets, inventory_latest, on=['RegionName', 'StateName'], how='inner')\n",
    "investment_data = pd.merge(investment_data, dttp_latest, on=['RegionName', 'StateName'], how='inner')\n",
    "\n",
    "# Display investment data\n",
    "investment_data"
   ]
  },
  {
   "cell_type": "code",
   "execution_count": null,
   "id": "f277c498",
   "metadata": {},
   "outputs": [],
   "source": [
    "# Scatter plot: Market Activity vs Rental Yields\n",
    "plt.figure(figsize=(10, 6))\n",
    "plt.scatter(investment_data['MarketTemp_Latest'], investment_data['ZORI_Latest'], color='cyan', s=100, edgecolors='k', alpha=0.7)\n",
    "for i, region in enumerate(investment_data['RegionName']):\n",
    "    plt.text(investment_data['MarketTemp_Latest'].iloc[i], investment_data['ZORI_Latest'].iloc[i], region, fontsize=8)\n",
    "\n",
    "plt.xlabel('Market Activity (Temperature Heat Index)')\n",
    "plt.ylabel('ZORI (Rent Index)')\n",
    "plt.title('Market Activity vs Rental Yields (Top Markets)')\n",
    "plt.grid(True, linestyle='--', alpha=0.5)\n",
    "plt.show()"
   ]
  },
  {
   "cell_type": "markdown",
   "id": "2e3a901c-f411-45ab-93af-74379da3982f",
   "metadata": {},
   "source": [
    "### **Market Activity vs Rental Yields**\n",
    "\n",
    "This scatter plot illustrates the relationship between **Market Activity (Temperature Heat Index)** and **Rental Yields (ZORI)** in the top-performing real estate markets. It helps identify the type of opportunities each market offers based on competition and rental income potential.\n",
    "\n",
    "- **High Rental Yields, Moderate Competition**:  \n",
    "  Markets with strong rental yields but lower competition (low temperature index) could be undervalued gems. These areas may provide great opportunities for rental investments with less competition from other buyers. For example, if a market has high ZORI but relatively low Market Activity, it’s likely a lucrative market for rental income.\n",
    "\n",
    "- **Highly Competitive Markets**:  \n",
    "  In markets with high activity (high temperature index), such as **San Jose, CA**, rental yields might be lower, but these areas excel in price appreciation. Such markets are ideal for investors interested in flipping or selling upgraded properties quickly at a profit.\n",
    "\n",
    "- **Key Takeaway**:  \n",
    "  This plot helps investors balance their strategies:  \n",
    "  - For rental income, focus on markets with high ZORI and moderate competition.  \n",
    "  - For flipping and quick resale, target markets with high competition and appreciation potential.  \n",
    "  Use this visualization to identify which markets align with your investment goals.\n"
   ]
  },
  {
   "cell_type": "code",
   "execution_count": null,
   "id": "ce37c097-04fb-47bd-b11e-ab241e2842c3",
   "metadata": {},
   "outputs": [],
   "source": [
    "# joint plot\n",
    "sns.set(style=\"whitegrid\")\n",
    "plt.figure(figsize=(10, 8))\n",
    "sns.jointplot(\n",
    "    data=investment_data,\n",
    "    x=\"Inventory_Latest\",\n",
    "    y=\"DaysOnMarket_Latest\",\n",
    "    kind=\"scatter\",\n",
    "    hue=\"RegionName\",\n",
    "    palette=\"tab10\",\n",
    "    height=8,\n",
    "    marginal_kws=dict(bins=20, fill=True),\n",
    ")\n",
    "\n",
    "plt.suptitle(\"Inventory Levels vs. Days on Market in Top Markets\", y=1.02, fontsize=16)\n",
    "plt.xlabel(\"Inventory Levels (Units)\")\n",
    "plt.ylabel(\"Days on Market\")\n",
    "plt.show()\n",
    "\n"
   ]
  },
  {
   "cell_type": "code",
   "execution_count": null,
   "id": "5d70ed22-6327-49e6-9c93-747b3e9d5fde",
   "metadata": {},
   "outputs": [],
   "source": [
    "# Import necessary libraries\n",
    "import seaborn as sns\n",
    "import matplotlib.pyplot as plt\n",
    "\n",
    "# Bubble graph\n",
    "sns.set(style=\"whitegrid\")\n",
    "plt.figure(figsize=(10, 8))\n",
    "\n",
    "# Create a bubble graph\n",
    "sns.scatterplot(\n",
    "    data=investment_data,\n",
    "    x=\"Inventory_Latest\",\n",
    "    y=\"DaysOnMarket_Latest\",\n",
    "    size=\"ZORI_Latest\",  # Bubble size reflects rental yields (or choose another metric)\n",
    "    hue=\"RegionName\",  # Different colors for regions\n",
    "    palette=\"tab10\",  # Color palette for regions\n",
    "    sizes=(50, 500),  # Adjust size range for bubbles\n",
    "    alpha=0.7  # Transparency for better visibility\n",
    ")\n",
    "\n",
    "# Add titles and labels\n",
    "plt.title(\"Inventory Levels vs. Days on Market in Top Markets (Bubble Size: Rental Yields)\", fontsize=16, pad=15)\n",
    "plt.xlabel(\"Inventory Levels (Units)\", fontsize=12)\n",
    "plt.ylabel(\"Days on Market\", fontsize=12)\n",
    "plt.legend(bbox_to_anchor=(1.05, 1), loc=\"upper left\", title=\"Region\")\n",
    "plt.grid(alpha=0.5)\n",
    "\n",
    "# Display the plot\n",
    "plt.tight_layout()\n",
    "plt.show()\n",
    "\n"
   ]
  },
  {
   "cell_type": "markdown",
   "id": "98b8742c-dbc8-43fb-a0d4-e76b9ab7dbf5",
   "metadata": {},
   "source": [
    "### **Inventory Levels vs. Days on Market**\n",
    "\n",
    "These visualizations explore the relationship between **Inventory Levels** and **Days on Market** in the top-performing real estate markets. \n",
    "\n",
    "  - **Scatter Plot**: Each point represents a market (region), showing how much inventory is available (x-axis) and how quickly homes are selling (y-axis).\n",
    "  - **Hue for Region Names**: Each market is color-coded to help differentiate between the top-performing locations.\n",
    "  - **Marginal Distributions**: Histograms along the axes show the distribution of inventory levels and days on market, revealing overall trends.\n",
    "  -  **Bubble Chart**: This bubble chart explores the relationship between **Inventory Levels** (x-axis) and **Days on Market** (y-axis) in the top-performing real estate markets. It also incorporates:\n",
    "- **Bubble Size**: Reflects rental yields (ZORI_Latest), with larger bubbles representing higher rental profitability.\n",
    "- **Hue for Region Names**: Each region is color-coded, allowing easy differentiation between markets.\n",
    "\n",
    "\n",
    "- **Key Insights**:\n",
    "  1. **Low Inventory, Low Days on Market**:  \n",
    "     Markets with low inventory and quick sales (e.g., low days on market) are highly competitive, making them ideal for flipping or quick resale. These markets indicate high buyer demand and fast-moving properties.\n",
    "  2. **High Inventory, High Days on Market**:  \n",
    "     Markets with higher inventory and longer days on market may offer opportunities for investors to negotiate better deals. These areas are more suited for rental investments, where securing a property at a lower cost may yield higher returns over time.\n",
    "  3. **Balanced Markets**:  \n",
    "     Some markets show moderate inventory levels and days on market, striking a balance between availability and demand. These markets can be a good choice for both flipping and long-term investments.\n",
    "\n",
    "- **Why I care**:  \n",
    "  This visualization helps you identify markets that align with your goals:\n",
    "  - For **quick resale**: Look for markets with low inventory and days on market.  \n",
    "  - For **long-term rental investments**: Focus on markets with higher inventory, as they may provide more favorable purchase conditions.\n",
    "\n",
    "Th scatter plot and bubble chart show how competitive a market is.\n"
   ]
  },
  {
   "cell_type": "code",
   "execution_count": null,
   "id": "3bf05dd3-5134-4e71-9c8d-5cacb124c146",
   "metadata": {},
   "outputs": [],
   "source": [
    "print(investment_data.columns)\n"
   ]
  },
  {
   "cell_type": "code",
   "execution_count": null,
   "id": "ee2010db-d38c-4288-969c-38ce1724804f",
   "metadata": {},
   "outputs": [],
   "source": [
    "# Rename columns for heatmp\n",
    "investment_data = investment_data.rename(columns={\n",
    "    \"inventory_latest\": \"Inventory\",\n",
    "    \"days_on_market_latest\": \"DaysOnMarket\"\n",
    "})"
   ]
  },
  {
   "cell_type": "code",
   "execution_count": null,
   "id": "7ecdcf41-1694-4926-a100-8ebe922cc5e8",
   "metadata": {},
   "outputs": [],
   "source": [
    "# Merge inventory and days on market data with top markets\n",
    "investment_data = pd.merge(\n",
    "    top_markets,\n",
    "    inventory_data[['RegionName', 'StateName', '2024-10-31']].rename(columns={'2024-10-31': 'Inventory'}),\n",
    "    on=['RegionName', 'StateName'],\n",
    "    how='inner'\n",
    ")\n",
    "investment_data = pd.merge(\n",
    "    investment_data,\n",
    "    dttp_data[['RegionName', 'StateName', '2024-10-31']].rename(columns={'2024-10-31': 'DaysOnMarket'}),\n",
    "    on=['RegionName', 'StateName'],\n",
    "    how='inner'\n",
    ")"
   ]
  },
  {
   "cell_type": "code",
   "execution_count": null,
   "id": "7a805154-8886-45cb-a8a7-138739b18119",
   "metadata": {},
   "outputs": [],
   "source": [
    "# Prepare data for the heatmap\n",
    "heatmap_data = investment_data.set_index(\"RegionName\")[[\"Inventory\", \"DaysOnMarket\", \"ZORI_Latest\", \"ZHVI_Latest\"]]\n",
    "\n",
    "\n",
    "# Plot the heatmap\n",
    "plt.figure(figsize=(12, 8))\n",
    "sns.heatmap(heatmap_data, cmap=\"YlGnBu\", annot=True, fmt=\".2f\", linewidths=0.5)\n",
    "plt.title(\"Market Dynamics Heatmap: Key Metrics by Region\", fontsize=16)\n",
    "plt.ylabel(\"Region\", fontsize=12)\n",
    "plt.xlabel(\"Metric\", fontsize=12)\n",
    "plt.show()\n",
    "\n"
   ]
  },
  {
   "cell_type": "code",
   "execution_count": null,
   "id": "bdd90d1a-9e24-45df-984a-2c92dd27c604",
   "metadata": {},
   "outputs": [],
   "source": [
    "# exact same as before but with each metric normalized, easier on the eyes\n",
    "heatmap_data = investment_data.set_index(\"RegionName\")[[\"Inventory\", \"DaysOnMarket\", \"ZORI_Latest\", \"ZHVI_Latest\"]]\n",
    "#added after too much trial and error to \"normalize the data\"\n",
    "heatmap_data = (heatmap_data - heatmap_data.min()) / (heatmap_data.max() - heatmap_data.min())\n",
    "\n",
    "# Plot the heatmap\n",
    "plt.figure(figsize=(12, 8))\n",
    "sns.heatmap(heatmap_data, cmap=\"YlGnBu\", annot=True, fmt=\".2f\", linewidths=0.5)\n",
    "plt.title(\"Market Dynamics Heatmap: Key Metrics by Region\", fontsize=16)\n",
    "plt.ylabel(\"Region\", fontsize=12)\n",
    "plt.xlabel(\"Metric\", fontsize=12)\n",
    "plt.show()\n",
    "\n"
   ]
  },
  {
   "cell_type": "markdown",
   "id": "cc5689ab-2cac-4ca4-8796-0f3af28e483f",
   "metadata": {},
   "source": [
    "## **Market Dynamics Heatmap: Key Metrics by Region**\n",
    "\n",
    "This heatmap provides a side-by-side comparison of the four metrics provided by Zillow metrics across several regions. Each metric is normalized (scaled between 0 and 1) to make comparisons across different scales possible. Darker shades indicate higher values, while lighter shades indicate lower values.\n",
    "\n",
    "---\n",
    "\n",
    "### **Zillow Metrics Explained**\n",
    "1. **Inventory**:\n",
    "   - Measures the number of homes available for sale in the region.\n",
    "   - **Darker cells** (higher values): Indicate regions with more inventory, suggesting a buyer's market with less competition.\n",
    "   - **Lighter cells** (lower values): Indicate tighter inventory, signaling a seller's market.\n",
    "\n",
    "2. **Days on Market (DOM)**:\n",
    "   - Tracks how quickly properties are selling in the region.\n",
    "   - **Darker cells** (higher values): Indicate properties take longer to sell, possibly due to lower demand or higher pricing.\n",
    "   - **Lighter cells** (lower values): Indicate \"hot\" markets with high buyer demand and quick sales.\n",
    "\n",
    "3. **ZORI_Latest**:\n",
    "   - Reflects the rental yields (Zillow Observed Rent Index) in the region.\n",
    "   - **Darker cells** (higher values): Indicate stronger rental demand and higher profitability for landlords.\n",
    "   - **Lighter cells** (lower values): Suggest lower rental profitability.\n",
    "\n",
    "4. **ZHVI_Latest**:\n",
    "   - Represents home value appreciation (Zillow Home Value Index).\n",
    "   - **Darker cells** (higher values): Indicate regions with strong price growth and high property values.\n",
    "   - **Lighter cells** (lower values): Suggest lower appreciation potential.\n",
    "\n",
    "---\n",
    "\n",
    "### **Key Insights**\n",
    "1. **San Jose, CA**:\n",
    "   - **Low Inventory** (0.14) but **High ZHVI_Latest** (1.00): Indicates a highly competitive market with strong home value growth, ideal for *immediate* appreciation-focused investments.\n",
    "\n",
    "2. **Salinas, CA**:\n",
    "   - **Extremely Low Inventory** (0.01) and **High ZORI_Latest** (1.00): Suggests a tight rental market with high profitability for landlords.\n",
    "\n",
    "3. **Manchester, NH**:\n",
    "   - **Very Low Inventory** (0.00) and **Moderate Rental Yields** (0.20): Indicates strong demand but lower rental profitability compared to other markets.\n",
    "\n",
    "4. **Washington, DC**:\n",
    "   - **High Inventory** (1.00) but **Low Rental Yields** (0.03): Suggests a cooling market with opportunities for negotiation but less attractive for rental income.\n",
    "\n",
    "5. **Springfield, MA**:\n",
    "   - **Moderate Inventory** (0.06) and **High ZORI_Latest** (0.74): A balanced market offering strong rental yields and moderate competition.\n",
    "\n",
    "---\n",
    "\n",
    "### **How to Use This Heatmap**\n",
    "- **For Flipping**:\n",
    "  - Focus on regions with **low inventory** and **high ZHVI_Latest**, such as *San Jose, CA* and *Salinas, CA*.\n",
    "- **For Rental Income**:\n",
    "  - Target regions with **high ZORI_Latest**, like *Salinas, CA* or *Springfield, MA*, for strong rental profitability.\n",
    "- **Bonus Opportunities**:\n",
    "  - Check out regions with **high inventory** and **long days on market**, like *Washington, DC*, where buyers have leverage.\n",
    "\n"
   ]
  },
  {
   "cell_type": "markdown",
   "id": "f6f5a2bc",
   "metadata": {},
   "source": [
    "### **Conclusion on Q3 -- Should You Invest Now or Wait? Where Should You Invest?**\n",
    "\n",
    "Given the current market trends, **now is a favorable time to invest** in real estate. Many markets demonstrate strong price growth and competitive activity, suggesting demand remains high. \n",
    "\n",
    "- **Invest Now If**: You aim to capitalize on current market dynamics, particularly in competitive regions with strong price appreciation like **San Jose, CA**. Quick resale opportunities are better in these high-demand markets.\n",
    "- **Recommended Markets**:\n",
    "  - For rental income: *Salinas, CA* and *Springfield, MA*, with strong rental yields and moderate competition.\n",
    "  - For flipping: *San Francisco, CA* and *San Jose, CA*, where price appreciation remains robust, and demand is strong.\n",
    "\n",
    "Investing now in the above chosen markets to yield significant returns."
   ]
  },
  {
   "cell_type": "markdown",
   "id": "f1d5b5cc-d93a-4a8e-baf1-2ab890129431",
   "metadata": {},
   "source": [
    "# 4) How long some of the real-estate stays on the market before they rent or sell? 10 points (**Tracy Mengyuan Cui**)\n",
    "---"
   ]
  },
  {
   "cell_type": "markdown",
   "id": "41c2febc-c5e8-4e8d-a45c-4815007d9549",
   "metadata": {},
   "source": [
    "1. Importing the required libraries for EDA"
   ]
  },
  {
   "cell_type": "code",
   "execution_count": null,
   "id": "ce59463f-66da-44aa-908c-76e305aa97a7",
   "metadata": {},
   "outputs": [],
   "source": [
    "# %pip install pandas\n",
    "# %pip install numpy\n",
    "# %pip install seaborn\n",
    "%pip install geopandas contextily"
   ]
  },
  {
   "cell_type": "code",
   "execution_count": null,
   "id": "1ec97959-a56e-4263-ae7f-564d3f1d88b0",
   "metadata": {},
   "outputs": [],
   "source": [
    "import pandas as pd\n",
    "import numpy as np\n",
    "import seaborn as sns                       #visualisation\n",
    "import matplotlib.pyplot as plt             #visualisation\n",
    "import geopandas as gpd\n",
    "# import contextily\n",
    "%matplotlib inline     \n",
    "sns.set(color_codes=True)"
   ]
  },
  {
   "cell_type": "markdown",
   "id": "fc22972f-3e4f-4a33-8fe6-5b25c4aa3032",
   "metadata": {},
   "source": [
    "2. Loading the data into the data frame"
   ]
  },
  {
   "cell_type": "code",
   "execution_count": null,
   "id": "c33d3fd9-7f03-4738-93db-a17f44d667d5",
   "metadata": {},
   "outputs": [],
   "source": [
    "import os\n",
    "os.getcwd()"
   ]
  },
  {
   "cell_type": "markdown",
   "id": "fd83ff20-e44b-4657-95ea-4d4f214a84d4",
   "metadata": {},
   "source": [
    "Days to Pending: How long it takes homes in a region to change to pending status on Zillow.com after first being shown as for sale. The reported figure indicates the number of days (mean or median) that it took for homes that went pending during the week being reported, to go pending. This differs from the old “Days on Zillow” metric in that it excludes the in-contract period before a home sells."
   ]
  },
  {
   "cell_type": "code",
   "execution_count": null,
   "id": "ddf686e6-f707-4779-a888-1c5b06a8ccc3",
   "metadata": {},
   "outputs": [],
   "source": [
    "# Mean days of pending (monthly)\n",
    "df1 = pd.read_csv(\"Metro_mean_doz_pending_uc_sfrcondo_sm_month.csv\")\n",
    "# To display the top 5 rows \n",
    "df1.head(5)   "
   ]
  },
  {
   "cell_type": "code",
   "execution_count": null,
   "id": "4c6dcac9-e381-4a36-854e-721ef5a1cf39",
   "metadata": {},
   "outputs": [],
   "source": [
    "# Median days of pending\n",
    "df2 = pd.read_csv(\"Metro_med_doz_pending_uc_sfrcondo_sm_month.csv\")\n",
    "# To display the top 5 rows \n",
    "df2.head(5)   "
   ]
  },
  {
   "cell_type": "markdown",
   "id": "e5b5ae84-fc6d-4f11-a027-8e52f53a8ce2",
   "metadata": {},
   "source": [
    "Days to Close (mean/median): Number of days between the listing going pending and the sale date."
   ]
  },
  {
   "cell_type": "code",
   "execution_count": null,
   "id": "b2ab7a65-b55d-4ae7-a159-4b58305ad33a",
   "metadata": {},
   "outputs": [],
   "source": [
    "# Mean days to close\n",
    "df3 = pd.read_csv(\"Metro_mean_days_to_close_uc_sfrcondo_sm_month.csv\")\n",
    "# To display the top 5 rows \n",
    "df3.head(5)   "
   ]
  },
  {
   "cell_type": "code",
   "execution_count": null,
   "id": "1942a99e-961d-4dd5-8518-48c12ec0aece",
   "metadata": {},
   "outputs": [],
   "source": [
    "# Median days to close\n",
    "df4 = pd.read_csv(\"Metro_median_days_to_close_uc_sfrcondo_sm_month.csv\")\n",
    "# To display the top 5 rows \n",
    "df4.head(5) "
   ]
  },
  {
   "cell_type": "code",
   "execution_count": null,
   "id": "9254b0ee-0ea3-43b5-bc68-5ee340587200",
   "metadata": {},
   "outputs": [],
   "source": [
    "df1.count()"
   ]
  },
  {
   "cell_type": "code",
   "execution_count": null,
   "id": "cf032621-0e3f-4559-af3c-297c8a5e36c9",
   "metadata": {},
   "outputs": [],
   "source": [
    "df3.count()"
   ]
  },
  {
   "cell_type": "markdown",
   "id": "2d692bc5-6a2e-4485-a921-3e9097219686",
   "metadata": {},
   "source": [
    "How long some of the real-estate stays on the market before they rent or sell? The real-estate stays on the market means Days to Pending plus Days to Close."
   ]
  },
  {
   "cell_type": "markdown",
   "id": "f376bc6c-6af5-48ae-b6d0-3abe2b7e8b3a",
   "metadata": {},
   "source": [
    "Mean days on Market"
   ]
  },
  {
   "cell_type": "code",
   "execution_count": null,
   "id": "1f0f8498-194c-41c6-bed4-09f4c50b3cdd",
   "metadata": {},
   "outputs": [],
   "source": [
    "non_numeric_columns = ['RegionID', 'RegionName', 'RegionType', 'StateName','SizeRank']\n",
    "\n",
    "# Keep non-numerical columns\n",
    "df_result = df1[non_numeric_columns].copy()\n",
    "\n",
    "# Add numerical columns\n",
    "df_sum = df1.drop(columns=non_numeric_columns).add(df3.drop(columns=non_numeric_columns), fill_value=0)\n",
    "\n",
    "# Combine back\n",
    "df_result = pd.concat([df_result, df_sum], axis=1)"
   ]
  },
  {
   "cell_type": "code",
   "execution_count": null,
   "id": "11c86253-0bf3-4b90-b0ef-6f347d18ef8b",
   "metadata": {},
   "outputs": [],
   "source": [
    "df_result.head(5)"
   ]
  },
  {
   "cell_type": "code",
   "execution_count": null,
   "id": "20619ff5-c938-4a18-8402-4bed1ea9af74",
   "metadata": {},
   "outputs": [],
   "source": [
    "# Filter data for United States\n",
    "US_mean_data = df_result[df_result['RegionName'] == 'United States']\n",
    "\n",
    "# Drop non-numeric columns to focus on numerical data\n",
    "US_mean_numeric_data = US_mean_data.drop(columns=['RegionID', 'RegionName', 'RegionType', 'StateName', 'SizeRank'])"
   ]
  },
  {
   "cell_type": "code",
   "execution_count": null,
   "id": "b9c47d00-9d3d-40b9-9913-6c3fc9f67709",
   "metadata": {},
   "outputs": [],
   "source": [
    "US_mean_data"
   ]
  },
  {
   "cell_type": "code",
   "execution_count": null,
   "id": "e59ed0cd-fee6-42fd-b6f4-08fd8bbf42ad",
   "metadata": {},
   "outputs": [],
   "source": [
    "US_mean_numeric_data  = US_mean_numeric_data.T  # Transpose for easier handling\n",
    "US_mean_numeric_data .index = pd.to_datetime(US_mean_numeric_data .index)\n",
    "US_mean_numeric_data ['Year group'] = US_mean_numeric_data .index.year\n",
    "\n",
    "# Group by year and calculate the average\n",
    "yearly_data = US_mean_numeric_data .groupby('Year group').mean()\n",
    "\n",
    "# Plot yearly data\n",
    "plt.figure(figsize=(10, 6))\n",
    "plt.plot(yearly_data.index, yearly_data.values, marker='o', linestyle='-', color='blue')\n",
    "plt.title(\"Yearly Average of Real Estate mean stays for US\")\n",
    "plt.xlabel(\"Year group\")\n",
    "plt.ylabel(\"Average Value\")\n",
    "plt.grid(True)\n",
    "plt.show()"
   ]
  },
  {
   "cell_type": "markdown",
   "id": "e6a49682-83b9-47e6-ad4c-f1e5bccb8842",
   "metadata": {},
   "source": [
    "Median days on Market"
   ]
  },
  {
   "cell_type": "code",
   "execution_count": null,
   "id": "2fc329de-b0ba-4fd9-a0c4-03a652db5c9a",
   "metadata": {},
   "outputs": [],
   "source": [
    "non_numeric_columns = ['RegionID', 'RegionName', 'RegionType', 'StateName','SizeRank']\n",
    "\n",
    "# Keep non-numerical columns\n",
    "df_median_result = df2[non_numeric_columns].copy()\n",
    "\n",
    "# Add numerical columns\n",
    "df_median_sum = df2.drop(columns=non_numeric_columns).add(df4.drop(columns=non_numeric_columns), fill_value=0)\n",
    "\n",
    "# Combine back\n",
    "df_median_result = pd.concat([df_median_result, df_median_sum], axis=1)"
   ]
  },
  {
   "cell_type": "code",
   "execution_count": null,
   "id": "f2c0a9ca-c673-453a-b38d-3fd9f7a07e68",
   "metadata": {},
   "outputs": [],
   "source": [
    "df_median_result.head(5)"
   ]
  },
  {
   "cell_type": "code",
   "execution_count": null,
   "id": "05c65588-b5be-4da3-a57f-b90cd38677c1",
   "metadata": {},
   "outputs": [],
   "source": [
    "# Filter data for United States\n",
    "US_median_data = df_median_result[df_median_result['RegionName'] == 'United States']\n",
    "\n",
    "# Drop non-numeric columns to focus on numerical data\n",
    "US_median_numeric_data = US_median_data.drop(columns=['RegionID', 'RegionName', 'RegionType', 'StateName', 'SizeRank'])"
   ]
  },
  {
   "cell_type": "code",
   "execution_count": null,
   "id": "ac90552d-6d31-49a8-8f65-803fff3cd85e",
   "metadata": {},
   "outputs": [],
   "source": [
    "US_median_data"
   ]
  },
  {
   "cell_type": "code",
   "execution_count": null,
   "id": "00fcd281-4bd5-4071-af5a-a07b5978ab80",
   "metadata": {},
   "outputs": [],
   "source": [
    "US_median_numeric_data = US_median_numeric_data.T  # Transpose for easier handling\n",
    "US_median_numeric_data.index = pd.to_datetime(US_median_numeric_data.index)\n",
    "US_median_numeric_data['Year'] = US_median_numeric_data.index.year\n",
    "\n",
    "# Group by year and calculate the average\n",
    "yearly_median_data = US_median_numeric_data.groupby('Year').mean()\n",
    "\n",
    "# Plot yearly data\n",
    "plt.figure(figsize=(10, 6))\n",
    "plt.plot(yearly_median_data.index, yearly_median_data.values, marker='o', linestyle='-', color='blue')\n",
    "plt.title(\"Yearly Average of Real Estate median stays for US\")\n",
    "plt.xlabel(\"Year\")\n",
    "plt.ylabel(\"Average Value\")\n",
    "plt.grid(True)\n",
    "plt.show()"
   ]
  },
  {
   "cell_type": "markdown",
   "id": "467bb922-18da-4f95-8399-e0196a6a78a9",
   "metadata": {},
   "source": [
    "Heatmap of map of US of mean days in 2024-10-31"
   ]
  },
  {
   "cell_type": "code",
   "execution_count": null,
   "id": "0202ec53-895c-40f2-afee-9e4c944d7e7f",
   "metadata": {},
   "outputs": [],
   "source": [
    "import geopandas as gpd\n",
    "import pandas as pd\n",
    "import matplotlib.pyplot as plt\n",
    "\n",
    "# Load the CSV file\n",
    "file_path = 'Metro_mean_days_to_close_uc_sfrcondo_sm_month.csv'  # Update the path if needed\n",
    "data = pd.read_csv(file_path)\n",
    "print(set(data[\"RegionName\"]))\n",
    "\n",
    "# # Exclude 'United States' row\n",
    "# filtered_data = data[data['RegionName'] != 'United States']\n",
    "\n",
    "\n",
    "# # Aggregating the yearly average if 'Year' is added\n",
    "# numeric_data = filtered_data.set_index('RegionName').iloc[:, 5:]\n",
    "# numeric_data = numeric_data.T  # Transpose for easier handling\n",
    "# numeric_data.index = pd.to_datetime(numeric_data.index)\n",
    "# numeric_data['Year'] = numeric_data.index.year\n",
    "# yearly_data = numeric_data.groupby('Year').mean().T.reset_index()\n",
    "\n",
    "# # Load city boundary shapefile (update the path)\n",
    "# cities = gpd.read_file(\"geo/ne_110m_populated_places.shp\")  # Update the path\n",
    "# cities.rename(columns={'NAME': 'StateName'}, inplace=True)  # Adjust based on actual column names\n",
    "# print(cities.head())\n",
    "\n",
    "# # Merge city data with geographical boundaries\n",
    "# merged = cities.merge(yearly_data, on='StateName', how='left')\n",
    "# merged.head()\n",
    "\n",
    "# # Plot the data on a U.S. map\n",
    "# fig, ax = plt.subplots(1, 1, figsize=(15, 10))\n",
    "# merged.plot(column='2023',  # Replace with the desired year column\n",
    "#             cmap='coolwarm',\n",
    "#             legend=True,\n",
    "#             legend_kwds={'label': 'Mean Days to Close'},\n",
    "#             ax=ax,\n",
    "#             edgecolor='black')\n",
    "\n",
    "# ax.set_title('Mean Days to Close by City (2023)')\n",
    "# plt.show()\n"
   ]
  },
  {
   "cell_type": "code",
   "execution_count": null,
   "id": "cce42832-2604-4455-b2eb-62d1bc219875",
   "metadata": {},
   "outputs": [],
   "source": [
    "# !pip install cartopy\n",
    "# !pip install tqdm\n",
    "# !pip install openpyxl"
   ]
  },
  {
   "cell_type": "code",
   "execution_count": null,
   "id": "c86cdfca-9f93-4e09-983d-6f74d3aa99b8",
   "metadata": {},
   "outputs": [],
   "source": [
    "import os\n",
    "os.getcwd()"
   ]
  },
  {
   "cell_type": "code",
   "execution_count": null,
   "id": "696bbee5-3495-481d-b05a-95d8cb4a475d",
   "metadata": {},
   "outputs": [],
   "source": [
    "import pandas as pd\n",
    "from tqdm import tqdm\n",
    "from geopy.geocoders import Nominatim\n",
    "import geopandas as gpd\n",
    "import matplotlib.pyplot as plt\n",
    "from matplotlib.colors import Normalize\n",
    "from mpl_toolkits.axes_grid1 import make_axes_locatable\n",
    "\n",
    "\n",
    "file_path = 'Metro_mean_days_to_close_uc_sfrcondo_sm_month.csv'  # Update the path if needed\n",
    "data = pd.read_csv(file_path)[1:]\n",
    "# print(data.head())\n",
    "data['City'] = data['RegionName'].apply(lambda x:x.split(\",\")[0])\n",
    "# print(data.head())\n",
    "data = data[[\"City\",\"StateName\",\"2024-09-30\"]]\n",
    "data.rename(columns={\"StateName\": \"State\", \"2024-09-30\": \"Value\"}, inplace=True)\n",
    "print(data.head())\n",
    "\n",
    "\n",
    "data['Latitude'] = None\n",
    "data['Longitude'] = None\n",
    "\n",
    "\n",
    "geolocator = Nominatim(user_agent=\"geoapi\")\n",
    "\n",
    "\n",
    "for idx, row in tqdm(data.iterrows(), total=data.shape[0], desc=\"Geocoding\"):\n",
    "    location = geolocator.geocode(f\"{row['City']}, {row['State']}\", timeout=10)\n",
    "    if location:\n",
    "        data.at[idx, 'Latitude'] = location.latitude\n",
    "        data.at[idx, 'Longitude'] = location.longitude\n",
    "\n",
    "\n",
    "data = data.dropna(subset=['Latitude', 'Longitude'])\n",
    "\n",
    "\n",
    "shapefile_path = '110m_cultural/ne_110m_admin_0_countries.shp'\n",
    "\n",
    "\n",
    "usa = gpd.read_file(shapefile_path)\n",
    "print(usa.columns)\n",
    "\n",
    "# usa = gpd.read_file(gpd.datasets.get_path('naturalearth_lowres'))\n",
    "usa = usa[usa['ADMIN'] == 'United States of America']\n",
    "\n",
    "\n",
    "gdf = gpd.GeoDataFrame(\n",
    "    data, \n",
    "    geometry=gpd.points_from_xy(data['Longitude'], data['Latitude']),\n",
    "    crs=\"EPSG:4326\"\n",
    ")\n",
    "\n",
    "\n",
    "fig, ax = plt.subplots(1, 1, figsize=(15, 10))\n",
    "usa.plot(ax=ax, color='lightgrey')\n",
    "\n",
    "\n",
    "norm = Normalize(vmin=data['Value'].min(), vmax=data['Value'].max())\n",
    "scatter = ax.scatter(\n",
    "    data['Longitude'], \n",
    "    data['Latitude'], \n",
    "    c=data['Value'], \n",
    "    cmap='Reds', \n",
    "    norm=norm, \n",
    "    s=50, \n",
    "    alpha=0.7\n",
    ")\n",
    "\n",
    "\n",
    "divider = make_axes_locatable(ax)\n",
    "cax = divider.append_axes(\"right\", size=\"5%\", pad=0.1)\n",
    "cbar = plt.colorbar(scatter, cax=cax)\n",
    "cbar.set_label('Value on 3/31/2018', fontsize=12)\n",
    "\n",
    "\n",
    "ax.set_title('Heatmap of Values on 3/31/2018 Across US Cities', fontsize=16)\n",
    "ax.set_xlabel('Longitude')\n",
    "ax.set_ylabel('Latitude')\n",
    "\n",
    "plt.show()\n"
   ]
  },
  {
   "cell_type": "markdown",
   "id": "aba456ed-995d-4df9-bbfd-81515fa5d127",
   "metadata": {},
   "source": [
    "# 5) How much average profit I could expect from my investments in terms of sale (% dollars) after paying mortgage. Calculate my ~ROI. 10 Points (**David Braun**)\n",
    "---"
   ]
  },
  {
   "cell_type": "code",
   "execution_count": null,
   "id": "957f5564-172a-4424-841a-aa09117c29b5",
   "metadata": {},
   "outputs": [],
   "source": [
    "\n",
    "import pandas as pd\n",
    "import matplotlib.pyplot as plt\n",
    "import numpy as np\n",
    "\n",
    "\n",
    "zhvi_df = pd.read_csv('Metro_zhvi_uc_sfr_tier_0.33_0.67_sm_sa_month.csv')  # Replace with actual path or input\n",
    "zhvf_df = pd.read_csv('Metro_zhvf_growth_uc_sfrcondo_tier_0.33_0.67_month.csv')  # Replace with actual path or input"
   ]
  },
  {
   "cell_type": "code",
   "execution_count": null,
   "id": "0bb81900-8602-4bd0-adf1-b699bcef3b67",
   "metadata": {},
   "outputs": [],
   "source": [
    "# Ensure RegionID exists and matches in both dataframes\n",
    "if 'RegionID' not in zhvi_df.columns or 'RegionID' not in zhvf_df.columns:\n",
    "    raise KeyError(\"Both DataFrames must contain 'RegionID' for merging.\")\n",
    "\n",
    "# Merge dataframes\n",
    "merged_df = zhvi_df.merge(zhvf_df, on='RegionID', suffixes=('_zhvi', '_zhvf'), how='inner')\n",
    "print(f\"Merged DataFrame shape: {merged_df.shape}\")"
   ]
  },
  {
   "cell_type": "code",
   "execution_count": null,
   "id": "dc9d51a8-f8c1-46b4-b07a-9b9a0b8b937e",
   "metadata": {},
   "outputs": [],
   "source": [
    "# Specify columns for ZHVI (current value) and ZHVF (forecasted value)\n",
    "roi_column_zhvi = '10/31/2024'  # Replace with the correct column from zhvi_df\n",
    "roi_column_zhvf = '11/30/2024'  # Replace with the correct column from zhvf_df\n",
    "\n",
    "# Check if these columns exist\n",
    "if roi_column_zhvi not in merged_df.columns or roi_column_zhvf not in merged_df.columns:\n",
    "    raise KeyError(f\"Columns '{roi_column_zhvi}' or '{roi_column_zhvf}' do not exist in the merged DataFrame.\")\n",
    "\n",
    "# Calculate ROI\n",
    "merged_df['ROI'] = (merged_df[roi_column_zhvi] - merged_df[roi_column_zhvf]) / merged_df[roi_column_zhvf] * 100\n",
    "print(\"ROI calculation complete.\")\n"
   ]
  },
  {
   "cell_type": "code",
   "execution_count": null,
   "id": "39fadc47-e714-41b4-af7b-125471135d4e",
   "metadata": {},
   "outputs": [],
   "source": [
    "# Remove rows with invalid ROI values\n",
    "merged_df = merged_df[np.isfinite(merged_df['ROI'])]\n",
    "merged_df = merged_df.dropna(subset=['ROI'])  # Drop NaN values in ROI\n",
    "print(f\"Cleaned DataFrame shape: {merged_df.shape}\")\n"
   ]
  },
  {
   "cell_type": "code",
   "execution_count": null,
   "id": "9d9d3fab-0607-47e5-bc1c-7de131d270a4",
   "metadata": {},
   "outputs": [],
   "source": [
    "import pandas as pd\n",
    "import matplotlib.pyplot as plt\n",
    "import numpy as np\n",
    "\n",
    "# Load the datasets\n",
    "zhvi_df = pd.read_csv('Metro_zhvi_uc_sfr_tier_0.33_0.67_sm_sa_month.csv')  # Replace with actual file path\n",
    "zhvf_df = pd.read_csv('Metro_zhvf_growth_uc_sfrcondo_tier_0.33_0.67_month.csv')  # Replace with actual file path\n",
    "\n",
    "# Merge the datasets on 'RegionID'\n",
    "merged_df = zhvi_df.merge(zhvf_df, on='RegionID', suffixes=('_zhvi', '_zhvf'), how='inner')\n",
    "\n",
    "# Specify columns for ROI calculation\n",
    "roi_column_zhvi = '10/31/2024'  # Adjust to the correct column name\n",
    "roi_column_zhvf = '11/30/2024'  # Adjust to the correct column name\n",
    "\n",
    "# Ensure the selected columns exist in the merged dataset\n",
    "if roi_column_zhvi in merged_df.columns and roi_column_zhvf in merged_df.columns:\n",
    "    # Calculate ROI\n",
    "    merged_df['ROI'] = (merged_df[roi_column_zhvi] - merged_df[roi_column_zhvf]) / merged_df[roi_column_zhvf] * 100\n",
    "\n",
    "    # Clean the data (remove invalid or non-finite ROI values)\n",
    "    merged_df = merged_df[np.isfinite(merged_df['ROI'])].dropna(subset=['ROI'])\n",
    "\n",
    "    # Create the boxplot\n",
    "    plt.figure(figsize=(10, 6))\n",
    "    plt.boxplot(merged_df['ROI'], vert=False, patch_artist=True, notch=True, showmeans=True)\n",
    "    plt.title(\"Boxplot of ROI\")\n",
    "    plt.xlabel(\"ROI (%)\")\n",
    "    plt.show()\n",
    "else:\n",
    "    print(f\"One or both columns '{roi_column_zhvi}' and '{roi_column_zhvf}' do not exist in the merged dataset.\")"
   ]
  },
  {
   "cell_type": "code",
   "execution_count": null,
   "id": "466c078b-dffa-4251-9b21-9905601f8d91",
   "metadata": {},
   "outputs": [],
   "source": [
    "# Calculate the IQR for ROI\n",
    "Q1 = merged_df['ROI'].quantile(0.25)  # First quartile (25th percentile)\n",
    "Q3 = merged_df['ROI'].quantile(0.75)  # Third quartile (75th percentile)\n",
    "IQR = Q3 - Q1  # Interquartile range\n",
    "\n",
    "# Define bounds for outliers\n",
    "lower_bound = Q1 - 1.5 * IQR\n",
    "upper_bound = Q3 + 1.5 * IQR\n",
    "\n",
    "print(f\"Lower Bound: {lower_bound}, Upper Bound: {upper_bound}\")"
   ]
  },
  {
   "cell_type": "code",
   "execution_count": null,
   "id": "69c9492c-60a8-420c-b8d6-b4ed88fc7ef8",
   "metadata": {},
   "outputs": [],
   "source": [
    "# Cap outliers at the lower and upper bounds\n",
    "merged_df['ROI'] = merged_df['ROI'].clip(lower=-81024616.83333334, upper=13659577.3888889)"
   ]
  },
  {
   "cell_type": "code",
   "execution_count": null,
   "id": "c393b020-e735-499a-b7a7-d5c5382d6e02",
   "metadata": {},
   "outputs": [],
   "source": [
    "# Calculate the IQR for ROI\n",
    "Q1 = merged_df['ROI'].quantile(0.25)  # First quartile (25th percentile)\n",
    "Q3 = merged_df['ROI'].quantile(0.75)  # Third quartile (75th percentile)\n",
    "IQR = Q3 - Q1  # Interquartile range\n",
    "\n",
    "# Define bounds for outliers\n",
    "lower_bound = Q1 - 1.5 * IQR\n",
    "upper_bound = Q3 + 1.5 * IQR\n",
    "\n",
    "# Remove outliers\n",
    "cleaned_df = merged_df[(merged_df['ROI'] >= lower_bound) & (merged_df['ROI'] <= upper_bound)]\n",
    "print(f\"Data size before cleaning: {merged_df.shape[0]}, after cleaning: {cleaned_df.shape[0]}\")\n"
   ]
  },
  {
   "cell_type": "code",
   "execution_count": null,
   "id": "508706c2-3415-40d1-a6d3-21e4e63e56e2",
   "metadata": {},
   "outputs": [],
   "source": [
    "# Create the boxplot after cleaning\n",
    "plt.figure(figsize=(10, 6))\n",
    "plt.boxplot(cleaned_df['ROI'], vert=False, patch_artist=True, notch=True, showmeans=True)\n",
    "plt.title(\"Boxplot of ROI After Cleaning\")\n",
    "plt.xlabel(\"ROI (%)\")\n",
    "plt.show()"
   ]
  },
  {
   "cell_type": "markdown",
   "id": "eba72979-53fb-40f4-b2e8-97ecefed454b",
   "metadata": {},
   "source": [
    "### Explanation \n",
    "#### Key Components of the Boxplot:\n",
    "\n",
    "1. **Blue Box**:\n",
    "   - Represents the **Interquartile Range (IQR)**, which spans the middle 50% of the data.\n",
    "   - The lower edge of the box is the first quartile (Q1, 25th percentile), and the upper edge is the third quartile (Q3, 75th percentile).\n",
    "\n",
    "2. **Horizontal Line Inside the Box**:\n",
    "   - Indicates the **median (Q2)**, or the midpoint of the data distribution.\n",
    "\n",
    "3. **Whiskers**:\n",
    "   - Extend to the smallest and largest data points within 1.5 times the IQR from Q1 and Q3, respectively.\n",
    "   - Points beyond the whiskers are considered outliers and have been removed during the cleaning process.\n",
    "\n",
    "4. **Green Triangle**:\n",
    "   - Represents the **mean (average)** of the ROI data after cleaning.\n",
    "   - The mean provides an additional measure of central tendency and allows for comparison with the median.\n",
    "\n",
    "#### Key Observations:\n",
    "- After cleaning, the data is tightly distributed with fewer outliers, as extreme values have been removed.\n",
    "- The mean (green triangle) is slightly shifted from the median (horizontal line), indicating some asymmetry in the data.\n",
    "\n",
    "This cleaned boxplot provides a clearer and more accurate view of the ROI data distribution, making it easier to interpret and analyze trends without the distraction of extreme outliers.\n"
   ]
  },
  {
   "cell_type": "markdown",
   "id": "b72b59c0-8ca0-4d0e-8db6-fdbd38ab35c6",
   "metadata": {},
   "source": [
    "### Assumptions:\n",
    "\n",
    "#### Mortgage:\n",
    "- **80% Loan-to-Value (LTV)**.\n",
    "- **5% annual interest rate**.\n",
    "- **30-year term**.\n",
    "\n",
    "#### Dates used for Purchase and Sale Dates:\n",
    "- **Purchase**: January 2023.\n",
    "- **Sale**: September 2024."
   ]
  },
  {
   "cell_type": "code",
   "execution_count": null,
   "id": "b4daa5e9-fa42-4a30-9701-daf30920fa46",
   "metadata": {},
   "outputs": [],
   "source": [
    "sale_price_df = pd.read_csv('Metro_median_sale_price_uc_sfrcondo_month.csv')\n",
    "print(sale_price_df.head()) "
   ]
  },
  {
   "cell_type": "code",
   "execution_count": null,
   "id": "d16b977e-bd48-4b37-aaab-33ad6e079f13",
   "metadata": {},
   "outputs": [],
   "source": [
    "print(zhvi_df.columns)\n",
    "print(sale_price_df.columns)\n"
   ]
  },
  {
   "cell_type": "code",
   "execution_count": null,
   "id": "eeccb099-1fc4-43e7-af26-097e7e5f5101",
   "metadata": {},
   "outputs": [],
   "source": [
    "zhvi_df = pd.read_csv('Metro_zhvi_uc_sfr_tier_0.33_0.67_sm_sa_month.csv')\n",
    "sale_price_df = pd.read_csv('Metro_median_sale_price_uc_sfrcondo_month.csv')"
   ]
  },
  {
   "cell_type": "code",
   "execution_count": null,
   "id": "24dc4afa-8b12-4c4f-9322-788a749b3947",
   "metadata": {},
   "outputs": [],
   "source": [
    "merged_df = zhvi_df.merge(sale_price_df, on=\"RegionID\", suffixes=(\"_purchase\", \"_sale\"))"
   ]
  },
  {
   "cell_type": "code",
   "execution_count": null,
   "id": "6cd27dea-a563-47d2-abc6-6095ddeda7cf",
   "metadata": {},
   "outputs": [],
   "source": [
    "print(merged_df.columns)"
   ]
  },
  {
   "cell_type": "code",
   "execution_count": null,
   "id": "e918c7d3-9c52-489e-829b-e74e73af44b8",
   "metadata": {},
   "outputs": [],
   "source": [
    "# Correct the purchase and sale price column references\n",
    "purchase_date = \"1/31/2023_purchase\"  # Adjusted for ZHVI with suffix\n",
    "sale_date = \"3/31/2024_sale\"         # Adjusted for Sale Price with suffix\n",
    "\n",
    "# Calculate Purchase Price and Sale Price\n",
    "merged_df[\"Purchase Price\"] = merged_df[purchase_date]\n",
    "merged_df[\"Sale Price\"] = merged_df[sale_date]\n",
    "\n",
    "\n",
    "merged_df[\"Mortgage Paid\"] = 0.8 * merged_df[\"Purchase Price\"] * (1 + 0.05 * 1.75)\n",
    "\n",
    "# Calculate Net Profit\n",
    "merged_df[\"Net Profit\"] = merged_df[\"Sale Price\"] - merged_df[\"Purchase Price\"] - merged_df[\"Mortgage Paid\"]\n",
    "\n",
    "# Calculate Profit Percentage\n",
    "merged_df[\"Profit Percentage\"] = (merged_df[\"Net Profit\"] / merged_df[\"Purchase Price\"]) * 100\n",
    "\n",
    "# Calculate Average Profit Percentage\n",
    "average_profit_percentage = merged_df[\"Profit Percentage\"].mean()\n",
    "\n",
    "print(f\"Average Profit Percentage: {average_profit_percentage:.2f}%\")\n"
   ]
  },
  {
   "cell_type": "code",
   "execution_count": null,
   "id": "126be94f-d63a-4b28-a92e-8506137bd999",
   "metadata": {},
   "outputs": [],
   "source": [
    "merged_df = merged_df[(merged_df[\"Purchase Price\"] > 0) & (merged_df[\"Sale Price\"] > 0)]"
   ]
  },
  {
   "cell_type": "code",
   "execution_count": null,
   "id": "54ae432f-6c0a-4568-8290-26e8ccd611ad",
   "metadata": {},
   "outputs": [],
   "source": [
    "print(merged_df.head())"
   ]
  },
  {
   "cell_type": "code",
   "execution_count": null,
   "id": "11710686-c590-4ef2-a69f-62c84ed2fb70",
   "metadata": {},
   "outputs": [],
   "source": [
    "# Adjust Mortgage Paid for 1.75 years\n",
    "merged_df[\"Mortgage Paid\"] = 0.8 * merged_df[\"Purchase Price\"] * (1 + 0.05 * 1.75)\n",
    "\n",
    "# Recalculate Net Profit and Profit Percentage\n",
    "merged_df[\"Net Profit\"] = merged_df[\"Sale Price\"] - merged_df[\"Purchase Price\"] - merged_df[\"Mortgage Paid\"]\n",
    "merged_df[\"Profit Percentage\"] = (merged_df[\"Net Profit\"] / merged_df[\"Purchase Price\"]) * 100\n",
    "\n",
    "# Exclude Outliers\n",
    "merged_df = merged_df[(merged_df[\"Purchase Price\"] > 0) & (merged_df[\"Sale Price\"] > 0)]\n",
    "\n",
    "# Calculate Average Profit Percentage\n",
    "average_profit_percentage = merged_df[\"Profit Percentage\"].mean()\n",
    "print(f\"Adjusted Average Profit Percentage: {average_profit_percentage:.2f}%\")"
   ]
  },
  {
   "cell_type": "code",
   "execution_count": null,
   "id": "f3009db4-400b-4a93-a3c6-afcb468d7795",
   "metadata": {},
   "outputs": [],
   "source": [
    "# Ensure merged_df is a deep copy\n",
    "merged_df = merged_df.copy()\n",
    "\n",
    "# Inputs\n",
    "n_months = 6\n",
    "annual_interest_rate = 0.05\n",
    "monthly_interest_rate = annual_interest_rate / 12\n",
    "loan_to_value = 0.8\n",
    "down_payment_percentage = 1 - loan_to_value\n",
    "net_gain_from_upgrades = 10000\n",
    "\n",
    "# Calculate Loan Amount\n",
    "merged_df.loc[:, \"Loan Amount\"] = loan_to_value * merged_df[\"Purchase Price\"]\n",
    "\n",
    "# Calculate Down Payment\n",
    "merged_df.loc[:, \"Down Payment\"] = down_payment_percentage * merged_df[\"Purchase Price\"]\n",
    "\n",
    "# Calculate Monthly Mortgage Payment\n",
    "merged_df.loc[:, \"Monthly Mortgage Payment\"] = merged_df[\"Loan Amount\"] * (\n",
    "    monthly_interest_rate * (1 + monthly_interest_rate) ** 360\n",
    ") / ((1 + monthly_interest_rate) ** 360 - 1)\n",
    "\n",
    "# Calculate Total Mortgage Paid for n months\n",
    "merged_df.loc[:, \"Total Mortgage Paid\"] = merged_df[\"Monthly Mortgage Payment\"] * n_months\n",
    "\n",
    "# Adjust Sale Price Based on Upgrades\n",
    "merged_df.loc[:, \"Adjusted Sale Price\"] = merged_df[\"Sale Price\"] + net_gain_from_upgrades\n",
    "\n",
    "# Calculate Net Profit\n",
    "merged_df.loc[:, \"Net Profit\"] = (\n",
    "    merged_df[\"Adjusted Sale Price\"]\n",
    "    - merged_df[\"Purchase Price\"]\n",
    "    - merged_df[\"Total Mortgage Paid\"]\n",
    "    - merged_df[\"Down Payment\"]\n",
    ")\n",
    "\n",
    "# Calculate Profit Percentage\n",
    "merged_df.loc[:, \"Profit Percentage\"] = (merged_df[\"Net Profit\"] / merged_df[\"Purchase Price\"]) * 100\n",
    "\n",
    "# Calculate Average Profit Percentage\n",
    "average_profit_percentage = merged_df[\"Profit Percentage\"].mean()\n",
    "print(f\"Average Profit Percentage after {n_months} months: {average_profit_percentage:.2f}%\")\n"
   ]
  },
  {
   "cell_type": "code",
   "execution_count": null,
   "id": "d193fb79-6630-448f-a5f6-ec6c3eb62d34",
   "metadata": {},
   "outputs": [],
   "source": [
    "# Ensure merged_df is a deep copy\n",
    "merged_df = merged_df.copy()\n",
    "\n",
    "# Inputs\n",
    "n_months = 4\n",
    "annual_interest_rate = 0.05\n",
    "monthly_interest_rate = annual_interest_rate / 12\n",
    "loan_to_value = 0.8\n",
    "down_payment_percentage = 1 - loan_to_value\n",
    "net_gain_from_upgrades = 10000\n",
    "\n",
    "# Calculate Loan Amount\n",
    "merged_df.loc[:, \"Loan Amount\"] = loan_to_value * merged_df[\"Purchase Price\"]\n",
    "\n",
    "# Calculate Down Payment\n",
    "merged_df.loc[:, \"Down Payment\"] = down_payment_percentage * merged_df[\"Purchase Price\"]\n",
    "\n",
    "# Calculate Monthly Mortgage Payment\n",
    "merged_df.loc[:, \"Monthly Mortgage Payment\"] = merged_df[\"Loan Amount\"] * (\n",
    "    monthly_interest_rate * (1 + monthly_interest_rate) ** 360\n",
    ") / ((1 + monthly_interest_rate) ** 360 - 1)\n",
    "\n",
    "# Calculate Total Mortgage Paid for n months\n",
    "merged_df.loc[:, \"Total Mortgage Paid\"] = merged_df[\"Monthly Mortgage Payment\"] * n_months\n",
    "\n",
    "# Adjust Sale Price Based on Upgrades\n",
    "merged_df.loc[:, \"Adjusted Sale Price\"] = merged_df[\"Sale Price\"] + net_gain_from_upgrades\n",
    "\n",
    "# Calculate Net Profit\n",
    "merged_df.loc[:, \"Net Profit\"] = (\n",
    "    merged_df[\"Adjusted Sale Price\"]\n",
    "    - merged_df[\"Purchase Price\"]\n",
    "    - merged_df[\"Total Mortgage Paid\"]\n",
    "    - merged_df[\"Down Payment\"]\n",
    ")\n",
    "\n",
    "# Calculate Profit Percentage\n",
    "merged_df.loc[:, \"Profit Percentage\"] = (merged_df[\"Net Profit\"] / merged_df[\"Purchase Price\"]) * 100\n",
    "\n",
    "# Calculate Average Profit Percentage\n",
    "average_profit_percentage = merged_df[\"Profit Percentage\"].mean()\n",
    "print(f\"Average Profit Percentage after {n_months} months: {average_profit_percentage:.2f}%\")"
   ]
  },
  {
   "cell_type": "code",
   "execution_count": null,
   "id": "e0ed3321-4bd0-4407-8567-dfb3e75c9158",
   "metadata": {},
   "outputs": [],
   "source": [
    "# Ensure merged_df is a deep copy\n",
    "merged_df = merged_df.copy()\n",
    "\n",
    "# Inputs\n",
    "n_months = 10\n",
    "annual_interest_rate = 0.05\n",
    "monthly_interest_rate = annual_interest_rate / 12\n",
    "loan_to_value = 0.8\n",
    "down_payment_percentage = 1 - loan_to_value\n",
    "net_gain_from_upgrades = 10000\n",
    "\n",
    "# Calculate Loan Amount\n",
    "merged_df.loc[:, \"Loan Amount\"] = loan_to_value * merged_df[\"Purchase Price\"]\n",
    "\n",
    "# Calculate Down Payment\n",
    "merged_df.loc[:, \"Down Payment\"] = down_payment_percentage * merged_df[\"Purchase Price\"]\n",
    "\n",
    "# Calculate Monthly Mortgage Payment\n",
    "merged_df.loc[:, \"Monthly Mortgage Payment\"] = merged_df[\"Loan Amount\"] * (\n",
    "    monthly_interest_rate * (1 + monthly_interest_rate) ** 360\n",
    ") / ((1 + monthly_interest_rate) ** 360 - 1)\n",
    "\n",
    "# Calculate Total Mortgage Paid for n months\n",
    "merged_df.loc[:, \"Total Mortgage Paid\"] = merged_df[\"Monthly Mortgage Payment\"] * n_months\n",
    "\n",
    "# Adjust Sale Price Based on Upgrades\n",
    "merged_df.loc[:, \"Adjusted Sale Price\"] = merged_df[\"Sale Price\"] + net_gain_from_upgrades\n",
    "\n",
    "# Calculate Net Profit\n",
    "merged_df.loc[:, \"Net Profit\"] = (\n",
    "    merged_df[\"Adjusted Sale Price\"]\n",
    "    - merged_df[\"Purchase Price\"]\n",
    "    - merged_df[\"Total Mortgage Paid\"]\n",
    "    - merged_df[\"Down Payment\"]\n",
    ")\n",
    "\n",
    "# Calculate Profit Percentage\n",
    "merged_df.loc[:, \"Profit Percentage\"] = (merged_df[\"Net Profit\"] / merged_df[\"Purchase Price\"]) * 100\n",
    "\n",
    "# Calculate Average Profit Percentage\n",
    "average_profit_percentage = merged_df[\"Profit Percentage\"].mean()\n",
    "print(f\"Average Profit Percentage after {n_months} months: {average_profit_percentage:.2f}%\")"
   ]
  },
  {
   "cell_type": "code",
   "execution_count": null,
   "id": "d38444d0-0823-48f1-b277-60cef75c6c41",
   "metadata": {},
   "outputs": [],
   "source": [
    "# Inputs\n",
    "n_months = 6  # Number of months held\n",
    "annual_interest_rate = 0.05  # Annual interest rate (5%)\n",
    "monthly_interest_rate = annual_interest_rate / 12\n",
    "loan_to_value = 0.8  # 80% Loan-to-Value ratio\n",
    "down_payment_percentage = 1 - loan_to_value  # 20% Down Payment\n",
    "upgrades_cost = 15000  # Example cost of upgrades ($)\n",
    "required_profit_percentage = 20  # Minimum profit percentage to justify upgrades\n",
    "\n",
    "# Ensure merged_df is a deep copy\n",
    "merged_df = merged_df.copy()\n",
    "\n",
    "# Calculate Loan Amount\n",
    "merged_df.loc[:, \"Loan Amount\"] = loan_to_value * merged_df[\"Purchase Price\"]\n",
    "\n",
    "# Calculate Down Payment\n",
    "merged_df.loc[:, \"Down Payment\"] = down_payment_percentage * merged_df[\"Purchase Price\"]\n",
    "\n",
    "# Calculate Monthly Mortgage Payment\n",
    "merged_df.loc[:, \"Monthly Mortgage Payment\"] = merged_df[\"Loan Amount\"] * (\n",
    "    monthly_interest_rate * (1 + monthly_interest_rate) ** 360\n",
    ") / ((1 + monthly_interest_rate) ** 360 - 1)\n",
    "\n",
    "# Total Mortgage Paid for n months\n",
    "merged_df.loc[:, \"Total Mortgage Paid\"] = merged_df[\"Monthly Mortgage Payment\"] * n_months\n",
    "\n",
    "# Adjust Sale Price for Upgrades\n",
    "net_gain_from_upgrades = 20000  # Example net gain from upgrades ($)\n",
    "merged_df.loc[:, \"Adjusted Sale Price\"] = merged_df[\"Sale Price\"] + net_gain_from_upgrades\n",
    "\n",
    "# Calculate Net Profit including Upgrades Cost\n",
    "merged_df.loc[:, \"Net Profit\"] = (\n",
    "    merged_df[\"Adjusted Sale Price\"]\n",
    "    - merged_df[\"Purchase Price\"]\n",
    "    - merged_df[\"Down Payment\"]\n",
    "    - merged_df[\"Total Mortgage Paid\"]\n",
    "    - upgrades_cost  # Include upgrades cost\n",
    ")\n",
    "\n",
    "# Calculate Profit Percentage\n",
    "merged_df.loc[:, \"Profit Percentage\"] = (merged_df[\"Net Profit\"] / merged_df[\"Purchase Price\"]) * 100\n",
    "\n",
    "# Filter rows meeting the required profit percentage\n",
    "profitable_upgrades = merged_df[merged_df[\"Profit Percentage\"] >= required_profit_percentage]\n",
    "\n",
    "# Calculate Average Profit Percentage for these cases\n",
    "average_profit_percentage = profitable_upgrades[\"Profit Percentage\"].mean()\n",
    "\n",
    "# Output results\n",
    "print(f\"Average Profit Percentage for profitable cases: {average_profit_percentage:.2f}%\")\n",
    "print(f\"Number of properties meeting the profit threshold: {len(profitable_upgrades)}\")"
   ]
  },
  {
   "cell_type": "code",
   "execution_count": null,
   "id": "c4435515-c870-49cb-af35-d8144f72664c",
   "metadata": {},
   "outputs": [],
   "source": [
    "import pandas as pd\n",
    "import matplotlib.pyplot as plt\n",
    "\n",
    "# Ensure profitable_properties is defined\n",
    "required_profit_percentage = 20  # Minimum profit percentage to include\n",
    "profitable_properties = merged_df[merged_df[\"Profit Percentage\"] >= required_profit_percentage]\n",
    "\n",
    "# Check if the columns exist\n",
    "grouping_columns = [\"RegionName_purchase\", \"StateName_purchase\"]  # Adjust to available columns\n",
    "if not all(col in profitable_properties.columns for col in grouping_columns):\n",
    "    print(f\"Available columns: {profitable_properties.columns}\")\n",
    "    grouping_columns = [\"StateName_purchase\"]  # Fall back to StateName_purchase if RegionName_purchase is unavailable\n",
    "\n",
    "# Group and summarize by region\n",
    "area_summary = (\n",
    "    profitable_properties.groupby(grouping_columns)\n",
    "    .agg(\n",
    "        Total_Profitable_Properties=(\"Profit Percentage\", \"count\"),\n",
    "        Average_Profit_Percentage=(\"Profit Percentage\", \"mean\")\n",
    "    )\n",
    "    .sort_values(by=\"Average_Profit_Percentage\", ascending=False)\n",
    ")\n",
    "\n",
    "# Print summary statistics\n",
    "print(f\"Number of profitable areas: {len(area_summary)}\")\n",
    "\n",
    "# Visualization of the top 10 profitable areas\n",
    "top_areas = area_summary.head(10)\n",
    "top_areas.reset_index(inplace=True)\n",
    "\n",
    "plt.figure(figsize=(12, 6))\n",
    "plt.barh(\n",
    "    top_areas[\"RegionName_purchase\"],\n",
    "    top_areas[\"Average_Profit_Percentage\"],\n",
    "    color=\"skyblue\"\n",
    ")\n",
    "plt.xlabel(\"Average Profit Percentage\")\n",
    "plt.ylabel(\"Region Name\")\n",
    "plt.title(\"Top 10 Profitable Areas by Average Profit Percentage\")\n",
    "plt.gca().invert_yaxis()  # Reverse the order for better readability\n",
    "plt.tight_layout()\n",
    "plt.show()\n"
   ]
  },
  {
   "cell_type": "code",
   "execution_count": null,
   "id": "51c8c2a5-66f1-464a-9bfc-f9231ad24f21",
   "metadata": {},
   "outputs": [],
   "source": [
    "# Check if the columns exist\n",
    "grouping_columns = [\"RegionName\", \"StateName\"]  # Adjust to available columns\n",
    "if not all(col in profitable_properties.columns for col in grouping_columns):\n",
    "    print(f\"Available columns: {profitable_properties.columns}\")\n",
    "    grouping_columns = [\"RegionID\"]  # Fall back to RegionID if others are unavailable\n",
    "\n",
    "# Group and summarize by region\n",
    "area_summary = (\n",
    "    profitable_properties.groupby(grouping_columns)\n",
    "    .agg(\n",
    "        Total_Profitable_Properties=(\"Profit Percentage\", \"count\"),\n",
    "        Average_Profit_Percentage=(\"Profit Percentage\", \"mean\")\n",
    "    )\n",
    "    .sort_values(by=\"Average_Profit_Percentage\", ascending=False)\n",
    ")\n",
    "\n",
    "print(f\"Number of profitable areas: {len(area_summary)}\")"
   ]
  },
  {
   "cell_type": "code",
   "execution_count": null,
   "id": "f5abeee1-b175-4454-9746-409c31bb4d2b",
   "metadata": {},
   "outputs": [],
   "source": [
    "# Assuming 'profitable_properties' DataFrame is already prepared\n",
    "\n",
    "# Check if the columns exist\n",
    "grouping_columns = [\"RegionName\", \"StateName\"]  # Adjust to available columns\n",
    "if not all(col in profitable_properties.columns for col in grouping_columns):\n",
    "    print(f\"Available columns: {profitable_properties.columns}\")\n",
    "    grouping_columns = [\"RegionID\"]  # Fall back to RegionID if others are unavailable\n",
    "\n",
    "# Group and summarize by region\n",
    "area_summary = (\n",
    "    profitable_properties.groupby(grouping_columns)\n",
    "    .agg(\n",
    "        Total_Profitable_Properties=(\"Profit Percentage\", \"count\"),\n",
    "        Average_Profit_Percentage=(\"Profit Percentage\", \"mean\")\n",
    "    )\n",
    "    .sort_values(by=\"Average_Profit_Percentage\", ascending=False)\n",
    ")\n",
    "\n",
    "# Print summary statistics\n",
    "print(f\"Number of profitable areas: {len(area_summary)}\")\n",
    "\n",
    "# Visualization of the top 10 profitable areas\n",
    "top_areas = area_summary.head(10)\n",
    "top_areas.reset_index(inplace=True)\n",
    "\n",
    "plt.figure(figsize=(12, 6))\n",
    "plt.barh(\n",
    "    top_areas[\"RegionName\"] if \"RegionName\" in grouping_columns else top_areas[\"RegionID\"],\n",
    "    top_areas[\"Average_Profit_Percentage\"],\n",
    "    color=\"skyblue\"\n",
    ")\n",
    "plt.xlabel(\"Average Profit Percentage\")\n",
    "plt.ylabel(\"Region Name\" if \"RegionName\" in grouping_columns else \"Region ID\")\n",
    "plt.title(\"Top 10 Profitable Areas by Average Profit Percentage\")\n",
    "plt.gca().invert_yaxis()  # Reverse the order for better readability\n",
    "plt.tight_layout()\n",
    "plt.show()"
   ]
  },
  {
   "cell_type": "code",
   "execution_count": null,
   "id": "4f054497-5ba6-4986-ab28-f0d5f226f087",
   "metadata": {},
   "outputs": [],
   "source": [
    "print (profitable_properties)"
   ]
  },
  {
   "cell_type": "code",
   "execution_count": null,
   "id": "e428284e-4bc3-43ea-9e77-92ec3b16a9e4",
   "metadata": {},
   "outputs": [],
   "source": [
    "import pandas as pd\n",
    "import matplotlib.pyplot as plt\n",
    "\n",
    "# Assuming 'profitable_properties' DataFrame is already prepared\n",
    "\n",
    "# Check if the columns exist\n",
    "grouping_columns = [\"RegionName_purchase\", \"StateName_purchase\"]  # Adjusted to available columns\n",
    "if not all(col in profitable_properties.columns for col in grouping_columns):\n",
    "    print(f\"Available columns: {profitable_properties.columns}\")\n",
    "    grouping_columns = [\"StateName_purchase\"]  # Fall back to StateName_purchase if RegionName_purchase is unavailable\n",
    "\n",
    "# Group and summarize by region\n",
    "area_summary = (\n",
    "    profitable_properties.groupby(grouping_columns)\n",
    "    .agg(\n",
    "        Total_Profitable_Properties=(\"Profit Percentage\", \"count\"),\n",
    "        Average_Profit_Percentage=(\"Profit Percentage\", \"mean\")\n",
    "    )\n",
    "    .sort_values(by=\"Average_Profit_Percentage\", ascending=False)\n",
    ")\n",
    "\n",
    "# Print summary statistics\n",
    "print(f\"Number of profitable areas: {len(area_summary)}\")\n",
    "\n",
    "# Visualization of the top 10 profitable areas\n",
    "top_areas = area_summary.head(10)\n",
    "top_areas.reset_index(inplace=True)\n",
    "\n",
    "plt.figure(figsize=(12, 6))\n",
    "plt.barh(\n",
    "    top_areas[\"RegionName_purchase\"],\n",
    "    top_areas[\"Average_Profit_Percentage\"],\n",
    "    color=\"skyblue\"\n",
    ")\n",
    "plt.xlabel(\"Average Profit Percentage\")\n",
    "plt.ylabel(\"Region Name\")\n",
    "plt.title(\"Top 10 Profitable Areas by Average Profit Percentage\")\n",
    "plt.gca().invert_yaxis()  # Reverse the order for better readability\n",
    "plt.tight_layout()\n",
    "plt.show()\n"
   ]
  },
  {
   "cell_type": "code",
   "execution_count": null,
   "id": "367c1383-90db-42cd-b132-4c6cd2a4d1fc",
   "metadata": {},
   "outputs": [],
   "source": []
  },
  {
   "cell_type": "markdown",
   "id": "21ccf844-4935-492b-9226-d3d76adcd554",
   "metadata": {},
   "source": [
    "# 6) How much average monthly income I could expect from my investments in terms of lease/rent after upgrading properties, paying mortgage, and paying taxes. Calculate my ~ROI. (**Soad Ahmed**)\n",
    "---"
   ]
  },
  {
   "cell_type": "markdown",
   "id": "dcec093e-97be-4fa5-ada1-65b2a9cbf2ec",
   "metadata": {},
   "source": [
    "# Calculate Monthly Income Expectation"
   ]
  },
  {
   "cell_type": "markdown",
   "id": "e54a6d06-9db5-4d90-a596-eb1c9946d786",
   "metadata": {},
   "source": [
    "## Importing the Required Libraries"
   ]
  },
  {
   "cell_type": "code",
   "execution_count": null,
   "id": "bae92b46-76cf-4fff-b794-2a421f442688",
   "metadata": {},
   "outputs": [],
   "source": [
    "import pandas as pd\n",
    "import matplotlib.pyplot as plt\n",
    "from sklearn.preprocessing import MinMaxScaler\n",
    "import numpy as np\n",
    "import os "
   ]
  },
  {
   "cell_type": "markdown",
   "id": "0aeabcee-7140-4f55-85c2-683b2735ee18",
   "metadata": {},
   "source": [
    "## Uploading the Data"
   ]
  },
  {
   "cell_type": "code",
   "execution_count": null,
   "id": "44b7c38b-4815-433c-b11c-fae07927d761",
   "metadata": {},
   "outputs": [],
   "source": [
    "# Define file paths\n",
    "files = {\n",
    "    \"median_sale_price\": \"Metro_median_sale_price_uc_sfrcondo_week.csv\",\n",
    "    \"zordi\": \"Metro_zordi_uc_sfr_month.csv\",\n",
    "    \"new_construction_sales\": \"New Construction Sales Count Raw SFR Month.csv\",\n",
    "    \"property_tax_rates\": \"Property tax rates by state.csv\",\n",
    "}\n",
    "\n",
    "# Load datasets with verification\n",
    "dataframes = {}\n",
    "for name, path in files.items():\n",
    "    if os.path.exists(path):\n",
    "        try:\n",
    "            dataframes[name] = pd.read_csv(path)\n",
    "            print(f\"Successfully loaded {name} from {path}\")\n",
    "        except Exception as e:\n",
    "            print(f\"Failed to load {name}: {e}\")\n",
    "    else:\n",
    "        print(f\"File not found: {path}\")\n",
    "\n",
    "# Preview data\n",
    "for name, df in dataframes.items():\n",
    "    print(f\"\\nPreview of {name}:\")\n",
    "    print(df.head(5))"
   ]
  },
  {
   "cell_type": "code",
   "execution_count": null,
   "id": "bf5fed1f-732b-41e6-a187-cf9321e016f9",
   "metadata": {},
   "outputs": [],
   "source": [
    "def calculate_monthly_income_expectation(sale_price_data, rent_data, tax_data):\n",
    "    required_key = \"some_common_key\"\n",
    "\n",
    "    # Ensure the required key exists in all datasets\n",
    "    for dataset_name, dataset in zip(\n",
    "        [\"sale_price_data\", \"rent_data\", \"tax_data\"], [sale_price_data, rent_data, tax_data]\n",
    "    ):\n",
    "        if required_key not in dataset.columns:\n",
    "            print(f\"'{required_key}' is missing from {dataset_name}. Adding default.\")\n",
    "            dataset[required_key] = dataset.index\n",
    "\n",
    "    # Check for 'Median_Sale_Price' column\n",
    "    if \"Median_Sale_Price\" not in sale_price_data.columns:\n",
    "        raise KeyError(\"'Median_Sale_Price' column is missing in sale_price_data. Please verify the data.\")\n",
    "\n",
    "    # Check for 'Monthly_Rent' column\n",
    "    if \"Monthly_Rent\" not in rent_data.columns:\n",
    "        raise KeyError(\"'Monthly_Rent' column is missing in rent_data. Please verify the data.\")\n",
    "\n",
    "    # Check for 'Effective_Tax_Rate' column\n",
    "    if \"Effective_Tax_Rate\" not in tax_data.columns:\n",
    "        raise KeyError(\"'Effective_Tax_Rate' column is missing in tax_data. Please verify the data.\")\n",
    "\n",
    "    # Merge datasets\n",
    "    merged_data = sale_price_data.merge(rent_data, on=\"some_common_key\", how=\"outer\").merge(\n",
    "        tax_data, on=\"some_common_key\", how=\"outer\"\n",
    "    )\n",
    "\n",
    "    # Perform calculations\n",
    "    merged_data[\"Loan_Amount\"] = merged_data[\"Median_Sale_Price\"]\n",
    "    merged_data[\"Monthly_Mortgage\"] = (\n",
    "        merged_data[\"Loan_Amount\"] * (0.05 / 12) * (1 + 0.05 / 12) ** 360\n",
    "    ) / ((1 + 0.05 / 12) ** 360 - 1)\n",
    "    merged_data[\"Annual_Property_Tax\"] = (\n",
    "        merged_data[\"Median_Sale_Price\"] * merged_data[\"Effective_Tax_Rate\"]\n",
    "    )\n",
    "    merged_data[\"Monthly_Property_Tax\"] = merged_data[\"Annual_Property_Tax\"] / 12\n",
    "    merged_data[\"Net_Monthly_Income\"] = (\n",
    "        merged_data[\"Monthly_Rent\"]\n",
    "        - merged_data[\"Monthly_Mortgage\"]\n",
    "        - merged_data[\"Monthly_Property_Tax\"]\n",
    "    )\n",
    "    avg_monthly_income = merged_data[\"Net_Monthly_Income\"].mean()\n",
    "    return avg_monthly_income\n",
    "    # Sample data for testing\n",
    "median_sale_price_data = pd.DataFrame({\n",
    "    \"some_common_key\": [1, 2, 3],\n",
    "    \"Median_Sale_Price\": [300000, 350000, 250000]\n",
    "})\n",
    "\n",
    "zordi_data = pd.DataFrame({\n",
    "    \"some_common_key\": [1, 2, 3],\n",
    "    \"Monthly_Rent\": [2000, 2500, 1800]\n",
    "})\n",
    "\n",
    "property_tax_data = pd.DataFrame({\n",
    "    \"some_common_key\": [1, 2, 3],\n",
    "    \"Effective_Tax_Rate\": [0.01, 0.012, 0.009]\n",
    "})\n",
    "# Calculate the average income\n",
    "average_income = calculate_monthly_income_expectation(\n",
    "    sale_price_data=median_sale_price_data,\n",
    "    rent_data=zordi_data,\n",
    "    tax_data=property_tax_data,\n",
    ")\n",
    "print(f\"The average monthly income expectation from rentals is: ${average_income:.2f}\")"
   ]
  },
  {
   "cell_type": "markdown",
   "id": "672f860b-19d6-49ed-8948-106c7eb96381",
   "metadata": {},
   "source": [
    "## **Definition**\n",
    "The `calculate_monthly_income_expectation` function calculates the average monthly income expectation from rental properties after considering upgrades, mortgage payments, and property taxes.\n",
    "\n",
    "---\n",
    "\n",
    "## **Purpose**\n",
    "- **Rental Profitability Analysis**: Estimates net monthly income from rentals.\n",
    "- **Investment Feasibility**: Helps investors assess if rental properties provide positive cash flow after expenses.\n",
    "- **Tax and Mortgage Integration**: Accounts for property taxes and mortgage payments for a realistic evaluation.\n",
    "\n",
    "---\n",
    "\n",
    "## **Key Features**\n",
    "\n",
    "### **Required Columns**\n",
    "1. **`Median_Sale_Price`**: Represents the sale price of properties.\n",
    "2. **`Monthly_Rent`**: Reflects the monthly rent collected from the property.\n",
    "3. **`Effective_Tax_Rate`**: Indicates the annual property tax rate.\n",
    "\n",
    "### **Operations**\n",
    "1. **Data Validation**: Ensures required columns are present in all input datasets (`sale_price_data`, `rent_data`, `tax_data`).\n",
    "2. **Merging Data**: Combines all datasets on a common key (`some_common_key`).\n",
    "3. **Mortgage Calculation**:\n",
    "   - Calculates monthly mortgage payments using a standard loan formula.\n",
    "4. **Property Tax Calculation**:\n",
    "   - Converts annual property tax to monthly tax based on the tax rate and property price.\n",
    "5. **Net Income Calculation**:\n",
    "   - Deducts monthly mortgage and property tax from monthly rent.\n",
    "6. **Average Income**:\n",
    "   - Calculates the mean of the net monthly incomes across all records.\n",
    "\n",
    "---\n",
    "\n",
    "## **How It Works**\n",
    "\n",
    "### **Validation and Defaults**\n",
    "Ensures all necessary columns are present and fills in defaults if required.\n",
    "\n",
    "### **Merging Datasets**\n",
    "Combines sale price, rent, and tax data for unified processing.\n",
    "\n",
    "### **Performing Calculations**\n",
    "1. **Loan Amount**: Based on the `Median_Sale_Price`.\n",
    "2. **Monthly Mortgage**: Derived from a 30-year fixed-rate mortgage formula.\n",
    "3. **Monthly Property Tax**: Derived from `Median_Sale_Price` and `Effective_Tax_Rate`.\n",
    "4. **Net Monthly Income**: Subtracts mortgage and taxes from rent.\n",
    "\n",
    "### **Output**\n",
    "Returns the average of net monthly incomes.\n",
    "\n",
    "---\n",
    "\n",
    "## **How These Columns Were Created**\n",
    "- **`Median_Sale_Price`**: Extracted from the sale price dataset (`sale_price_data`).\n",
    "- **`Monthly_Rent`**: Derived from the rental dataset (`rent_data`).\n",
    "- **`Effective_Tax_Rate`**: Extracted from the tax dataset (`tax_data`).\n",
    "\n",
    "Renaming these columns ensures clarity and consistency for calculations.\n",
    "\n",
    "---\n",
    "\n",
    "## **Why It Matters**\n",
    "\n",
    "### **Financial Viability**\n",
    "Helps investors decide if rental properties are profitable after accounting for major expenses.\n",
    "\n",
    "### **Market Comparison**\n",
    "Evaluates how properties in different markets perform in terms of rental income and tax burdens.\n",
    "\n",
    "### **Risk Management**\n",
    "Identifies markets with high taxes or mortgages that might erode profitability.\n"
   ]
  },
  {
   "cell_type": "code",
   "execution_count": null,
   "id": "d1bf2d28-8b29-49f2-a642-4a64321360d0",
   "metadata": {},
   "outputs": [],
   "source": [
    "# Sample data for visualization\n",
    "median_sale_price_data = {\n",
    "    \"same_common_key\": [1, 2, 3],\n",
    "    \"Median_Sale_Price\": [300000, 350000, 250000]\n",
    "}\n",
    "\n",
    "zordi_data = {\n",
    "    \"same_common_key\": [1, 2, 3],\n",
    "    \"Monthly_Rent\": [2000, 2500, 1800]\n",
    "}\n",
    "\n",
    "property_tax_data = {\n",
    "    \"same_common_key\": [1, 2, 3],\n",
    "    \"Effective_Tax_Rate\": [0.01, 0.012, 0.009]"
   ]
  },
  {
   "cell_type": "markdown",
   "id": "a466dfe1-bba7-4810-9d84-00e2bf65e676",
   "metadata": {},
   "source": [
    "# Median_Sale_Price\n",
    "**Definition:**\n",
    "The median sale price for properties in the dataset.\n",
    "\n",
    "**Purpose:**\n",
    "- **Market Pricing:** Provides a central value for property sales, excluding extreme outliers.\n",
    "- **Investor Insights:** Helps assess affordability and market positioning.\n",
    "\n",
    "**How It Was Created:**\n",
    "- Derived from the `Median_Sale_Price` column in the `median_sale_price_data` dataset.\n",
    "\n",
    "**Why It Matters:**\n",
    "- It indicates market trends, including affordability and demand.\n",
    "- Investors can use it to evaluate markets for appreciation and entry-level pricing.\n",
    "\n",
    "---\n",
    "\n",
    "# Monthly_Rent\n",
    "**Definition:**\n",
    "The monthly rent values from the dataset.\n",
    "\n",
    "**Purpose:**\n",
    "- **Rental Income:** Tracks potential monthly income for landlords.\n",
    "- **Market Demand:** Higher rent values often signal higher demand for rental properties.\n",
    "\n",
    "**How It Was Created:**\n",
    "- Derived from the `Monthly_Rent` column in the `zordi_data` dataset.\n",
    "\n",
    "**Why It Matters:**\n",
    "- Helps in evaluating rental yields and profitability of rental properties.\n",
    "- Key for comparing with property prices to identify high-yield investment opportunities.\n",
    "\n",
    "---\n",
    "\n",
    "# Effective_Tax_Rate\n",
    "**Definition:**\n",
    "The effective property tax rates in the dataset.\n",
    "\n",
    "**Purpose:**\n",
    "- **Tax Implications:** Assesses the burden of property taxes on real estate investments.\n",
    "- **Net Profitability:** Affects the net returns after taxes.\n",
    "\n",
    "**How It Was Created:**\n",
    "- Derived from the `Effective_Tax_Rate` column in the `property_tax_data` dataset.\n",
    "\n",
    "**Why It Matters:**\n",
    "- Critical for accurate estimation of net returns and cash flow.\n",
    "- Affects the overall cost of prn_key\": [1, 2, 3],\n",
    "    \"Effective_Tax_Rate\": [0.01, 0.012, 0.009]\n",
    "}"
   ]
  },
  {
   "cell_type": "code",
   "execution_count": null,
   "id": "5a0e994b-8881-40fb-ac5e-f92bf9d80239",
   "metadata": {},
   "outputs": [],
   "source": [
    "# Bar Chart - Median Sale Price\n",
    "plt.figure(figsize=(8, 6))\n",
    "plt.bar(median_sale_price_data[\"same_common_key\"], median_sale_price_data[\"Median_Sale_Price\"], color='skyblue')\n",
    "plt.title('Median Sale Price by Key')\n",
    "plt.xlabel('Same Common Key')\n",
    "plt.ylabel('Median Sale Price')\n",
    "plt.xticks(median_sale_price_data[\"same_common_key\"])\n",
    "plt.tight_layout()\n",
    "plt.show()"
   ]
  },
  {
   "cell_type": "markdown",
   "id": "682f065e-2704-4983-9ff6-9996b654d86e",
   "metadata": {},
   "source": [
    "# Bar Chart - Median Sale Price\n",
    "\n",
    "### Definition:\n",
    "The bar chart visualizes the **Median Sale Price** for different categories or keys, providing insights into property pricing trends.\n",
    "\n",
    "### Purpose:\n",
    "- **Price Comparison**: Helps to compare median sale prices across different regions or groups.\n",
    "- **Market Trends**: Highlights variations in property prices, useful for market analysis.\n",
    "\n",
    "### How This Chart Was Created:\n",
    "The chart uses the following data:\n",
    "- `median_sale_price_data[\"some_common_key\"]`: Represents the categories or keys on the x-axis.\n",
    "- `median_sale_price_data[\"Median_Sale_Price\"]`: Represents the median sale prices on the y-axis.\n",
    "- A sky-blue color palette is applied for visual clarity.\n",
    "\n",
    "The chart's layout and appearance were refined using:\n",
    "- `plt.title()`: Adds a title to the chart.\n",
    "- `plt.xlabel()` and `plt.ylabel()`: Label the axes for better understanding.\n",
    "- `plt.xticks()`: Configures x-axis labels to display relevant keys.\n",
    "- `plt.tight_layout()`: Ensures proper spacing and alignment.\n",
    "\n",
    "### Why It Matters:\n",
    "This visualization is essential for understanding real estate price distributions:\n",
    "- **Decision-Making**: Assists investors in identifying regions with favorable pricing.\n",
    "- **Trend Analysis**: Reveals pricing patterns over differen\"])\n",
    "plt.tight_layout()\n",
    "plt.show()\n"
   ]
  },
  {
   "cell_type": "code",
   "execution_count": null,
   "id": "dc54201b-3c51-48eb-b428-3925eab3eba0",
   "metadata": {},
   "outputs": [],
   "source": [
    "# Line Chart - Monthly Rent vs Median Sale Price\n",
    "plt.figure(figsize=(8, 6))\n",
    "plt.plot(median_sale_price_data[\"same_common_key\"], median_sale_price_data[\"Median_Sale_Price\"], label=\"Median Sale Price\", marker='o')\n",
    "plt.plot(zordi_data[\"same_common_key\"], zordi_data[\"Monthly_Rent\"], label=\"Monthly Rent\", marker='s')\n",
    "plt.title('Monthly Rent vs Median Sale Price')\n",
    "plt.xlabel('Same Common Key')\n",
    "plt.ylabel('Value')\n",
    "plt.legend()\n",
    "plt.tight_layout()\n",
    "plt.show()"
   ]
  },
  {
   "cell_type": "markdown",
   "id": "0c112ea1-1a3d-489b-b05d-917e55ff751e",
   "metadata": {},
   "source": [
    "# Line Chart - Monthly Rent vs Median Sale Price\n",
    "\n",
    "### Definition:\n",
    "This chart compares the trends of **Median Sale Price** and **Monthly Rent** over a common key (e.g., time or a region).\n",
    "\n",
    "### Purpose:\n",
    "- **Median Sale Price**: Represents the midpoint of home sale prices in a region, showing the market value of properties.\n",
    "- **Monthly Rent**: Indicates the average rental income potential in the same region.\n",
    "\n",
    "### Insights Provided:\n",
    "1. **Price vs. Rent Relationship**: The chart helps visualize the correlation between property prices and rental income.\n",
    "2. **Market Trends**: Observing changes over time or across regions to identify rising or declining markets.\n",
    "3. **Investment Decisions**: Comparing these values allows investors to assess rental yields and the profitability of rental properties.\n",
    "\n",
    "### How These Data Were Used:\n",
    "- **Median Sale Price**: Derived from the `median_sale_price_data` dataset.\n",
    "- **Monthly Rent**: Derived from the `zordi_data` dataset.\n",
    "- Both datasets are aligned using a common key (e.g., a date or region) for meaningful comparison.\n",
    "\n",
    "### Why It Matters:\n",
    "This visualization combines sale price and rent data to provide:\n",
    "- **Market Dynamics**: Identifying areas where rising prices are matched with increasing rents.\n",
    "- **Investment Strategy**: Helps in determining whether a market is more favorable for property apprecia)\n",
    "plt.tight_layout()\n",
    "plt.show()"
   ]
  },
  {
   "cell_type": "code",
   "execution_count": null,
   "id": "befb545e-9d8b-4d66-9301-b16a393582c8",
   "metadata": {},
   "outputs": [],
   "source": [
    "# Pie Chart - Effective Tax Rate Distribution\n",
    "plt.figure(figsize=(8, 6))\n",
    "plt.pie(property_tax_data[\"Effective_Tax_Rate\"], labels=property_tax_data[\"same_common_key\"], autopct='%1.1f%%', startangle=140)\n",
    "plt.title('Effective Tax Rate Distribution by Key')\n",
    "plt.tight_layout()\n",
    "plt.show()"
   ]
  },
  {
   "cell_type": "markdown",
   "id": "8c02c4a4-33b2-4e91-8da1-55ff8adad2b3",
   "metadata": {},
   "source": [
    "### Effective Tax Rate Distribution\n",
    "\n",
    "**Definition**:  \n",
    "The pie chart visualizes the distribution of effective tax rates across various categories or keys.\n",
    "\n",
    "**Purpose**:  \n",
    "- **Tax Burden Analysis**: Understand how tax rates vary among different categories.  \n",
    "- **Comparative Insights**: Highlight which categories bear higher or lower effective tax rates.\n",
    "\n",
    "---\n",
    "\n",
    "### How the Chart Was Created  \n",
    "The chart is generated using data from the `property_tax_data` dataset:  \n",
    "- The `Effective_Tax_Rate` column represents the percentage of the total tax burden for each key.\n",
    "- The `some_common_key` column provides the labels for each slice of the pie chart.\n",
    "\n",
    "---\n",
    "---\n",
    "---"
   ]
  },
  {
   "cell_type": "markdown",
   "id": "3444a9cf-d49f-45ec-8483-58bf504d558a",
   "metadata": {},
   "source": [
    "# Rental Income Expectation and Market Insights\n",
    "\n",
    "### Rental Income Expectation and Market Insights\n",
    "\n",
    "#### Monthly Income Expectation Calculation\n",
    "This calculation estimates the average monthly rental income after considering mortgage payments, property taxes, and rental income for properties.\n",
    "\n",
    "**What It Calculates**:\n",
    "- **Monthly Mortgage**: Based on the median sale price of properties and a standard loan calculation.\n",
    "- **Monthly Property Taxes**: Derived from the effective tax rate and the property's median sale price.\n",
    "- **Net Monthly Income**: Calculated as rental income minus mortgage payments and property taxes.\n",
    "\n",
    "**Purpose**:\n",
    "To provide a clear picture of the profitability of rental investments after accounting for major expenses.\n",
    "\"\"\"\n",
    "\n",
    "# Visualization 1: Median Sale Price by Key\n",
    "\n",
    "---\n",
    "\n",
    "#### Bar Chart - Median Sale Price\n",
    "**What It Shows**:  \n",
    "This chart represents the median sale price of properties for each category or key.\n",
    "\n",
    "**Key Insights**:\n",
    "- **Market Strength**: Higher bars indicate regions with higher property values.\n",
    "- **Comparison**: Visualize which categories have more expensive properties.\n",
    "\"\"\"\n",
    "\n",
    "# Visualization 2: Monthly Rent vs Median Sale Price\n",
    "\n",
    "---\n",
    "\n",
    "#### Line Chart - Monthly Rent vs Median Sale Price\n",
    "**What It Shows**:  \n",
    "This chart compares monthly rent and median sale prices across categories.\n",
    "\n",
    "**Key Insights**:\n",
    "- **Profitability Indicators**: Higher rent relative to sale price suggests better rental yield potential.\n",
    "- **Trends**: Identifies which categories balance property value and rental income.\n",
    "\n",
    "# Visualization 3: Effective Tax Rate Distribution\n",
    "\n",
    "---\n",
    "\n",
    "#### Pie Chart - Effective Tax Rate Distribution by Key\n",
    "**What It Shows**:  \n",
    "This pie chart highlights the proportion of effective tax rates across categories.\n",
    "\n",
    "**Key Insights**:\n",
    "- **Tax Burden Comparison**: Quickly identify categories with the highest and lowest tax burdens.\n",
    "- **Regional Impacts**: Understand how property taxes vary and their influence on profitability.\n",
    "\n",
    "---\n",
    "\n",
    "### Why These Visuals and Calculations Matter\n",
    "\n",
    "#### Investment Insights:\n",
    "- Identify categories with better rental income potential.\n",
    "- Evaluate regions with balanced sale prices and rental income.\n",
    "\n",
    "#### Tax Considerations:\n",
    "- Higher effective tax rates reduce profitability but may reflect high-value regions.\n",
    "\n",
    "#### Market Strategy:\n",
    "- Combine the insights from rent-to-sale price ratios and tax impacts to pinpoint ideal investment areas.\n",
    "\n",
    "#### Conclusion:\n",
    "The combined analysis of rental income, sale prices, and tax rates helps investors make informed decisions by evaluating profitability and regional trends. By focusing on markets with strong rental yields, manageable taxes, and affordable property values, investors can optimize their returns"
   ]
  }
 ],
 "metadata": {
  "kernelspec": {
   "display_name": "Python 3",
   "language": "python",
   "name": "python3"
  },
  "language_info": {
   "codemirror_mode": {
    "name": "ipython",
    "version": 3
   },
   "file_extension": ".py",
   "mimetype": "text/x-python",
   "name": "python",
   "nbconvert_exporter": "python",
   "pygments_lexer": "ipython3",
   "version": "3.12.4"
  }
 },
 "nbformat": 4,
 "nbformat_minor": 5
}
