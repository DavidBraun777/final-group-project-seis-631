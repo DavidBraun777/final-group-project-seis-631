{
 "cells": [
  {
   "cell_type": "markdown",
   "id": "10198f59",
   "metadata": {},
   "source": [
    "# Real Estate Market Analysis"
   ]
  },
  {
   "cell_type": "markdown",
   "id": "628b1e74-4947-4f5c-a8b4-836112597f6b",
   "metadata": {},
   "source": [
    "# 1) Show me the market trends to help me decide. Which US real-estate market is doing best overall. 10 points (**Matt Henning**)"
   ]
  },
  {
   "cell_type": "code",
   "execution_count": 3,
   "id": "842bdd9f",
   "metadata": {},
   "outputs": [],
   "source": [
    "import pandas as pd\n",
    "import seaborn as sns\n",
    "import matplotlib.pyplot as plt\n"
   ]
  },
  {
   "cell_type": "code",
   "execution_count": 4,
   "id": "8eb89309-2c4e-43e0-9437-7fcaf258f3fb",
   "metadata": {},
   "outputs": [
    {
     "ename": "FileNotFoundError",
     "evalue": "[Errno 2] No such file or directory: 'ZHVI_Metro_zhvi_uc_sfr_tier_0.33_0.67_sm_sa_month.csv'",
     "output_type": "error",
     "traceback": [
      "\u001b[1;31m---------------------------------------------------------------------------\u001b[0m",
      "\u001b[1;31mFileNotFoundError\u001b[0m                         Traceback (most recent call last)",
      "Cell \u001b[1;32mIn[4], line 2\u001b[0m\n\u001b[0;32m      1\u001b[0m \u001b[38;5;66;03m# Load datasets\u001b[39;00m\n\u001b[1;32m----> 2\u001b[0m zhvi_data \u001b[38;5;241m=\u001b[39m pd\u001b[38;5;241m.\u001b[39mread_csv(\u001b[38;5;124m'\u001b[39m\u001b[38;5;124mZHVI_Metro_zhvi_uc_sfr_tier_0.33_0.67_sm_sa_month.csv\u001b[39m\u001b[38;5;124m'\u001b[39m)\n\u001b[0;32m      3\u001b[0m zori_data \u001b[38;5;241m=\u001b[39m pd\u001b[38;5;241m.\u001b[39mread_csv(\u001b[38;5;124m'\u001b[39m\u001b[38;5;124mZORI_Metro_zordi_uc_sfr_month.csv\u001b[39m\u001b[38;5;124m'\u001b[39m)\n\u001b[0;32m      4\u001b[0m market_temp_data \u001b[38;5;241m=\u001b[39m pd\u001b[38;5;241m.\u001b[39mread_csv(\u001b[38;5;124m'\u001b[39m\u001b[38;5;124mMARKET_TEMP_Metro_market_temp_index_uc_sfrcondo_month.csv\u001b[39m\u001b[38;5;124m'\u001b[39m)\n",
      "File \u001b[1;32m~\\anaconda3\\Lib\\site-packages\\pandas\\io\\parsers\\readers.py:1026\u001b[0m, in \u001b[0;36mread_csv\u001b[1;34m(filepath_or_buffer, sep, delimiter, header, names, index_col, usecols, dtype, engine, converters, true_values, false_values, skipinitialspace, skiprows, skipfooter, nrows, na_values, keep_default_na, na_filter, verbose, skip_blank_lines, parse_dates, infer_datetime_format, keep_date_col, date_parser, date_format, dayfirst, cache_dates, iterator, chunksize, compression, thousands, decimal, lineterminator, quotechar, quoting, doublequote, escapechar, comment, encoding, encoding_errors, dialect, on_bad_lines, delim_whitespace, low_memory, memory_map, float_precision, storage_options, dtype_backend)\u001b[0m\n\u001b[0;32m   1013\u001b[0m kwds_defaults \u001b[38;5;241m=\u001b[39m _refine_defaults_read(\n\u001b[0;32m   1014\u001b[0m     dialect,\n\u001b[0;32m   1015\u001b[0m     delimiter,\n\u001b[1;32m   (...)\u001b[0m\n\u001b[0;32m   1022\u001b[0m     dtype_backend\u001b[38;5;241m=\u001b[39mdtype_backend,\n\u001b[0;32m   1023\u001b[0m )\n\u001b[0;32m   1024\u001b[0m kwds\u001b[38;5;241m.\u001b[39mupdate(kwds_defaults)\n\u001b[1;32m-> 1026\u001b[0m \u001b[38;5;28;01mreturn\u001b[39;00m _read(filepath_or_buffer, kwds)\n",
      "File \u001b[1;32m~\\anaconda3\\Lib\\site-packages\\pandas\\io\\parsers\\readers.py:620\u001b[0m, in \u001b[0;36m_read\u001b[1;34m(filepath_or_buffer, kwds)\u001b[0m\n\u001b[0;32m    617\u001b[0m _validate_names(kwds\u001b[38;5;241m.\u001b[39mget(\u001b[38;5;124m\"\u001b[39m\u001b[38;5;124mnames\u001b[39m\u001b[38;5;124m\"\u001b[39m, \u001b[38;5;28;01mNone\u001b[39;00m))\n\u001b[0;32m    619\u001b[0m \u001b[38;5;66;03m# Create the parser.\u001b[39;00m\n\u001b[1;32m--> 620\u001b[0m parser \u001b[38;5;241m=\u001b[39m TextFileReader(filepath_or_buffer, \u001b[38;5;241m*\u001b[39m\u001b[38;5;241m*\u001b[39mkwds)\n\u001b[0;32m    622\u001b[0m \u001b[38;5;28;01mif\u001b[39;00m chunksize \u001b[38;5;129;01mor\u001b[39;00m iterator:\n\u001b[0;32m    623\u001b[0m     \u001b[38;5;28;01mreturn\u001b[39;00m parser\n",
      "File \u001b[1;32m~\\anaconda3\\Lib\\site-packages\\pandas\\io\\parsers\\readers.py:1620\u001b[0m, in \u001b[0;36mTextFileReader.__init__\u001b[1;34m(self, f, engine, **kwds)\u001b[0m\n\u001b[0;32m   1617\u001b[0m     \u001b[38;5;28mself\u001b[39m\u001b[38;5;241m.\u001b[39moptions[\u001b[38;5;124m\"\u001b[39m\u001b[38;5;124mhas_index_names\u001b[39m\u001b[38;5;124m\"\u001b[39m] \u001b[38;5;241m=\u001b[39m kwds[\u001b[38;5;124m\"\u001b[39m\u001b[38;5;124mhas_index_names\u001b[39m\u001b[38;5;124m\"\u001b[39m]\n\u001b[0;32m   1619\u001b[0m \u001b[38;5;28mself\u001b[39m\u001b[38;5;241m.\u001b[39mhandles: IOHandles \u001b[38;5;241m|\u001b[39m \u001b[38;5;28;01mNone\u001b[39;00m \u001b[38;5;241m=\u001b[39m \u001b[38;5;28;01mNone\u001b[39;00m\n\u001b[1;32m-> 1620\u001b[0m \u001b[38;5;28mself\u001b[39m\u001b[38;5;241m.\u001b[39m_engine \u001b[38;5;241m=\u001b[39m \u001b[38;5;28mself\u001b[39m\u001b[38;5;241m.\u001b[39m_make_engine(f, \u001b[38;5;28mself\u001b[39m\u001b[38;5;241m.\u001b[39mengine)\n",
      "File \u001b[1;32m~\\anaconda3\\Lib\\site-packages\\pandas\\io\\parsers\\readers.py:1880\u001b[0m, in \u001b[0;36mTextFileReader._make_engine\u001b[1;34m(self, f, engine)\u001b[0m\n\u001b[0;32m   1878\u001b[0m     \u001b[38;5;28;01mif\u001b[39;00m \u001b[38;5;124m\"\u001b[39m\u001b[38;5;124mb\u001b[39m\u001b[38;5;124m\"\u001b[39m \u001b[38;5;129;01mnot\u001b[39;00m \u001b[38;5;129;01min\u001b[39;00m mode:\n\u001b[0;32m   1879\u001b[0m         mode \u001b[38;5;241m+\u001b[39m\u001b[38;5;241m=\u001b[39m \u001b[38;5;124m\"\u001b[39m\u001b[38;5;124mb\u001b[39m\u001b[38;5;124m\"\u001b[39m\n\u001b[1;32m-> 1880\u001b[0m \u001b[38;5;28mself\u001b[39m\u001b[38;5;241m.\u001b[39mhandles \u001b[38;5;241m=\u001b[39m get_handle(\n\u001b[0;32m   1881\u001b[0m     f,\n\u001b[0;32m   1882\u001b[0m     mode,\n\u001b[0;32m   1883\u001b[0m     encoding\u001b[38;5;241m=\u001b[39m\u001b[38;5;28mself\u001b[39m\u001b[38;5;241m.\u001b[39moptions\u001b[38;5;241m.\u001b[39mget(\u001b[38;5;124m\"\u001b[39m\u001b[38;5;124mencoding\u001b[39m\u001b[38;5;124m\"\u001b[39m, \u001b[38;5;28;01mNone\u001b[39;00m),\n\u001b[0;32m   1884\u001b[0m     compression\u001b[38;5;241m=\u001b[39m\u001b[38;5;28mself\u001b[39m\u001b[38;5;241m.\u001b[39moptions\u001b[38;5;241m.\u001b[39mget(\u001b[38;5;124m\"\u001b[39m\u001b[38;5;124mcompression\u001b[39m\u001b[38;5;124m\"\u001b[39m, \u001b[38;5;28;01mNone\u001b[39;00m),\n\u001b[0;32m   1885\u001b[0m     memory_map\u001b[38;5;241m=\u001b[39m\u001b[38;5;28mself\u001b[39m\u001b[38;5;241m.\u001b[39moptions\u001b[38;5;241m.\u001b[39mget(\u001b[38;5;124m\"\u001b[39m\u001b[38;5;124mmemory_map\u001b[39m\u001b[38;5;124m\"\u001b[39m, \u001b[38;5;28;01mFalse\u001b[39;00m),\n\u001b[0;32m   1886\u001b[0m     is_text\u001b[38;5;241m=\u001b[39mis_text,\n\u001b[0;32m   1887\u001b[0m     errors\u001b[38;5;241m=\u001b[39m\u001b[38;5;28mself\u001b[39m\u001b[38;5;241m.\u001b[39moptions\u001b[38;5;241m.\u001b[39mget(\u001b[38;5;124m\"\u001b[39m\u001b[38;5;124mencoding_errors\u001b[39m\u001b[38;5;124m\"\u001b[39m, \u001b[38;5;124m\"\u001b[39m\u001b[38;5;124mstrict\u001b[39m\u001b[38;5;124m\"\u001b[39m),\n\u001b[0;32m   1888\u001b[0m     storage_options\u001b[38;5;241m=\u001b[39m\u001b[38;5;28mself\u001b[39m\u001b[38;5;241m.\u001b[39moptions\u001b[38;5;241m.\u001b[39mget(\u001b[38;5;124m\"\u001b[39m\u001b[38;5;124mstorage_options\u001b[39m\u001b[38;5;124m\"\u001b[39m, \u001b[38;5;28;01mNone\u001b[39;00m),\n\u001b[0;32m   1889\u001b[0m )\n\u001b[0;32m   1890\u001b[0m \u001b[38;5;28;01massert\u001b[39;00m \u001b[38;5;28mself\u001b[39m\u001b[38;5;241m.\u001b[39mhandles \u001b[38;5;129;01mis\u001b[39;00m \u001b[38;5;129;01mnot\u001b[39;00m \u001b[38;5;28;01mNone\u001b[39;00m\n\u001b[0;32m   1891\u001b[0m f \u001b[38;5;241m=\u001b[39m \u001b[38;5;28mself\u001b[39m\u001b[38;5;241m.\u001b[39mhandles\u001b[38;5;241m.\u001b[39mhandle\n",
      "File \u001b[1;32m~\\anaconda3\\Lib\\site-packages\\pandas\\io\\common.py:873\u001b[0m, in \u001b[0;36mget_handle\u001b[1;34m(path_or_buf, mode, encoding, compression, memory_map, is_text, errors, storage_options)\u001b[0m\n\u001b[0;32m    868\u001b[0m \u001b[38;5;28;01melif\u001b[39;00m \u001b[38;5;28misinstance\u001b[39m(handle, \u001b[38;5;28mstr\u001b[39m):\n\u001b[0;32m    869\u001b[0m     \u001b[38;5;66;03m# Check whether the filename is to be opened in binary mode.\u001b[39;00m\n\u001b[0;32m    870\u001b[0m     \u001b[38;5;66;03m# Binary mode does not support 'encoding' and 'newline'.\u001b[39;00m\n\u001b[0;32m    871\u001b[0m     \u001b[38;5;28;01mif\u001b[39;00m ioargs\u001b[38;5;241m.\u001b[39mencoding \u001b[38;5;129;01mand\u001b[39;00m \u001b[38;5;124m\"\u001b[39m\u001b[38;5;124mb\u001b[39m\u001b[38;5;124m\"\u001b[39m \u001b[38;5;129;01mnot\u001b[39;00m \u001b[38;5;129;01min\u001b[39;00m ioargs\u001b[38;5;241m.\u001b[39mmode:\n\u001b[0;32m    872\u001b[0m         \u001b[38;5;66;03m# Encoding\u001b[39;00m\n\u001b[1;32m--> 873\u001b[0m         handle \u001b[38;5;241m=\u001b[39m \u001b[38;5;28mopen\u001b[39m(\n\u001b[0;32m    874\u001b[0m             handle,\n\u001b[0;32m    875\u001b[0m             ioargs\u001b[38;5;241m.\u001b[39mmode,\n\u001b[0;32m    876\u001b[0m             encoding\u001b[38;5;241m=\u001b[39mioargs\u001b[38;5;241m.\u001b[39mencoding,\n\u001b[0;32m    877\u001b[0m             errors\u001b[38;5;241m=\u001b[39merrors,\n\u001b[0;32m    878\u001b[0m             newline\u001b[38;5;241m=\u001b[39m\u001b[38;5;124m\"\u001b[39m\u001b[38;5;124m\"\u001b[39m,\n\u001b[0;32m    879\u001b[0m         )\n\u001b[0;32m    880\u001b[0m     \u001b[38;5;28;01melse\u001b[39;00m:\n\u001b[0;32m    881\u001b[0m         \u001b[38;5;66;03m# Binary mode\u001b[39;00m\n\u001b[0;32m    882\u001b[0m         handle \u001b[38;5;241m=\u001b[39m \u001b[38;5;28mopen\u001b[39m(handle, ioargs\u001b[38;5;241m.\u001b[39mmode)\n",
      "\u001b[1;31mFileNotFoundError\u001b[0m: [Errno 2] No such file or directory: 'ZHVI_Metro_zhvi_uc_sfr_tier_0.33_0.67_sm_sa_month.csv'"
     ]
    }
   ],
   "source": [
    "# Load datasets\n",
    "zhvi_data = pd.read_csv('ZHVI_Metro_zhvi_uc_sfr_tier_0.33_0.67_sm_sa_month.csv')\n",
    "zori_data = pd.read_csv('ZORI_Metro_zordi_uc_sfr_month.csv')\n",
    "market_temp_data = pd.read_csv('MARKET_TEMP_Metro_market_temp_index_uc_sfrcondo_month.csv')\n",
    "dttp_data = pd.read_csv('DTTP_Metro_mean_doz_pending_uc_sfrcondo_month.csv')\n",
    "inventory_data = pd.read_csv('FOR_SALE_INVENTORY_Metro_invt_fs_uc_sfr_sm_month.csv')\n",
    "\n",
    "# Display data to ensure it loaded\n",
    "zhvi_data.head(), zori_data.head(), market_temp_data.head(), dttp_data.head(), inventory_data.head()\n",
    "# Reshape datasets for 2023-2024\n",
    "def reshape_and_filter(df, id_vars, value_name, start_year=2023, end_year=2024):\n",
    "    df_long = df.melt(id_vars=id_vars, var_name=\"Date\", value_name=value_name)\n",
    "    df_long[\"Date\"] = pd.to_datetime(df_long[\"Date\"], errors=\"coerce\")\n",
    "    return df_long[\n",
    "        (df_long[\"Date\"].dt.year >= start_year) & (df_long[\"Date\"].dt.year <= end_year)\n",
    "    ]"
   ]
  },
  {
   "cell_type": "markdown",
   "id": "bcf0ea44",
   "metadata": {},
   "source": [
    "## Which US Real Estate Market is Doing Best Overall?"
   ]
  },
  {
   "cell_type": "code",
   "execution_count": null,
   "id": "d3143809",
   "metadata": {
    "scrolled": true
   },
   "outputs": [],
   "source": [
    "# Extract the latest data for analysis, rename for zhvi and zori to clarify and tracking\n",
    "zhvi_latest = zhvi_data[['RegionName', 'StateName', '2024-10-31']].rename(columns={'2024-10-31': 'ZHVI_Latest'})\n",
    "zori_latest = zori_data[['RegionName', 'StateName', '2024-10-31']].rename(columns={'2024-10-31': 'ZORI_Latest'})\n",
    "market_temp_latest = market_temp_data[['RegionName', 'StateName', '2024-10-31']].rename(columns={'2024-10-31': 'MarketTemp_Latest'})\n",
    "\n",
    "# Merge datasets, merging the zhvi and zori for region and state, makes it more clear and remove united states as a region\n",
    "combined_data = pd.merge(zhvi_latest, zori_latest, on=['RegionName', 'StateName'], how='inner')\n",
    "combined_data = pd.merge(combined_data, market_temp_latest, on=['RegionName', 'StateName'], how='inner')\n",
    "\n",
    "# Rank markets by metrics, metrics being \"hottest\" by state/region \n",
    "combined_data['ZHVI_Rank'] = combined_data['ZHVI_Latest'].rank(ascending=False)\n",
    "combined_data['ZORI_Rank'] = combined_data['ZORI_Latest'].rank(ascending=False)\n",
    "combined_data['MarketTemp_Rank'] = combined_data['MarketTemp_Latest'].rank(ascending=False)\n",
    "\n",
    "# Calculate overall rank\n",
    "combined_data['Overall_Rank'] = combined_data[['ZHVI_Rank', 'ZORI_Rank', 'MarketTemp_Rank']].mean(axis=1)\n",
    "\n",
    "# Top-performing markets\n",
    "top_markets = combined_data.sort_values(by='Overall_Rank').head(10)\n",
    "top_markets"
   ]
  },
  {
   "cell_type": "markdown",
   "id": "5f4861fe-5868-4697-901f-873b29ddaf8b",
   "metadata": {},
   "source": [
    "### **ZHVI_Latest**\n",
    "- **Definition**:  \n",
    "  The Zillow Home Value Index (ZHVI) for the most recent period (**October 2024**).\n",
    "\n",
    "- **Purpose**:  \n",
    "  ZHVI provides an average property value (home price) within a region.\n",
    "  - **Price Appreciation**: How property values have grown over time.\n",
    "  - **Market Demand**: Higher ZHVI values indicate a stronger demand for housing in that area.\n",
    "\n",
    "---\n",
    "\n",
    "### **ZORI_Latest**\n",
    "- **Definition**:  \n",
    "  The Zillow Observed Rent Index (ZORI) for the most recent period (**October 2024**).\n",
    "\n",
    "- **Purpose**:  \n",
    "  ZORI tracks the average rent prices across a region. \n",
    "  - **Rental Yields**: Comparing rental income to property prices.\n",
    "  - **Profitability for Landlords**: Higher ZORI values mean higher rental income potential.\n",
    "\n",
    "---\n",
    "\n",
    "### **How These Columns Were Created**\n",
    "These columns were extracted and renamed from the original datasets to make them easier to understand and work with:\n",
    "\n",
    "- **ZHVI_Latest** is derived from the ZHVI dataset (`zhvi_data`).\n",
    "- **ZORI_Latest** is derived from the ZORI dataset (`zori_data`).\n",
    "- The renaming ensures clarity in tracking the most recent metrics.\n",
    "\n",
    "\n",
    "### **Why They Matter**\n",
    "\n",
    "Together, **ZHVI** and **ZORI** provide a comprehensive view of a real estate market:\n",
    "\n",
    "- **ZHVI** helps evaluate appreciation potential and market strength.\n",
    "- **ZORI** indicates rental income potential and profitability for rental investments.\n",
    "- Comparing the two allows investors to identify markets with both rising property values and strong rental returns.\n"
   ]
  },
  {
   "cell_type": "markdown",
   "id": "dd961742",
   "metadata": {},
   "source": [
    "### Visualization of Top 10 Performing Markets"
   ]
  },
  {
   "cell_type": "code",
   "execution_count": null,
   "id": "2942dc56",
   "metadata": {},
   "outputs": [],
   "source": [
    "\n",
    "# Bar chart for overall rank\n",
    "plt.figure(figsize=(10, 6))\n",
    "plt.barh(top_markets['RegionName'], top_markets['Overall_Rank'], color='green')\n",
    "plt.xlabel('Overall Rank')\n",
    "plt.ylabel('Region')\n",
    "plt.title('Top 10 Performing Real Estate Markets')\n",
    "plt.gca().invert_yaxis()\n",
    "plt.show()"
   ]
  },
  {
   "attachments": {},
   "cell_type": "markdown",
   "id": "e2345ac0-b899-4aa6-af3d-d26bb742243e",
   "metadata": {},
   "source": [
    "### **Bar Chart: Top 10 Performing Real Estate Markets**\n",
    "\n",
    "### **Why Lower Overall Rank Is Better**\n",
    "\n",
    "- **Higher Performance Across Metrics**:  \n",
    "  A lower overall rank means the market consistently excels in the evaluated areas:\n",
    "  - **Price Growth (ZHVI)**\n",
    "  - **Rental Returns (ZORI)**\n",
    "  - **Competitiveness (Market Activity)**\n",
    "\n",
    "- **Comparative Ranking**:  \n",
    "  The system ranks markets relative to one another. For example:\n",
    "  - A market with **Rank 1 for ZHVI**, **Rank 2 for ZORI**, and **Rank 1 for Market Activity** has an **average overall rank of 1.33**, making it highly competitive.\n",
    "  - A market with **Rank 5, Rank 6, and Rank 7** has an **average overall rank of 6.0**, indicating lower performance compared to the first market.\n",
    "\n",
    "---\n",
    "\n",
    "### **Insight 1**\n",
    "- **San Jose, CA**:  \n",
    "  If it has the lowest overall rank, it likely performs exceptionally well in price appreciation and market activity, even if its rental yields are moderate.\n",
    "  \n",
    "- **Springfield, MA**:  \n",
    "  If it has a higher overall rank, it might perform well in rental yields but less so in price appreciation or market activity.\n",
    "\n",
    "\n",
    "### **Insight 2**:\n",
    "- Markets like **San Jose, CA** and **San Francisco, CA** rank highly due to their strong price appreciation, despite relatively moderate rental yields.\n",
    "- **Salinas, CA** and **Manchester, NH** offer a mix of competitive rental yields and moderate market activity, making them attractive for investors looking for balanced opportunities.\n"
   ]
  },
  {
   "cell_type": "code",
   "execution_count": null,
   "id": "8d35ec68-8c58-4a60-b6aa-59d4b6f03ade",
   "metadata": {},
   "outputs": [],
   "source": [
    "import matplotlib.pyplot as plt\n",
    "\n",
    "# Extract trends for top market regions from zhvi\n",
    "top_market_regions = top_markets['RegionName'].unique()\n",
    "zhvi_trends = zhvi_data[zhvi_data['RegionName'].isin(top_market_regions)]\n",
    "\n",
    "# Transpose data for plotting (columns as dates, rows as regions)\n",
    "zhvi_trends = zhvi_trends.set_index('RegionName').drop(['RegionID', 'SizeRank', 'RegionType', 'StateName'], axis=1).T\n",
    "zhvi_trends.index = pd.to_datetime(zhvi_trends.index)  # Convert dates to datetime for better plotting\n",
    "\n",
    "# Filter for October 2023 to October 2024\n",
    "start_date = \"2023-10-01\"\n",
    "end_date = \"2024-10-31\"\n",
    "zhvi_trends = zhvi_trends[(zhvi_trends.index >= start_date) & (zhvi_trends.index <= end_date)]\n",
    "\n",
    "# Plot the trends\n",
    "plt.figure(figsize=(12, 8))\n",
    "for region in zhvi_trends.columns:\n",
    "    plt.plot(zhvi_trends.index, zhvi_trends[region], label=region)\n",
    "\n",
    "plt.title(\"Home Value Trends (ZHVI) for Top Performing Markets (Oct 2023 - Oct 2024)\", fontsize=14)\n",
    "plt.xlabel(\"Year\", fontsize=12)\n",
    "plt.ylabel(\"ZHVI (Home Value Index)\", fontsize=12)\n",
    "plt.legend(title=\"Region\", bbox_to_anchor=(1.05, 1), loc='upper left')\n",
    "plt.grid(alpha=0.5, linestyle='--')\n",
    "plt.tight_layout()\n",
    "plt.show()\n"
   ]
  },
  {
   "cell_type": "code",
   "execution_count": null,
   "id": "de10952a-7531-4703-b9a7-7c1a4bbee4c6",
   "metadata": {},
   "outputs": [],
   "source": [
    "# Filter for October 2023 to October 2024\n",
    "start_date = \"2023-10-01\"\n",
    "end_date = \"2024-10-31\"\n",
    "zhvi_trends = zhvi_trends[(zhvi_trends.index >= start_date) & (zhvi_trends.index <= end_date)]\n",
    "\n",
    "# Calculate the median home price for each region in the date range\n",
    "median_home_price = zhvi_trends.median().sort_values(ascending=False).reset_index()\n",
    "median_home_price.columns = [\"RegionName\", \"Median_ZHVI\"]\n",
    "\n",
    "# Plot the median home price per region as a bar graph\n",
    "plt.figure(figsize=(12, 6))\n",
    "sns.barplot(data=median_home_price, x=\"RegionName\", y=\"Median_ZHVI\", hue=\"RegionName\", dodge=False, palette=\"viridis\")\n",
    "plt.title(\"Median Home Price per Region (Oct 2023 - Oct 2024)\", fontsize=16)\n",
    "plt.xlabel(\"Region\", fontsize=12)\n",
    "plt.ylabel(\"Median Home Price ($million)\", fontsize=12)\n",
    "plt.xticks(rotation=45, ha=\"right\")\n",
    "plt.tight_layout()\n",
    "plt.show()\n",
    "\n"
   ]
  },
  {
   "cell_type": "markdown",
   "id": "df0ef234-b180-4c10-aaf2-a1c577d31623",
   "metadata": {},
   "source": [
    "### **Home Value Trends Visualization**\n",
    "\n",
    "**Line Chart: Home Value Trends (ZHVI) for Top Performing Markets**\n",
    "\n",
    "- **What It Shows**:  \n",
    "  This chart tracks how home values (ZHVI) have changed over time in the top 10 real estate markets. Each line represents the average property value in a market, allowing us to compare their growth trends.\n",
    "\n",
    "- **Key Insights**:\n",
    "  1. **Fast-Growing Markets**:  \n",
    "     Cities like *San Jose, CA* and *San Francisco, CA* show sharp increases in home values, indicating strong demand and rapid appreciation. These markets are great for investors who want to buy, upgrade, and sell quickly to maximize profits.\n",
    "  2. **Steady Growers**:  \n",
    "     Areas such as *Salinas, CA* and *Manchester, NH* have slower but consistent growth. These markets are better for long-term investments, as their steady increases suggest stability and lower risk.\n",
    "  3. **Stable or Cooling Markets**:  \n",
    "     Some regions with flatter lines might be reaching a peak or cooling off. While these areas may not offer as much price appreciation, they could still be profitable for rental income.\n",
    "\n",
    "- **Why It Matters**:  \n",
    "  - Steeper lines show markets where property values are growing rapidly, which can lead to higher profits if you sell soon.  \n",
    "  - Gradual, steady growth suggests reliable markets where property values are less volatile, making them ideal for long-term investments.  \n",
    "  - Flat trends indicate stable markets, which might still be good for renting out properties or holding for future appreciation.\n",
    "\n",
    "- **How to Use This Information**:  \n",
    "  - If you want quick profits, focus on markets with sharp growth like *San Jose* or *San Francisco*.  \n",
    "  - For steady income and long-term value, look at consistent growers like *Salinas* or *Springfield*.  \n",
    "  - The chart helps you decide if a market is still growing, stable, or slowing down, so you can plan your investment accordingly.\n"
   ]
  },
  {
   "cell_type": "markdown",
   "id": "f0c283df-1b68-4c25-83ac-26fb3c6f1c04",
   "metadata": {},
   "source": [
    "### **Conclusion for Question 1: Which US Real Estate Market is Doing Best Overall?**\n",
    "\n",
    "Based on the analysis, the top-performing real estate markets are determined by their strong performance in price appreciation (ZHVI), rental yields (ZORI), and market activity (temperature index). Markets like **San Jose, CA** and **San Francisco, CA** rank highly due to their consistent price growth and competitive nature. However, regions such as **Salinas, CA** and **Manchester, NH** offer a balance of moderate price appreciation and high rental yields, making them attractive for long-term investments.\n",
    "\n",
    "- **High Growth Markets**: *San Jose, CA* and *San Francisco, CA* excel in appreciation, ideal for flipping or short-term investments.\n",
    "- **Balanced Growth and Rental Yield Markets**: *Salinas, CA* and *Springfield, MA* provide steady price growth and strong rental yields, making them favorable for long-term investments.\n",
    "\n",
    "Overall, the best market depends on your investment strategy. If rapid price appreciation is the priority, focus on competitive markets with high demand. For consistent returns, target markets with a balance of moderate appreciation and strong rental yields.\n",
    "\n",
    "---"
   ]
  },
  {
   "cell_type": "markdown",
   "id": "2e05dc81-85cb-48c4-a3f4-7ae8d4883595",
   "metadata": {},
   "source": [
    "# 2) Are the sale prices and inventory listing going up or down overall in the US? 10 points (**Cristian Zendejas**)\n",
    "---"
   ]
  },
  {
   "cell_type": "code",
   "execution_count": null,
   "id": "642d105f-07d5-4073-a035-f1cc51d37cb9",
   "metadata": {},
   "outputs": [],
   "source": []
  },
  {
   "cell_type": "code",
   "execution_count": null,
   "id": "f8aab154-54e9-4d16-a0fd-efdb6850db24",
   "metadata": {},
   "outputs": [],
   "source": []
  },
  {
   "cell_type": "markdown",
   "id": "80c4ab69-327d-478c-9515-07e127cd56b7",
   "metadata": {},
   "source": [
    "# 3) Should I wait to invest or should I invest now and if so then where should I invest. (You could recommend more than one place)? 10 points (**Matt Henning**)\n",
    "---"
   ]
  },
  {
   "cell_type": "markdown",
   "id": "6290d37d",
   "metadata": {},
   "source": [
    "## Should You Invest Now or Wait? Where Should You Invest?"
   ]
  },
  {
   "cell_type": "code",
   "execution_count": null,
   "id": "045395c8-83eb-4599-b285-e0253aefd090",
   "metadata": {},
   "outputs": [],
   "source": [
    "import pandas as pd\n",
    "import seaborn as sns\n",
    "import matplotlib.pyplot as plt"
   ]
  },
  {
   "cell_type": "code",
   "execution_count": null,
   "id": "707745b8-2e03-4e5e-9cec-0a764c343a5f",
   "metadata": {},
   "outputs": [],
   "source": [
    "# Load datasets\n",
    "zhvi_data = pd.read_csv('ZHVI_Metro_zhvi_uc_sfr_tier_0.33_0.67_sm_sa_month.csv')\n",
    "zori_data = pd.read_csv('ZORI_Metro_zordi_uc_sfr_month.csv')\n",
    "market_temp_data = pd.read_csv('MARKET_TEMP_Metro_market_temp_index_uc_sfrcondo_month.csv')\n",
    "dttp_data = pd.read_csv('DTTP_Metro_mean_doz_pending_uc_sfrcondo_month.csv')\n",
    "inventory_data = pd.read_csv('FOR_SALE_INVENTORY_Metro_invt_fs_uc_sfr_sm_month.csv')\n",
    "\n",
    "# Display data to ensure it loaded\n",
    "zhvi_data.head(), zori_data.head(), market_temp_data.head(), dttp_data.head(), inventory_data.head()\n",
    "# Reshape datasets for 2023-2024\n",
    "def reshape_and_filter(df, id_vars, value_name, start_year=2023, end_year=2024):\n",
    "    df_long = df.melt(id_vars=id_vars, var_name=\"Date\", value_name=value_name)\n",
    "    df_long[\"Date\"] = pd.to_datetime(df_long[\"Date\"], errors=\"coerce\")\n",
    "    return df_long[\n",
    "        (df_long[\"Date\"].dt.year >= start_year) & (df_long[\"Date\"].dt.year <= end_year)\n",
    "    ]\n"
   ]
  },
  {
   "cell_type": "code",
   "execution_count": null,
   "id": "a90bf9c0-8c37-4cb4-b34b-bf753fdfebd2",
   "metadata": {},
   "outputs": [],
   "source": [
    "# Extract the latest data for analysis, rename for zhvi and zori to clarify and tracking\n",
    "zhvi_latest = zhvi_data[['RegionName', 'StateName', '2024-10-31']].rename(columns={'2024-10-31': 'ZHVI_Latest'})\n",
    "zori_latest = zori_data[['RegionName', 'StateName', '2024-10-31']].rename(columns={'2024-10-31': 'ZORI_Latest'})\n",
    "market_temp_latest = market_temp_data[['RegionName', 'StateName', '2024-10-31']].rename(columns={'2024-10-31': 'MarketTemp_Latest'})\n",
    "\n",
    "# Merge datasets, merging the zhvi and zori for region and state, makes it more clear and remove united states as a region\n",
    "combined_data = pd.merge(zhvi_latest, zori_latest, on=['RegionName', 'StateName'], how='inner')\n",
    "combined_data = pd.merge(combined_data, market_temp_latest, on=['RegionName', 'StateName'], how='inner')\n",
    "\n",
    "# Rank markets by metrics, metrics being \"hottest\" by state/region \n",
    "combined_data['ZHVI_Rank'] = combined_data['ZHVI_Latest'].rank(ascending=False)\n",
    "combined_data['ZORI_Rank'] = combined_data['ZORI_Latest'].rank(ascending=False)\n",
    "combined_data['MarketTemp_Rank'] = combined_data['MarketTemp_Latest'].rank(ascending=False)\n",
    "\n",
    "# Calculate overall rank\n",
    "combined_data['Overall_Rank'] = combined_data[['ZHVI_Rank', 'ZORI_Rank', 'MarketTemp_Rank']].mean(axis=1)\n",
    "\n",
    "# Top-performing markets\n",
    "top_markets = combined_data.sort_values(by='Overall_Rank').head(10)\n",
    "top_markets"
   ]
  },
  {
   "cell_type": "code",
   "execution_count": null,
   "id": "b87a298f-5e48-466f-b922-f9136322b720",
   "metadata": {},
   "outputs": [],
   "source": [
    "# Filter inventory_data and dttp_data for October 2023 to October 2024\n",
    "def filter_by_date_range(df, start_date, end_date, id_vars, value_name):\n",
    "    # Melt the dataset to reshape it\n",
    "    df_long = df.melt(id_vars=id_vars, var_name=\"Date\", value_name=value_name)\n",
    "    # Convert the Date column to datetime explicitly specifying the format\n",
    "    df_long[\"Date\"] = pd.to_datetime(df_long[\"Date\"], format=\"%Y-%m-%d\", errors=\"coerce\")\n",
    "    # Filter by the date range\n",
    "    return df_long[(df_long[\"Date\"] >= start_date) & (df_long[\"Date\"] <= end_date)]\n",
    "\n",
    "# Define the date range\n",
    "start_date = \"2023-10-01\"\n",
    "end_date = \"2024-10-31\"\n",
    "\n",
    "# Reshape and filter inventory_data\n",
    "inventory_filtered = filter_by_date_range(\n",
    "    inventory_data, start_date, end_date, id_vars=[\"RegionName\", \"StateName\"], value_name=\"Inventory\"\n",
    ")\n",
    "\n",
    "# Reshape and filter dttp_data\n",
    "dttp_filtered = filter_by_date_range(\n",
    "    dttp_data, start_date, end_date, id_vars=[\"RegionName\", \"StateName\"], value_name=\"DaysOnMarket\"\n",
    ")\n",
    "\n",
    "# Aggregate the filtered data to get the latest values (October 2024)\n",
    "inventory_latest = inventory_filtered.groupby([\"RegionName\", \"StateName\"])[\"Inventory\"].last().reset_index()\n",
    "dttp_latest = dttp_filtered.groupby([\"RegionName\", \"StateName\"])[\"DaysOnMarket\"].last().reset_index()\n",
    "\n",
    "# Merge the filtered and aggregated data with top markets\n",
    "investment_data = pd.merge(top_markets, inventory_latest, on=[\"RegionName\", \"StateName\"], how=\"inner\")\n",
    "investment_data = pd.merge(investment_data, dttp_latest, on=[\"RegionName\", \"StateName\"], how=\"inner\")\n",
    "\n",
    "print(investment_data)"
   ]
  },
  {
   "cell_type": "code",
   "execution_count": null,
   "id": "1d84ce0e",
   "metadata": {},
   "outputs": [],
   "source": [
    "# Analyze inventory and days on market trends\n",
    "inventory_latest = inventory_data[['RegionName', 'StateName', '2024-10-31']].rename(columns={'2024-10-31': 'Inventory_Latest'})\n",
    "dttp_latest = dttp_data[['RegionName', 'StateName', '2024-10-31']].rename(columns={'2024-10-31': 'DaysOnMarket_Latest'})\n",
    "\n",
    "# Merge with top markets data\n",
    "investment_data = pd.merge(top_markets, inventory_latest, on=['RegionName', 'StateName'], how='inner')\n",
    "investment_data = pd.merge(investment_data, dttp_latest, on=['RegionName', 'StateName'], how='inner')\n",
    "\n",
    "# Display investment data\n",
    "investment_data"
   ]
  },
  {
   "cell_type": "code",
   "execution_count": null,
   "id": "f277c498",
   "metadata": {},
   "outputs": [],
   "source": [
    "# Scatter plot: Market Activity vs Rental Yields\n",
    "plt.figure(figsize=(10, 6))\n",
    "plt.scatter(investment_data['MarketTemp_Latest'], investment_data['ZORI_Latest'], color='cyan', s=100, edgecolors='k', alpha=0.7)\n",
    "for i, region in enumerate(investment_data['RegionName']):\n",
    "    plt.text(investment_data['MarketTemp_Latest'].iloc[i], investment_data['ZORI_Latest'].iloc[i], region, fontsize=8)\n",
    "\n",
    "plt.xlabel('Market Activity (Temperature Heat Index)')\n",
    "plt.ylabel('ZORI (Rent Index)')\n",
    "plt.title('Market Activity vs Rental Yields (Top Markets)')\n",
    "plt.grid(True, linestyle='--', alpha=0.5)\n",
    "plt.show()"
   ]
  },
  {
   "cell_type": "markdown",
   "id": "2e3a901c-f411-45ab-93af-74379da3982f",
   "metadata": {},
   "source": [
    "### **Market Activity vs Rental Yields**\n",
    "\n",
    "This scatter plot illustrates the relationship between **Market Activity (Temperature Heat Index)** and **Rental Yields (ZORI)** in the top-performing real estate markets. It helps identify the type of opportunities each market offers based on competition and rental income potential.\n",
    "\n",
    "- **High Rental Yields, Moderate Competition**:  \n",
    "  Markets with strong rental yields but lower competition (low temperature index) could be undervalued gems. These areas may provide great opportunities for rental investments with less competition from other buyers. For example, if a market has high ZORI but relatively low Market Activity, it’s likely a lucrative market for rental income.\n",
    "\n",
    "- **Highly Competitive Markets**:  \n",
    "  In markets with high activity (high temperature index), such as **San Jose, CA**, rental yields might be lower, but these areas excel in price appreciation. Such markets are ideal for investors interested in flipping or selling upgraded properties quickly at a profit.\n",
    "\n",
    "- **Key Takeaway**:  \n",
    "  This plot helps investors balance their strategies:  \n",
    "  - For rental income, focus on markets with high ZORI and moderate competition.  \n",
    "  - For flipping and quick resale, target markets with high competition and appreciation potential.  \n",
    "  Use this visualization to identify which markets align with your investment goals.\n"
   ]
  },
  {
   "cell_type": "code",
   "execution_count": null,
   "id": "ce37c097-04fb-47bd-b11e-ab241e2842c3",
   "metadata": {},
   "outputs": [],
   "source": [
    "# joint plot\n",
    "sns.set(style=\"whitegrid\")\n",
    "plt.figure(figsize=(10, 8))\n",
    "sns.jointplot(\n",
    "    data=investment_data,\n",
    "    x=\"Inventory_Latest\",\n",
    "    y=\"DaysOnMarket_Latest\",\n",
    "    kind=\"scatter\",\n",
    "    hue=\"RegionName\",\n",
    "    palette=\"tab10\",\n",
    "    height=8,\n",
    "    marginal_kws=dict(bins=20, fill=True),\n",
    ")\n",
    "\n",
    "plt.suptitle(\"Inventory Levels vs. Days on Market in Top Markets\", y=1.02, fontsize=16)\n",
    "plt.xlabel(\"Inventory Levels (Units)\")\n",
    "plt.ylabel(\"Days on Market\")\n",
    "plt.show()\n",
    "\n"
   ]
  },
  {
   "cell_type": "code",
   "execution_count": null,
   "id": "5d70ed22-6327-49e6-9c93-747b3e9d5fde",
   "metadata": {},
   "outputs": [],
   "source": [
    "# Import necessary libraries\n",
    "import seaborn as sns\n",
    "import matplotlib.pyplot as plt\n",
    "\n",
    "# Bubble graph\n",
    "sns.set(style=\"whitegrid\")\n",
    "plt.figure(figsize=(10, 8))\n",
    "\n",
    "# Create a bubble graph\n",
    "sns.scatterplot(\n",
    "    data=investment_data,\n",
    "    x=\"Inventory_Latest\",\n",
    "    y=\"DaysOnMarket_Latest\",\n",
    "    size=\"ZORI_Latest\",  # Bubble size reflects rental yields (or choose another metric)\n",
    "    hue=\"RegionName\",  # Different colors for regions\n",
    "    palette=\"tab10\",  # Color palette for regions\n",
    "    sizes=(50, 500),  # Adjust size range for bubbles\n",
    "    alpha=0.7  # Transparency for better visibility\n",
    ")\n",
    "\n",
    "# Add titles and labels\n",
    "plt.title(\"Inventory Levels vs. Days on Market in Top Markets (Bubble Size: Rental Yields)\", fontsize=16, pad=15)\n",
    "plt.xlabel(\"Inventory Levels (Units)\", fontsize=12)\n",
    "plt.ylabel(\"Days on Market\", fontsize=12)\n",
    "plt.legend(bbox_to_anchor=(1.05, 1), loc=\"upper left\", title=\"Region\")\n",
    "plt.grid(alpha=0.5)\n",
    "\n",
    "# Display the plot\n",
    "plt.tight_layout()\n",
    "plt.show()\n",
    "\n"
   ]
  },
  {
   "cell_type": "markdown",
   "id": "98b8742c-dbc8-43fb-a0d4-e76b9ab7dbf5",
   "metadata": {},
   "source": [
    "### **Inventory Levels vs. Days on Market**\n",
    "\n",
    "These visualizations explore the relationship between **Inventory Levels** and **Days on Market** in the top-performing real estate markets. \n",
    "\n",
    "  - **Scatter Plot**: Each point represents a market (region), showing how much inventory is available (x-axis) and how quickly homes are selling (y-axis).\n",
    "  - **Hue for Region Names**: Each market is color-coded to help differentiate between the top-performing locations.\n",
    "  - **Marginal Distributions**: Histograms along the axes show the distribution of inventory levels and days on market, revealing overall trends.\n",
    "  -  **Bubble Chart**: This bubble chart explores the relationship between **Inventory Levels** (x-axis) and **Days on Market** (y-axis) in the top-performing real estate markets. It also incorporates:\n",
    "- **Bubble Size**: Reflects rental yields (ZORI_Latest), with larger bubbles representing higher rental profitability.\n",
    "- **Hue for Region Names**: Each region is color-coded, allowing easy differentiation between markets.\n",
    "\n",
    "\n",
    "- **Key Insights**:\n",
    "  1. **Low Inventory, Low Days on Market**:  \n",
    "     Markets with low inventory and quick sales (e.g., low days on market) are highly competitive, making them ideal for flipping or quick resale. These markets indicate high buyer demand and fast-moving properties.\n",
    "  2. **High Inventory, High Days on Market**:  \n",
    "     Markets with higher inventory and longer days on market may offer opportunities for investors to negotiate better deals. These areas are more suited for rental investments, where securing a property at a lower cost may yield higher returns over time.\n",
    "  3. **Balanced Markets**:  \n",
    "     Some markets show moderate inventory levels and days on market, striking a balance between availability and demand. These markets can be a good choice for both flipping and long-term investments.\n",
    "\n",
    "- **Why I care**:  \n",
    "  This visualization helps you identify markets that align with your goals:\n",
    "  - For **quick resale**: Look for markets with low inventory and days on market.  \n",
    "  - For **long-term rental investments**: Focus on markets with higher inventory, as they may provide more favorable purchase conditions.\n",
    "\n",
    "Th scatter plot and bubble chart show how competitive a market is.\n"
   ]
  },
  {
   "cell_type": "code",
   "execution_count": null,
   "id": "3bf05dd3-5134-4e71-9c8d-5cacb124c146",
   "metadata": {},
   "outputs": [],
   "source": [
    "print(investment_data.columns)\n"
   ]
  },
  {
   "cell_type": "code",
   "execution_count": null,
   "id": "ee2010db-d38c-4288-969c-38ce1724804f",
   "metadata": {},
   "outputs": [],
   "source": [
    "# Rename columns for heatmp\n",
    "investment_data = investment_data.rename(columns={\n",
    "    \"inventory_latest\": \"Inventory\",\n",
    "    \"days_on_market_latest\": \"DaysOnMarket\"\n",
    "})"
   ]
  },
  {
   "cell_type": "code",
   "execution_count": null,
   "id": "7ecdcf41-1694-4926-a100-8ebe922cc5e8",
   "metadata": {},
   "outputs": [],
   "source": [
    "# Merge inventory and days on market data with top markets\n",
    "investment_data = pd.merge(\n",
    "    top_markets,\n",
    "    inventory_data[['RegionName', 'StateName', '2024-10-31']].rename(columns={'2024-10-31': 'Inventory'}),\n",
    "    on=['RegionName', 'StateName'],\n",
    "    how='inner'\n",
    ")\n",
    "investment_data = pd.merge(\n",
    "    investment_data,\n",
    "    dttp_data[['RegionName', 'StateName', '2024-10-31']].rename(columns={'2024-10-31': 'DaysOnMarket'}),\n",
    "    on=['RegionName', 'StateName'],\n",
    "    how='inner'\n",
    ")"
   ]
  },
  {
   "cell_type": "code",
   "execution_count": null,
   "id": "7a805154-8886-45cb-a8a7-138739b18119",
   "metadata": {},
   "outputs": [],
   "source": [
    "# Prepare data for the heatmap\n",
    "heatmap_data = investment_data.set_index(\"RegionName\")[[\"Inventory\", \"DaysOnMarket\", \"ZORI_Latest\", \"ZHVI_Latest\"]]\n",
    "\n",
    "\n",
    "# Plot the heatmap\n",
    "plt.figure(figsize=(12, 8))\n",
    "sns.heatmap(heatmap_data, cmap=\"YlGnBu\", annot=True, fmt=\".2f\", linewidths=0.5)\n",
    "plt.title(\"Market Dynamics Heatmap: Key Metrics by Region\", fontsize=16)\n",
    "plt.ylabel(\"Region\", fontsize=12)\n",
    "plt.xlabel(\"Metric\", fontsize=12)\n",
    "plt.show()\n",
    "\n"
   ]
  },
  {
   "cell_type": "code",
   "execution_count": null,
   "id": "bdd90d1a-9e24-45df-984a-2c92dd27c604",
   "metadata": {},
   "outputs": [],
   "source": [
    "# exact same as before but with each metric normalized, easier on the eyes\n",
    "heatmap_data = investment_data.set_index(\"RegionName\")[[\"Inventory\", \"DaysOnMarket\", \"ZORI_Latest\", \"ZHVI_Latest\"]]\n",
    "#added after too much trial and error to \"normalize the data\"\n",
    "heatmap_data = (heatmap_data - heatmap_data.min()) / (heatmap_data.max() - heatmap_data.min())\n",
    "\n",
    "# Plot the heatmap\n",
    "plt.figure(figsize=(12, 8))\n",
    "sns.heatmap(heatmap_data, cmap=\"YlGnBu\", annot=True, fmt=\".2f\", linewidths=0.5)\n",
    "plt.title(\"Market Dynamics Heatmap: Key Metrics by Region\", fontsize=16)\n",
    "plt.ylabel(\"Region\", fontsize=12)\n",
    "plt.xlabel(\"Metric\", fontsize=12)\n",
    "plt.show()\n",
    "\n"
   ]
  },
  {
   "cell_type": "markdown",
   "id": "cc5689ab-2cac-4ca4-8796-0f3af28e483f",
   "metadata": {},
   "source": [
    "## **Market Dynamics Heatmap: Key Metrics by Region**\n",
    "\n",
    "This heatmap provides a side-by-side comparison of the four metrics provided by Zillow metrics across several regions. Each metric is normalized (scaled between 0 and 1) to make comparisons across different scales possible. Darker shades indicate higher values, while lighter shades indicate lower values.\n",
    "\n",
    "---\n",
    "\n",
    "### **Zillow Metrics Explained**\n",
    "1. **Inventory**:\n",
    "   - Measures the number of homes available for sale in the region.\n",
    "   - **Darker cells** (higher values): Indicate regions with more inventory, suggesting a buyer's market with less competition.\n",
    "   - **Lighter cells** (lower values): Indicate tighter inventory, signaling a seller's market.\n",
    "\n",
    "2. **Days on Market (DOM)**:\n",
    "   - Tracks how quickly properties are selling in the region.\n",
    "   - **Darker cells** (higher values): Indicate properties take longer to sell, possibly due to lower demand or higher pricing.\n",
    "   - **Lighter cells** (lower values): Indicate \"hot\" markets with high buyer demand and quick sales.\n",
    "\n",
    "3. **ZORI_Latest**:\n",
    "   - Reflects the rental yields (Zillow Observed Rent Index) in the region.\n",
    "   - **Darker cells** (higher values): Indicate stronger rental demand and higher profitability for landlords.\n",
    "   - **Lighter cells** (lower values): Suggest lower rental profitability.\n",
    "\n",
    "4. **ZHVI_Latest**:\n",
    "   - Represents home value appreciation (Zillow Home Value Index).\n",
    "   - **Darker cells** (higher values): Indicate regions with strong price growth and high property values.\n",
    "   - **Lighter cells** (lower values): Suggest lower appreciation potential.\n",
    "\n",
    "---\n",
    "\n",
    "### **Key Insights**\n",
    "1. **San Jose, CA**:\n",
    "   - **Low Inventory** (0.14) but **High ZHVI_Latest** (1.00): Indicates a highly competitive market with strong home value growth, ideal for *immediate* appreciation-focused investments.\n",
    "\n",
    "2. **Salinas, CA**:\n",
    "   - **Extremely Low Inventory** (0.01) and **High ZORI_Latest** (1.00): Suggests a tight rental market with high profitability for landlords.\n",
    "\n",
    "3. **Manchester, NH**:\n",
    "   - **Very Low Inventory** (0.00) and **Moderate Rental Yields** (0.20): Indicates strong demand but lower rental profitability compared to other markets.\n",
    "\n",
    "4. **Washington, DC**:\n",
    "   - **High Inventory** (1.00) but **Low Rental Yields** (0.03): Suggests a cooling market with opportunities for negotiation but less attractive for rental income.\n",
    "\n",
    "5. **Springfield, MA**:\n",
    "   - **Moderate Inventory** (0.06) and **High ZORI_Latest** (0.74): A balanced market offering strong rental yields and moderate competition.\n",
    "\n",
    "---\n",
    "\n",
    "### **How to Use This Heatmap**\n",
    "- **For Flipping**:\n",
    "  - Focus on regions with **low inventory** and **high ZHVI_Latest**, such as *San Jose, CA* and *Salinas, CA*.\n",
    "- **For Rental Income**:\n",
    "  - Target regions with **high ZORI_Latest**, like *Salinas, CA* or *Springfield, MA*, for strong rental profitability.\n",
    "- **Bonus Opportunities**:\n",
    "  - Check out regions with **high inventory** and **long days on market**, like *Washington, DC*, where buyers have leverage.\n",
    "\n"
   ]
  },
  {
   "cell_type": "markdown",
   "id": "f6f5a2bc",
   "metadata": {},
   "source": [
    "### **Conclusion on Q3 -- Should You Invest Now or Wait? Where Should You Invest?**\n",
    "\n",
    "Given the current market trends, **now is a favorable time to invest** in real estate. Many markets demonstrate strong price growth and competitive activity, suggesting demand remains high. \n",
    "\n",
    "- **Invest Now If**: You aim to capitalize on current market dynamics, particularly in competitive regions with strong price appreciation like **San Jose, CA**. Quick resale opportunities are better in these high-demand markets.\n",
    "- **Recommended Markets**:\n",
    "  - For rental income: *Salinas, CA* and *Springfield, MA*, with strong rental yields and moderate competition.\n",
    "  - For flipping: *San Francisco, CA* and *San Jose, CA*, where price appreciation remains robust, and demand is strong.\n",
    "\n",
    "Investing now in the above chosen markets to yield significant returns."
   ]
  },
  {
   "cell_type": "markdown",
   "id": "f1d5b5cc-d93a-4a8e-baf1-2ab890129431",
   "metadata": {},
   "source": [
    "# 4) How long some of the real-estate stays on the market before they rent or sell? 10 points (**Tracy Mengyuan Cui**)\n",
    "---"
   ]
  },
  {
   "cell_type": "markdown",
   "id": "41c2febc-c5e8-4e8d-a45c-4815007d9549",
   "metadata": {},
   "source": [
    "1. Importing the required libraries for EDA"
   ]
  },
  {
   "cell_type": "code",
   "execution_count": null,
   "id": "ce59463f-66da-44aa-908c-76e305aa97a7",
   "metadata": {},
   "outputs": [],
   "source": [
    "# %pip install pandas\n",
    "# %pip install numpy\n",
    "# %pip install seaborn\n",
    "%pip install geopandas contextily"
   ]
  },
  {
   "cell_type": "code",
   "execution_count": null,
   "id": "1ec97959-a56e-4263-ae7f-564d3f1d88b0",
   "metadata": {},
   "outputs": [],
   "source": [
    "import pandas as pd\n",
    "import numpy as np\n",
    "import seaborn as sns                       #visualisation\n",
    "import matplotlib.pyplot as plt             #visualisation\n",
    "import geopandas as gpd\n",
    "# import contextily\n",
    "%matplotlib inline     \n",
    "sns.set(color_codes=True)"
   ]
  },
  {
   "cell_type": "markdown",
   "id": "fc22972f-3e4f-4a33-8fe6-5b25c4aa3032",
   "metadata": {},
   "source": [
    "2. Loading the data into the data frame"
   ]
  },
  {
   "cell_type": "code",
   "execution_count": null,
   "id": "c33d3fd9-7f03-4738-93db-a17f44d667d5",
   "metadata": {},
   "outputs": [],
   "source": [
    "import os\n",
    "os.getcwd()"
   ]
  },
  {
   "cell_type": "markdown",
   "id": "fd83ff20-e44b-4657-95ea-4d4f214a84d4",
   "metadata": {},
   "source": [
    "Days to Pending: How long it takes homes in a region to change to pending status on Zillow.com after first being shown as for sale. The reported figure indicates the number of days (mean or median) that it took for homes that went pending during the week being reported, to go pending. This differs from the old “Days on Zillow” metric in that it excludes the in-contract period before a home sells."
   ]
  },
  {
   "cell_type": "code",
   "execution_count": null,
   "id": "ddf686e6-f707-4779-a888-1c5b06a8ccc3",
   "metadata": {},
   "outputs": [],
   "source": [
    "# Mean days of pending (monthly)\n",
    "df1 = pd.read_csv(\"Metro_mean_doz_pending_uc_sfrcondo_sm_month.csv\")\n",
    "# To display the top 5 rows \n",
    "df1.head(5)   "
   ]
  },
  {
   "cell_type": "code",
   "execution_count": null,
   "id": "4c6dcac9-e381-4a36-854e-721ef5a1cf39",
   "metadata": {},
   "outputs": [],
   "source": [
    "# Median days of pending\n",
    "df2 = pd.read_csv(\"Metro_med_doz_pending_uc_sfrcondo_sm_month.csv\")\n",
    "# To display the top 5 rows \n",
    "df2.head(5)   "
   ]
  },
  {
   "cell_type": "markdown",
   "id": "e5b5ae84-fc6d-4f11-a027-8e52f53a8ce2",
   "metadata": {},
   "source": [
    "Days to Close (mean/median): Number of days between the listing going pending and the sale date."
   ]
  },
  {
   "cell_type": "code",
   "execution_count": null,
   "id": "b2ab7a65-b55d-4ae7-a159-4b58305ad33a",
   "metadata": {},
   "outputs": [],
   "source": [
    "# Mean days to close\n",
    "df3 = pd.read_csv(\"Metro_mean_days_to_close_uc_sfrcondo_sm_month.csv\")\n",
    "# To display the top 5 rows \n",
    "df3.head(5)   "
   ]
  },
  {
   "cell_type": "code",
   "execution_count": null,
   "id": "1942a99e-961d-4dd5-8518-48c12ec0aece",
   "metadata": {},
   "outputs": [],
   "source": [
    "# Median days to close\n",
    "df4 = pd.read_csv(\"Metro_median_days_to_close_uc_sfrcondo_sm_month.csv\")\n",
    "# To display the top 5 rows \n",
    "df4.head(5) "
   ]
  },
  {
   "cell_type": "code",
   "execution_count": null,
   "id": "9254b0ee-0ea3-43b5-bc68-5ee340587200",
   "metadata": {},
   "outputs": [],
   "source": [
    "df1.count()"
   ]
  },
  {
   "cell_type": "code",
   "execution_count": null,
   "id": "cf032621-0e3f-4559-af3c-297c8a5e36c9",
   "metadata": {},
   "outputs": [],
   "source": [
    "df3.count()"
   ]
  },
  {
   "cell_type": "markdown",
   "id": "2d692bc5-6a2e-4485-a921-3e9097219686",
   "metadata": {},
   "source": [
    "How long some of the real-estate stays on the market before they rent or sell? The real-estate stays on the market means Days to Pending plus Days to Close."
   ]
  },
  {
   "cell_type": "markdown",
   "id": "f376bc6c-6af5-48ae-b6d0-3abe2b7e8b3a",
   "metadata": {},
   "source": [
    "Mean days on Market"
   ]
  },
  {
   "cell_type": "code",
   "execution_count": null,
   "id": "1f0f8498-194c-41c6-bed4-09f4c50b3cdd",
   "metadata": {},
   "outputs": [],
   "source": [
    "non_numeric_columns = ['RegionID', 'RegionName', 'RegionType', 'StateName','SizeRank']\n",
    "\n",
    "# Keep non-numerical columns\n",
    "df_result = df1[non_numeric_columns].copy()\n",
    "\n",
    "# Add numerical columns\n",
    "df_sum = df1.drop(columns=non_numeric_columns).add(df3.drop(columns=non_numeric_columns), fill_value=0)\n",
    "\n",
    "# Combine back\n",
    "df_result = pd.concat([df_result, df_sum], axis=1)"
   ]
  },
  {
   "cell_type": "code",
   "execution_count": null,
   "id": "11c86253-0bf3-4b90-b0ef-6f347d18ef8b",
   "metadata": {},
   "outputs": [],
   "source": [
    "df_result.head(5)"
   ]
  },
  {
   "cell_type": "code",
   "execution_count": null,
   "id": "20619ff5-c938-4a18-8402-4bed1ea9af74",
   "metadata": {},
   "outputs": [],
   "source": [
    "# Filter data for United States\n",
    "US_mean_data = df_result[df_result['RegionName'] == 'United States']\n",
    "\n",
    "# Drop non-numeric columns to focus on numerical data\n",
    "US_mean_numeric_data = US_mean_data.drop(columns=['RegionID', 'RegionName', 'RegionType', 'StateName', 'SizeRank'])"
   ]
  },
  {
   "cell_type": "code",
   "execution_count": null,
   "id": "b9c47d00-9d3d-40b9-9913-6c3fc9f67709",
   "metadata": {},
   "outputs": [],
   "source": [
    "US_mean_data"
   ]
  },
  {
   "cell_type": "code",
   "execution_count": null,
   "id": "e59ed0cd-fee6-42fd-b6f4-08fd8bbf42ad",
   "metadata": {},
   "outputs": [],
   "source": [
    "US_mean_numeric_data  = US_mean_numeric_data.T  # Transpose for easier handling\n",
    "US_mean_numeric_data .index = pd.to_datetime(US_mean_numeric_data .index)\n",
    "US_mean_numeric_data ['Year group'] = US_mean_numeric_data .index.year\n",
    "\n",
    "# Group by year and calculate the average\n",
    "yearly_data = US_mean_numeric_data .groupby('Year group').mean()\n",
    "\n",
    "# Plot yearly data\n",
    "plt.figure(figsize=(10, 6))\n",
    "plt.plot(yearly_data.index, yearly_data.values, marker='o', linestyle='-', color='blue')\n",
    "plt.title(\"Yearly Average of Real Estate mean stays for US\")\n",
    "plt.xlabel(\"Year group\")\n",
    "plt.ylabel(\"Average Value\")\n",
    "plt.grid(True)\n",
    "plt.show()"
   ]
  },
  {
   "cell_type": "markdown",
   "id": "e6a49682-83b9-47e6-ad4c-f1e5bccb8842",
   "metadata": {},
   "source": [
    "Median days on Market"
   ]
  },
  {
   "cell_type": "code",
   "execution_count": null,
   "id": "2fc329de-b0ba-4fd9-a0c4-03a652db5c9a",
   "metadata": {},
   "outputs": [],
   "source": [
    "non_numeric_columns = ['RegionID', 'RegionName', 'RegionType', 'StateName','SizeRank']\n",
    "\n",
    "# Keep non-numerical columns\n",
    "df_median_result = df2[non_numeric_columns].copy()\n",
    "\n",
    "# Add numerical columns\n",
    "df_median_sum = df2.drop(columns=non_numeric_columns).add(df4.drop(columns=non_numeric_columns), fill_value=0)\n",
    "\n",
    "# Combine back\n",
    "df_median_result = pd.concat([df_median_result, df_median_sum], axis=1)"
   ]
  },
  {
   "cell_type": "code",
   "execution_count": null,
   "id": "f2c0a9ca-c673-453a-b38d-3fd9f7a07e68",
   "metadata": {},
   "outputs": [],
   "source": [
    "df_median_result.head(5)"
   ]
  },
  {
   "cell_type": "code",
   "execution_count": null,
   "id": "05c65588-b5be-4da3-a57f-b90cd38677c1",
   "metadata": {},
   "outputs": [],
   "source": [
    "# Filter data for United States\n",
    "US_median_data = df_median_result[df_median_result['RegionName'] == 'United States']\n",
    "\n",
    "# Drop non-numeric columns to focus on numerical data\n",
    "US_median_numeric_data = US_median_data.drop(columns=['RegionID', 'RegionName', 'RegionType', 'StateName', 'SizeRank'])"
   ]
  },
  {
   "cell_type": "code",
   "execution_count": null,
   "id": "ac90552d-6d31-49a8-8f65-803fff3cd85e",
   "metadata": {},
   "outputs": [],
   "source": [
    "US_median_data"
   ]
  },
  {
   "cell_type": "code",
   "execution_count": null,
   "id": "00fcd281-4bd5-4071-af5a-a07b5978ab80",
   "metadata": {},
   "outputs": [],
   "source": [
    "US_median_numeric_data = US_median_numeric_data.T  # Transpose for easier handling\n",
    "US_median_numeric_data.index = pd.to_datetime(US_median_numeric_data.index)\n",
    "US_median_numeric_data['Year'] = US_median_numeric_data.index.year\n",
    "\n",
    "# Group by year and calculate the average\n",
    "yearly_median_data = US_median_numeric_data.groupby('Year').mean()\n",
    "\n",
    "# Plot yearly data\n",
    "plt.figure(figsize=(10, 6))\n",
    "plt.plot(yearly_median_data.index, yearly_median_data.values, marker='o', linestyle='-', color='blue')\n",
    "plt.title(\"Yearly Average of Real Estate median stays for US\")\n",
    "plt.xlabel(\"Year\")\n",
    "plt.ylabel(\"Average Value\")\n",
    "plt.grid(True)\n",
    "plt.show()"
   ]
  },
  {
   "cell_type": "markdown",
   "id": "467bb922-18da-4f95-8399-e0196a6a78a9",
   "metadata": {},
   "source": [
    "Heatmap of map of US of mean days in 2024-10-31"
   ]
  },
  {
   "cell_type": "code",
   "execution_count": null,
   "id": "0202ec53-895c-40f2-afee-9e4c944d7e7f",
   "metadata": {},
   "outputs": [],
   "source": [
    "import geopandas as gpd\n",
    "import pandas as pd\n",
    "import matplotlib.pyplot as plt\n",
    "\n",
    "# Load the CSV file\n",
    "file_path = 'Metro_mean_days_to_close_uc_sfrcondo_sm_month.csv'  # Update the path if needed\n",
    "data = pd.read_csv(file_path)\n",
    "print(set(data[\"RegionName\"]))\n",
    "\n",
    "# # Exclude 'United States' row\n",
    "# filtered_data = data[data['RegionName'] != 'United States']\n",
    "\n",
    "\n",
    "# # Aggregating the yearly average if 'Year' is added\n",
    "# numeric_data = filtered_data.set_index('RegionName').iloc[:, 5:]\n",
    "# numeric_data = numeric_data.T  # Transpose for easier handling\n",
    "# numeric_data.index = pd.to_datetime(numeric_data.index)\n",
    "# numeric_data['Year'] = numeric_data.index.year\n",
    "# yearly_data = numeric_data.groupby('Year').mean().T.reset_index()\n",
    "\n",
    "# # Load city boundary shapefile (update the path)\n",
    "# cities = gpd.read_file(\"geo/ne_110m_populated_places.shp\")  # Update the path\n",
    "# cities.rename(columns={'NAME': 'StateName'}, inplace=True)  # Adjust based on actual column names\n",
    "# print(cities.head())\n",
    "\n",
    "# # Merge city data with geographical boundaries\n",
    "# merged = cities.merge(yearly_data, on='StateName', how='left')\n",
    "# merged.head()\n",
    "\n",
    "# # Plot the data on a U.S. map\n",
    "# fig, ax = plt.subplots(1, 1, figsize=(15, 10))\n",
    "# merged.plot(column='2023',  # Replace with the desired year column\n",
    "#             cmap='coolwarm',\n",
    "#             legend=True,\n",
    "#             legend_kwds={'label': 'Mean Days to Close'},\n",
    "#             ax=ax,\n",
    "#             edgecolor='black')\n",
    "\n",
    "# ax.set_title('Mean Days to Close by City (2023)')\n",
    "# plt.show()\n"
   ]
  },
  {
   "cell_type": "code",
   "execution_count": null,
   "id": "cce42832-2604-4455-b2eb-62d1bc219875",
   "metadata": {},
   "outputs": [],
   "source": [
    "# !pip install cartopy\n",
    "# !pip install tqdm\n",
    "# !pip install openpyxl"
   ]
  },
  {
   "cell_type": "code",
   "execution_count": null,
   "id": "c86cdfca-9f93-4e09-983d-6f74d3aa99b8",
   "metadata": {},
   "outputs": [],
   "source": [
    "import os\n",
    "os.getcwd()"
   ]
  },
  {
   "cell_type": "code",
   "execution_count": 46,
   "id": "696bbee5-3495-481d-b05a-95d8cb4a475d",
   "metadata": {},
   "outputs": [
    {
     "ename": "ModuleNotFoundError",
     "evalue": "No module named 'geopy'",
     "output_type": "error",
     "traceback": [
      "\u001b[1;31m---------------------------------------------------------------------------\u001b[0m",
      "\u001b[1;31mModuleNotFoundError\u001b[0m                       Traceback (most recent call last)",
      "Cell \u001b[1;32mIn[46], line 3\u001b[0m\n\u001b[0;32m      1\u001b[0m \u001b[38;5;28;01mimport\u001b[39;00m \u001b[38;5;21;01mpandas\u001b[39;00m \u001b[38;5;28;01mas\u001b[39;00m \u001b[38;5;21;01mpd\u001b[39;00m\n\u001b[0;32m      2\u001b[0m \u001b[38;5;28;01mfrom\u001b[39;00m \u001b[38;5;21;01mtqdm\u001b[39;00m \u001b[38;5;28;01mimport\u001b[39;00m tqdm\n\u001b[1;32m----> 3\u001b[0m \u001b[38;5;28;01mfrom\u001b[39;00m \u001b[38;5;21;01mgeopy\u001b[39;00m\u001b[38;5;21;01m.\u001b[39;00m\u001b[38;5;21;01mgeocoders\u001b[39;00m \u001b[38;5;28;01mimport\u001b[39;00m Nominatim\n\u001b[0;32m      4\u001b[0m \u001b[38;5;28;01mimport\u001b[39;00m \u001b[38;5;21;01mgeopandas\u001b[39;00m \u001b[38;5;28;01mas\u001b[39;00m \u001b[38;5;21;01mgpd\u001b[39;00m\n\u001b[0;32m      5\u001b[0m \u001b[38;5;28;01mimport\u001b[39;00m \u001b[38;5;21;01mmatplotlib\u001b[39;00m\u001b[38;5;21;01m.\u001b[39;00m\u001b[38;5;21;01mpyplot\u001b[39;00m \u001b[38;5;28;01mas\u001b[39;00m \u001b[38;5;21;01mplt\u001b[39;00m\n",
      "\u001b[1;31mModuleNotFoundError\u001b[0m: No module named 'geopy'"
     ]
    }
   ],
   "source": [
    "import pandas as pd\n",
    "from tqdm import tqdm\n",
    "from geopy.geocoders import Nominatim\n",
    "import geopandas as gpd\n",
    "import matplotlib.pyplot as plt\n",
    "from matplotlib.colors import Normalize\n",
    "from mpl_toolkits.axes_grid1 import make_axes_locatable\n",
    "\n",
    "\n",
    "file_path = 'Metro_mean_days_to_close_uc_sfrcondo_sm_month.csv'  # Update the path if needed\n",
    "data = pd.read_csv(file_path)[1:]\n",
    "# print(data.head())\n",
    "data['City'] = data['RegionName'].apply(lambda x:x.split(\",\")[0])\n",
    "# print(data.head())\n",
    "data = data[[\"City\",\"StateName\",\"2024-09-30\"]]\n",
    "data.rename(columns={\"StateName\": \"State\", \"2024-09-30\": \"Value\"}, inplace=True)\n",
    "print(data.head())\n",
    "\n",
    "\n",
    "data['Latitude'] = None\n",
    "data['Longitude'] = None\n",
    "\n",
    "\n",
    "geolocator = Nominatim(user_agent=\"geoapi\")\n",
    "\n",
    "\n",
    "for idx, row in tqdm(data.iterrows(), total=data.shape[0], desc=\"Geocoding\"):\n",
    "    location = geolocator.geocode(f\"{row['City']}, {row['State']}\", timeout=10)\n",
    "    if location:\n",
    "        data.at[idx, 'Latitude'] = location.latitude\n",
    "        data.at[idx, 'Longitude'] = location.longitude\n",
    "\n",
    "\n",
    "data = data.dropna(subset=['Latitude', 'Longitude'])\n",
    "\n",
    "\n",
    "shapefile_path = '110m_cultural/ne_110m_admin_0_countries.shp'\n",
    "\n",
    "\n",
    "usa = gpd.read_file(shapefile_path)\n",
    "print(usa.columns)\n",
    "\n",
    "# usa = gpd.read_file(gpd.datasets.get_path('naturalearth_lowres'))\n",
    "usa = usa[usa['ADMIN'] == 'United States of America']\n",
    "\n",
    "\n",
    "gdf = gpd.GeoDataFrame(\n",
    "    data, \n",
    "    geometry=gpd.points_from_xy(data['Longitude'], data['Latitude']),\n",
    "    crs=\"EPSG:4326\"\n",
    ")\n",
    "\n",
    "\n",
    "fig, ax = plt.subplots(1, 1, figsize=(15, 10))\n",
    "usa.plot(ax=ax, color='lightgrey')\n",
    "\n",
    "\n",
    "norm = Normalize(vmin=data['Value'].min(), vmax=data['Value'].max())\n",
    "scatter = ax.scatter(\n",
    "    data['Longitude'], \n",
    "    data['Latitude'], \n",
    "    c=data['Value'], \n",
    "    cmap='Reds', \n",
    "    norm=norm, \n",
    "    s=50, \n",
    "    alpha=0.7\n",
    ")\n",
    "\n",
    "\n",
    "divider = make_axes_locatable(ax)\n",
    "cax = divider.append_axes(\"right\", size=\"5%\", pad=0.1)\n",
    "cbar = plt.colorbar(scatter, cax=cax)\n",
    "cbar.set_label('Value on 3/31/2018', fontsize=12)\n",
    "\n",
    "\n",
    "ax.set_title('Heatmap of Values on 3/31/2018 Across US Cities', fontsize=16)\n",
    "ax.set_xlabel('Longitude')\n",
    "ax.set_ylabel('Latitude')\n",
    "\n",
    "plt.show()\n"
   ]
  },
  {
   "cell_type": "markdown",
   "id": "aba456ed-995d-4df9-bbfd-81515fa5d127",
   "metadata": {},
   "source": [
    "# 5) How much average profit I could expect from my investments in terms of sale (% dollars) after paying mortgage. Calculate my ~ROI. 10 Points (**David Braun**)\n",
    "---"
   ]
  },
  {
   "cell_type": "markdown",
   "id": "56ad4249-faf4-4730-b9c8-57cf90864bdc",
   "metadata": {},
   "source": [
    "# 6) How much average monthly income I could expect from my investments in terms of lease/rent after upgrading properties, paying mortgage, and paying taxes. Calculate my ~ROI. 10 Points (**Soad Ahmed**)\n",
    "---"
   ]
  },
  {
   "cell_type": "markdown",
   "id": "e8d2858c-7152-49f8-983e-759896117b97",
   "metadata": {},
   "source": [
    "# Calculate Monthly Income Expectation"
   ]
  },
  {
   "cell_type": "markdown",
   "id": "81b6e9d3-0066-4dd7-b9f1-1a1cee5b5f3a",
   "metadata": {},
   "source": [
    "## Importing the Required Libraries"
   ]
  },
  {
   "cell_type": "code",
   "execution_count": 44,
   "id": "02f5cc15-8dd3-4d70-91ac-81a7c82668fc",
   "metadata": {},
   "outputs": [],
   "source": [
    "import pandas as pd\n",
    "import matplotlib.pyplot as plt\n",
    "from sklearn.preprocessing import MinMaxScaler\n",
    "import numpy as np\n",
    "import os"
   ]
  },
  {
   "cell_type": "markdown",
   "id": "9a3ec257-a5a9-46d8-8aa0-2c05b2ff15d2",
   "metadata": {},
   "source": [
    "## Uploading the Data"
   ]
  },
  {
   "cell_type": "code",
   "execution_count": 49,
   "id": "84fc9c9c-78dc-49d8-9841-e2af5201453d",
   "metadata": {},
   "outputs": [
    {
     "name": "stdout",
     "output_type": "stream",
     "text": [
      "File not found: Metro_median_sale_price_uc_sfrcondo_week.csv\n",
      "File not found: Metro_zordi_uc_sfr_month.csv\n",
      "File not found: New Construction Sales Count Raw SFR Month.csv\n",
      "File not found: Property tax rates by state.csv\n"
     ]
    }
   ],
   "source": [
    "# Define file paths\n",
    "files = {\n",
    "    \"median_sale_price\": \"Metro_median_sale_price_uc_sfrcondo_week.csv\",\n",
    "    \"zordi\": \"Metro_zordi_uc_sfr_month.csv\",\n",
    "    \"new_construction_sales\": \"New Construction Sales Count Raw SFR Month.csv\",\n",
    "    \"property_tax_rates\": \"Property tax rates by state.csv\",\n",
    "}\n",
    "\n",
    "# Load datasets with verification\n",
    "dataframes = {}\n",
    "for name, path in files.items():\n",
    "    if os.path.exists(path):\n",
    "        try:\n",
    "            dataframes[name] = pd.read_csv(path)\n",
    "            print(f\"Successfully loaded {name} from {path}\")\n",
    "        except Exception as e:\n",
    "            print(f\"Failed to load {name}: {e}\")\n",
    "    else:\n",
    "        print(f\"File not found: {path}\")\n",
    "\n",
    "# Preview data\n",
    "for name, df in dataframes.items():\n",
    "    print(f\"\\nPreview of {name}:\")\n",
    "    print(df.head(5))"
   ]
  },
  {
   "cell_type": "markdown",
   "id": "a51f3c52-9bf9-4ad6-9630-9b25f516f1a0",
   "metadata": {},
   "source": [
    "# Question 6 - What is the average monthly income expectation from rentals after upgrades, mortgage, and taxes?"
   ]
  },
  {
   "cell_type": "code",
   "execution_count": 53,
   "id": "2887b4f4-17a2-4e65-a204-8b1e6eb3610d",
   "metadata": {},
   "outputs": [
    {
     "name": "stdout",
     "output_type": "stream",
     "text": [
      "The average monthly income expectation from rentals is: $227.04\n"
     ]
    }
   ],
   "source": [
    "def calculate_monthly_income_expectation(sale_price_data, rent_data, tax_data):\n",
    "    required_key = \"some_common_key\"\n",
    "\n",
    "    # Ensure the required key exists in all datasets\n",
    "    for dataset_name, dataset in zip(\n",
    "        [\"sale_price_data\", \"rent_data\", \"tax_data\"], [sale_price_data, rent_data, tax_data]\n",
    "    ):\n",
    "        if required_key not in dataset.columns:\n",
    "            print(f\"'{required_key}' is missing from {dataset_name}. Adding default.\")\n",
    "            dataset[required_key] = dataset.index\n",
    "\n",
    "    # Check for 'Median_Sale_Price' column\n",
    "    if \"Median_Sale_Price\" not in sale_price_data.columns:\n",
    "        raise KeyError(\"'Median_Sale_Price' column is missing in sale_price_data. Please verify the data.\")\n",
    "\n",
    "    # Check for 'Monthly_Rent' column\n",
    "    if \"Monthly_Rent\" not in rent_data.columns:\n",
    "        raise KeyError(\"'Monthly_Rent' column is missing in rent_data. Please verify the data.\")\n",
    "\n",
    "    # Check for 'Effective_Tax_Rate' column\n",
    "    if \"Effective_Tax_Rate\" not in tax_data.columns:\n",
    "        raise KeyError(\"'Effective_Tax_Rate' column is missing in tax_data. Please verify the data.\")\n",
    "\n",
    "    # Merge datasets\n",
    "    merged_data = sale_price_data.merge(rent_data, on=\"some_common_key\", how=\"outer\").merge(\n",
    "        tax_data, on=\"some_common_key\", how=\"outer\"\n",
    "    )\n",
    "\n",
    "    # Perform calculations\n",
    "    merged_data[\"Loan_Amount\"] = merged_data[\"Median_Sale_Price\"]\n",
    "    merged_data[\"Monthly_Mortgage\"] = (\n",
    "        merged_data[\"Loan_Amount\"] * (0.05 / 12) * (1 + 0.05 / 12) ** 360\n",
    "    ) / ((1 + 0.05 / 12) ** 360 - 1)\n",
    "    merged_data[\"Annual_Property_Tax\"] = (\n",
    "        merged_data[\"Median_Sale_Price\"] * merged_data[\"Effective_Tax_Rate\"]\n",
    "    )\n",
    "    merged_data[\"Monthly_Property_Tax\"] = merged_data[\"Annual_Property_Tax\"] / 12\n",
    "    merged_data[\"Net_Monthly_Income\"] = (\n",
    "        merged_data[\"Monthly_Rent\"]\n",
    "        - merged_data[\"Monthly_Mortgage\"]\n",
    "        - merged_data[\"Monthly_Property_Tax\"]\n",
    "    )\n",
    "    avg_monthly_income = merged_data[\"Net_Monthly_Income\"].mean()\n",
    "    return avg_monthly_income\n",
    "    # Sample data for testing\n",
    "median_sale_price_data = pd.DataFrame({\n",
    "    \"some_common_key\": [1, 2, 3],\n",
    "    \"Median_Sale_Price\": [300000, 350000, 250000]\n",
    "})\n",
    "\n",
    "zordi_data = pd.DataFrame({\n",
    "    \"some_common_key\": [1, 2, 3],\n",
    "    \"Monthly_Rent\": [2000, 2500, 1800]\n",
    "})\n",
    "\n",
    "property_tax_data = pd.DataFrame({\n",
    "    \"some_common_key\": [1, 2, 3],\n",
    "    \"Effective_Tax_Rate\": [0.01, 0.012, 0.009]\n",
    "})\n",
    "# Calculate the average income\n",
    "average_income = calculate_monthly_income_expectation(\n",
    "    sale_price_data=median_sale_price_data,\n",
    "    rent_data=zordi_data,\n",
    "    tax_data=property_tax_data,\n",
    ")\n",
    "print(f\"The average monthly income expectation from rentals is: ${average_income:.2f}\")"
   ]
  },
  {
   "cell_type": "markdown",
   "id": "5be2fea6-53ab-49ea-af15-1c28a830e5dd",
   "metadata": {},
   "source": [
    "## **Definition**\n",
    "The `calculate_monthly_income_expectation` function calculates the average monthly income expectation from rental properties after considering upgrades, mortgage payments, and property taxes.\n",
    "\n",
    "---\n",
    "\n",
    "## **Purpose**\n",
    "- **Rental Profitability Analysis**: Estimates net monthly income from rentals.\n",
    "- **Investment Feasibility**: Helps investors assess if rental properties provide positive cash flow after expenses.\n",
    "- **Tax and Mortgage Integration**: Accounts for property taxes and mortgage payments for a realistic evaluation.\n",
    "\n",
    "---\n",
    "\n",
    "## **Key Features**\n",
    "\n",
    "### **Required Columns**\n",
    "1. **`Median_Sale_Price`**: Represents the sale price of properties.\n",
    "2. **`Monthly_Rent`**: Reflects the monthly rent collected from the property.\n",
    "3. **`Effective_Tax_Rate`**: Indicates the annual property tax rate.\n",
    "\n",
    "### **Operations**\n",
    "1. **Data Validation**: Ensures required columns are present in all input datasets (`sale_price_data`, `rent_data`, `tax_data`).\n",
    "2. **Merging Data**: Combines all datasets on a common key (`some_common_key`).\n",
    "3. **Mortgage Calculation**:\n",
    "   - Calculates monthly mortgage payments using a standard loan formula.\n",
    "4. **Property Tax Calculation**:\n",
    "   - Converts annual property tax to monthly tax based on the tax rate and property price.\n",
    "5. **Net Income Calculation**:\n",
    "   - Deducts monthly mortgage and property tax from monthly rent.\n",
    "6. **Average Income**:\n",
    "   - Calculates the mean of the net monthly incomes across all records.\n",
    "\n",
    "---\n",
    "\n",
    "## **How It Works**\n",
    "\n",
    "### **Validation and Defaults**\n",
    "Ensures all necessary columns are present and fills in defaults if required.\n",
    "\n",
    "### **Merging Datasets**\n",
    "Combines sale price, rent, and tax data for unified processing.\n",
    "\n",
    "### **Performing Calculations**\n",
    "1. **Loan Amount**: Based on the `Median_Sale_Price`.\n",
    "2. **Monthly Mortgage**: Derived from a 30-year fixed-rate mortgage formula.\n",
    "3. **Monthly Property Tax**: Derived from `Median_Sale_Price` and `Effective_Tax_Rate`.\n",
    "4. **Net Monthly Income**: Subtracts mortgage and taxes from rent.\n",
    "\n",
    "### **Output**\n",
    "Returns the average of net monthly incomes.\n",
    "\n",
    "---\n",
    "\n",
    "## **How These Columns Were Created**\n",
    "- **`Median_Sale_Price`**: Extracted from the sale price dataset (`sale_price_data`).\n",
    "- **`Monthly_Rent`**: Derived from the rental dataset (`rent_data`).\n",
    "- **`Effective_Tax_Rate`**: Extracted from the tax dataset (`tax_data`).\n",
    "\n",
    "Renaming these columns ensures clarity and consistency for calculations.\n",
    "\n",
    "---\n",
    "\n",
    "## **Why It Matters**\n",
    "\n",
    "### **Financial Viability**\n",
    "Helps investors decide if rental properties are profitable after accounting for major expenses.\n",
    "\n",
    "### **Market Comparison**\n",
    "Evaluates how properties in different markets perform in terms of rental income and tax burdens.\n",
    "\n",
    "### **Risk Management**\n",
    "Identifies markets with high taxes or mortgages that might erode profitability.\n"
   ]
  },
  {
   "cell_type": "code",
   "execution_count": 56,
   "id": "5dfd5131-41ae-49a9-90f9-562c00330ede",
   "metadata": {},
   "outputs": [],
   "source": [
    "# Sample data for visualization\n",
    "median_sale_price_data = {\n",
    "    \"same_common_key\": [1, 2, 3],\n",
    "    \"Median_Sale_Price\": [300000, 350000, 250000]\n",
    "}\n",
    "\n",
    "zordi_data = {\n",
    "    \"same_common_key\": [1, 2, 3],\n",
    "    \"Monthly_Rent\": [2000, 2500, 1800]\n",
    "}\n",
    "\n",
    "property_tax_data = {\n",
    "    \"same_common_key\": [1, 2, 3],\n",
    "    \"Effective_Tax_Rate\": [0.01, 0.012, 0.009]\n",
    "}"
   ]
  },
  {
   "cell_type": "markdown",
   "id": "bed1dfb4-1336-4dd0-b724-654fbc50c272",
   "metadata": {},
   "source": [
    "# Median_Sale_Price\n",
    "**Definition:**\n",
    "The median sale price for properties in the dataset.\n",
    "\n",
    "**Purpose:**\n",
    "- **Market Pricing:** Provides a central value for property sales, excluding extreme outliers.\n",
    "- **Investor Insights:** Helps assess affordability and market positioning.\n",
    "\n",
    "**How It Was Created:**\n",
    "- Derived from the `Median_Sale_Price` column in the `median_sale_price_data` dataset.\n",
    "\n",
    "**Why It Matters:**\n",
    "- It indicates market trends, including affordability and demand.\n",
    "- Investors can use it to evaluate markets for appreciation and entry-level pricing.\n",
    "\n",
    "---\n",
    "\n",
    "# Monthly_Rent\n",
    "**Definition:**\n",
    "The monthly rent values from the dataset.\n",
    "\n",
    "**Purpose:**\n",
    "- **Rental Income:** Tracks potential monthly income for landlords.\n",
    "- **Market Demand:** Higher rent values often signal higher demand for rental properties.\n",
    "\n",
    "**How It Was Created:**\n",
    "- Derived from the `Monthly_Rent` column in the `zordi_data` dataset.\n",
    "\n",
    "**Why It Matters:**\n",
    "- Helps in evaluating rental yields and profitability of rental properties.\n",
    "- Key for comparing with property prices to identify high-yield investment opportunities.\n",
    "\n",
    "---\n",
    "\n",
    "# Effective_Tax_Rate\n",
    "**Definition:**\n",
    "The effective property tax rates in the dataset.\n",
    "\n",
    "**Purpose:**\n",
    "- **Tax Implications:** Assesses the burden of property taxes on real estate investments.\n",
    "- **Net Profitability:** Affects the net returns after taxes.\n",
    "\n",
    "**How It Was Created:**\n",
    "- Derived from the `Effective_Tax_Rate` column in the `property_tax_data` dataset.\n",
    "\n",
    "**Why It Matters:**\n",
    "- Critical for accurate estimation of net returns and cash flow.\n",
    "- Affects the overall cost of prn_key\": [1, 2, 3],\n",
    "    \"Effective_Tax_Rate\": [0.01, 0.012, 0.009]\n",
    "}"
   ]
  },
  {
   "cell_type": "code",
   "execution_count": 61,
   "id": "22b6e9c5-f21f-4577-8d80-242ef7121380",
   "metadata": {},
   "outputs": [
    {
     "data": {
      "image/png": "[encoded data removed]",
      "text/plain": [
       "<Figure size 800x600 with 1 Axes>"
      ]
     },
     "metadata": {},
     "output_type": "display_data"
    }
   ],
   "source": [
    "# Bar Chart - Median Sale Price\n",
    "plt.figure(figsize=(8, 6))\n",
    "plt.bar(median_sale_price_data[\"same_common_key\"], median_sale_price_data[\"Median_Sale_Price\"], color='skyblue')\n",
    "plt.title('Median Sale Price by Key')\n",
    "plt.xlabel('Same Common Key')\n",
    "plt.ylabel('Median Sale Price')\n",
    "plt.xticks(median_sale_price_data[\"same_common_key\"])\n",
    "plt.tight_layout()\n",
    "plt.show()"
   ]
  },
  {
   "cell_type": "markdown",
   "id": "d845e54a-5054-439f-a086-37c03b12b8fc",
   "metadata": {},
   "source": [
    "# Bar Chart - Median Sale Price\n",
    "\n",
    "### Definition:\n",
    "The bar chart visualizes the **Median Sale Price** for different categories or keys, providing insights into property pricing trends.\n",
    "\n",
    "### Purpose:\n",
    "- **Price Comparison**: Helps to compare median sale prices across different regions or groups.\n",
    "- **Market Trends**: Highlights variations in property prices, useful for market analysis.\n",
    "\n",
    "### How This Chart Was Created:\n",
    "The chart uses the following data:\n",
    "- `median_sale_price_data[\"some_common_key\"]`: Represents the categories or keys on the x-axis.\n",
    "- `median_sale_price_data[\"Median_Sale_Price\"]`: Represents the median sale prices on the y-axis.\n",
    "- A sky-blue color palette is applied for visual clarity.\n",
    "\n",
    "The chart's layout and appearance were refined using:\n",
    "- `plt.title()`: Adds a title to the chart.\n",
    "- `plt.xlabel()` and `plt.ylabel()`: Label the axes for better understanding.\n",
    "- `plt.xticks()`: Configures x-axis labels to display relevant keys.\n",
    "- `plt.tight_layout()`: Ensures proper spacing and alignment.\n",
    "\n",
    "### Why It Matters:\n",
    "This visualization is essential for understanding real estate price distributions:\n",
    "- **Decision-Making**: Assists investors in identifying regions with favorable pricing.\n",
    "- **Trend Analysis**: Reveals pricing patterns over differen\"])\n",
    "plt.tight_layout()\n",
    "plt.show()\n"
   ]
  },
  {
   "cell_type": "code",
   "execution_count": 64,
   "id": "c8fa62c3-f753-4159-bd74-d6ff7ea1bdb2",
   "metadata": {},
   "outputs": [
    {
     "data": {
      "image/png": "[encoded data removed]",
      "text/plain": [
       "<Figure size 800x600 with 1 Axes>"
      ]
     },
     "metadata": {},
     "output_type": "display_data"
    }
   ],
   "source": [
    "# Line Chart - Monthly Rent vs Median Sale Price\n",
    "plt.figure(figsize=(8, 6))\n",
    "plt.plot(median_sale_price_data[\"same_common_key\"], median_sale_price_data[\"Median_Sale_Price\"], label=\"Median Sale Price\", marker='o')\n",
    "plt.plot(zordi_data[\"same_common_key\"], zordi_data[\"Monthly_Rent\"], label=\"Monthly Rent\", marker='s')\n",
    "plt.title('Monthly Rent vs Median Sale Price')\n",
    "plt.xlabel('Same Common Key')\n",
    "plt.ylabel('Value')\n",
    "plt.legend()\n",
    "plt.tight_layout()\n",
    "plt.show()"
   ]
  },
  {
   "cell_type": "markdown",
   "id": "beb0c798-01ca-4b2b-80a3-80c57c669a92",
   "metadata": {},
   "source": [
    "# Line Chart - Monthly Rent vs Median Sale Price\n",
    "\n",
    "### Definition:\n",
    "This chart compares the trends of **Median Sale Price** and **Monthly Rent** over a common key (e.g., time or a region).\n",
    "\n",
    "### Purpose:\n",
    "- **Median Sale Price**: Represents the midpoint of home sale prices in a region, showing the market value of properties.\n",
    "- **Monthly Rent**: Indicates the average rental income potential in the same region.\n",
    "\n",
    "### Insights Provided:\n",
    "1. **Price vs. Rent Relationship**: The chart helps visualize the correlation between property prices and rental income.\n",
    "2. **Market Trends**: Observing changes over time or across regions to identify rising or declining markets.\n",
    "3. **Investment Decisions**: Comparing these values allows investors to assess rental yields and the profitability of rental properties.\n",
    "\n",
    "### How These Data Were Used:\n",
    "- **Median Sale Price**: Derived from the `median_sale_price_data` dataset.\n",
    "- **Monthly Rent**: Derived from the `zordi_data` dataset.\n",
    "- Both datasets are aligned using a common key (e.g., a date or region) for meaningful comparison.\n",
    "\n",
    "### Why It Matters:\n",
    "This visualization combines sale price and rent data to provide:\n",
    "- **Market Dynamics**: Identifying areas where rising prices are matched with increasing rents.\n",
    "- **Investment Strategy**: Helps in determining whether a market is more favorable for property apprecia)\n",
    "plt.tight_layout()\n",
    "plt.show()"
   ]
  },
  {
   "cell_type": "code",
   "execution_count": 67,
   "id": "ceda218b-4449-42a1-84ad-13ee3cf110c6",
   "metadata": {},
   "outputs": [
    {
     "data": {
      "image/png": "[encoded data removed]",
      "text/plain": [
       "<Figure size 800x600 with 1 Axes>"
      ]
     },
     "metadata": {},
     "output_type": "display_data"
    }
   ],
   "source": [
    "# Pie Chart - Effective Tax Rate Distribution\n",
    "plt.figure(figsize=(8, 6))\n",
    "plt.pie(property_tax_data[\"Effective_Tax_Rate\"], labels=property_tax_data[\"same_common_key\"], autopct='%1.1f%%', startangle=140)\n",
    "plt.title('Effective Tax Rate Distribution by Key')\n",
    "plt.tight_layout()\n",
    "plt.show()"
   ]
  },
  {
   "cell_type": "markdown",
   "id": "1ef67d26-9c79-452d-bc01-1d05863507c9",
   "metadata": {},
   "source": [
    "### Effective Tax Rate Distribution\n",
    "\n",
    "**Definition**:  \n",
    "The pie chart visualizes the distribution of effective tax rates across various categories or keys.\n",
    "\n",
    "**Purpose**:  \n",
    "- **Tax Burden Analysis**: Understand how tax rates vary among different categories.  \n",
    "- **Comparative Insights**: Highlight which categories bear higher or lower effective tax rates.\n",
    "\n",
    "---\n",
    "\n",
    "### How the Chart Was Created  \n",
    "The chart is generated using data from the `property_tax_data` dataset:  \n",
    "- The `Effective_Tax_Rate` column represents the percentage of the total tax burden for each key.\n",
    "- The `some_common_key` column provides the labels for each slice of the pie chart.\n",
    "\n",
    "---\n",
    "---\n",
    "---"
   ]
  },
  {
   "cell_type": "code",
   "execution_count": 70,
   "id": "899256de-0de6-4377-968f-d69533a006d5",
   "metadata": {},
   "outputs": [
    {
     "ename": "SyntaxError",
     "evalue": "unterminated string literal (detected at line 10) (288142286.py, line 10)",
     "output_type": "error",
     "traceback": [
      "\u001b[1;36m  Cell \u001b[1;32mIn[70], line 10\u001b[1;36m\u001b[0m\n\u001b[1;33m    - **Monthly Property Taxes**: Derived from the effective tax rate and the property's median sale price.\u001b[0m\n\u001b[1;37m                                                                                      ^\u001b[0m\n\u001b[1;31mSyntaxError\u001b[0m\u001b[1;31m:\u001b[0m unterminated string literal (detected at line 10)\n"
     ]
    }
   ],
   "source": [
    "# Rental Income Expectation and Market Insights\n",
    "\n",
    "### Rental Income Expectation and Market Insights\n",
    "\n",
    "#### Monthly Income Expectation Calculation\n",
    "This calculation estimates the average monthly rental income after considering mortgage payments, property taxes, and rental income for properties.\n",
    "\n",
    "**What It Calculates**:\n",
    "- **Monthly Mortgage**: Based on the median sale price of properties and a standard loan calculation.\n",
    "- **Monthly Property Taxes**: Derived from the effective tax rate and the property's median sale price.\n",
    "- **Net Monthly Income**: Calculated as rental income minus mortgage payments and property taxes.\n",
    "\n",
    "**Purpose**:\n",
    "To provide a clear picture of the profitability of rental investments after accounting for major expenses.\n",
    "\"\"\"\n",
    "\n",
    "# Visualization 1: Median Sale Price by Key\n",
    "\n",
    "---\n",
    "\n",
    "#### Bar Chart - Median Sale Price\n",
    "**What It Shows**:  \n",
    "This chart represents the median sale price of properties for each category or key.\n",
    "\n",
    "**Key Insights**:\n",
    "- **Market Strength**: Higher bars indicate regions with higher property values.\n",
    "- **Comparison**: Visualize which categories have more expensive properties.\n",
    "\"\"\"\n",
    "\n",
    "# Visualization 2: Monthly Rent vs Median Sale Price\n",
    "\n",
    "---\n",
    "\n",
    "#### Line Chart - Monthly Rent vs Median Sale Price\n",
    "**What It Shows**:  \n",
    "This chart compares monthly rent and median sale prices across categories.\n",
    "\n",
    "**Key Insights**:\n",
    "- **Profitability Indicators**: Higher rent relative to sale price suggests better rental yield potential.\n",
    "- **Trends**: Identifies which categories balance property value and rental income.\n",
    "\n",
    "# Visualization 3: Effective Tax Rate Distribution\n",
    "\n",
    "---\n",
    "\n",
    "#### Pie Chart - Effective Tax Rate Distribution by Key\n",
    "**What It Shows**:  \n",
    "This pie chart highlights the proportion of effective tax rates across categories.\n",
    "\n",
    "**Key Insights**:\n",
    "- **Tax Burden Comparison**: Quickly identify categories with the highest and lowest tax burdens.\n",
    "- **Regional Impacts**: Understand how property taxes vary and their influence on profitability.\n",
    "\n",
    "---\n",
    "\n",
    "### Why These Visuals and Calculations Matter\n",
    "\n",
    "#### Investment Insights:\n",
    "- Identify categories with better rental income potential.\n",
    "- Evaluate regions with balanced sale prices and rental income.\n",
    "\n",
    "#### Tax Considerations:\n",
    "- Higher effective tax rates reduce profitability but may reflect high-value regions.\n",
    "\n",
    "#### Market Strategy:\n",
    "- Combine the insights from rent-to-sale price ratios and tax impacts to pinpoint ideal investment areas.\n",
    "\n",
    "#### Conclusion:\n",
    "The combined analysis of rental income, sale prices, and tax rates helps investors make informed decisions by evaluating profitability and regional trends. By focusing on markets with strong rental yields, manageable taxes, and affordable property values, investors can optimize their returns."
   ]
  },
  {
   "cell_type": "code",
   "execution_count": null,
   "id": "988a1ee3-c0a2-4e2c-8988-2d5d2a705192",
   "metadata": {},
   "outputs": [],
   "source": []
  }
 ],
 "metadata": {
  "kernelspec": {
   "display_name": "Python 3 (ipykernel)",
   "language": "python",
   "name": "python3"
  },
  "language_info": {
   "codemirror_mode": {
    "name": "ipython",
    "version": 3
   },
   "file_extension": ".py",
   "mimetype": "text/x-python",
   "name": "python",
   "nbconvert_exporter": "python",
   "pygments_lexer": "ipython3",
   "version": "3.12.4"
  }
 },
 "nbformat": 4,
 "nbformat_minor": 5
}
