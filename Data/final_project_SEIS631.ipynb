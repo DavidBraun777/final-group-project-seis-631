{
 "cells": [
  {
   "cell_type": "code",
   "execution_count": 1,
   "id": "0a7db04f-f9e5-4008-9eb4-1424c8ccd405",
   "metadata": {},
   "outputs": [],
   "source": [
    "# Introduction and Setup\n",
    "import numpy as np\n",
    "import pandas as pd\n",
    "import matplotlib.pyplot as plt\n",
    "from sklearn.preprocessing import MinMaxScaler"
   ]
  },
  {
   "cell_type": "markdown",
   "id": "cd95c959-f75a-4110-8cc7-2256ec9e6847",
   "metadata": {},
   "source": [
    "# Goals: Calculate and visualize Sales ROI, Rental ROI, and Overall ROI for real estate investment."
   ]
  },
  {
   "cell_type": "code",
   "execution_count": 2,
   "id": "bcaeede1-88b0-4985-b548-d4f93bb10941",
   "metadata": {
    "editable": true,
    "slideshow": {
     "slide_type": ""
    },
    "tags": []
   },
   "outputs": [],
   "source": [
    "# Data Import\n",
    "files = {\n",
    "    \"inventory\": \"./Metro_invt_fs_uc_sfrcondo_sm_month.csv\",\n",
    "    \"sales_data\": \"./Metro_sales_count_now_uc_sfrcondo_month.csv\",\n",
    "    \"zhvf_growth\": \"./Metro_zhvf_growth_uc_sfrcondo_tier_0.33_0.67_sm_sa_month.csv\",\n",
    "    \"zori\": \"./Metro_zori_uc_sfrcondomfr_sm_month.csv\"\n",
    "}\n",
    "dataframes = {key: pd.read_csv(path) for key, path in files.items()}"
   ]
  },
  {
   "cell_type": "code",
   "execution_count": 3,
   "id": "fb36ea04-3e17-470e-8373-10aa4413ec84",
   "metadata": {},
   "outputs": [
    {
     "name": "stdout",
     "output_type": "stream",
     "text": [
      "Dataset: inventory\n",
      "   RegionID  SizeRank       RegionName RegionType StateName  2018-03-31  \\\n",
      "0    102001         0    United States    country       NaN   1421530.0   \n",
      "1    394913         1     New York, NY        msa        NY     73707.0   \n",
      "2    753899         2  Los Angeles, CA        msa        CA     21998.0   \n",
      "3    394463         3      Chicago, IL        msa        IL     38581.0   \n",
      "4    394514         4       Dallas, TX        msa        TX     24043.0   \n",
      "\n",
      "   2018-04-30  2018-05-31  2018-06-30  2018-07-31  ...  2024-01-31  \\\n",
      "0   1500196.0   1592417.0   1660615.0   1709144.0  ...    890491.0   \n",
      "1     80345.0     85864.0     90067.0     91881.0  ...     36461.0   \n",
      "2     23784.0     25605.0     27109.0     28811.0  ...     14058.0   \n",
      "3     42253.0     45757.0     47492.0     48984.0  ...     19092.0   \n",
      "4     25876.0     28225.0     30490.0     32408.0  ...     21664.0   \n",
      "\n",
      "   2024-02-29  2024-03-31  2024-04-30  2024-05-31  2024-06-30  2024-07-31  \\\n",
      "0    876361.0    913841.0    967480.0   1036855.0   1101144.0   1149668.0   \n",
      "1     34858.0     36244.0     38666.0     41641.0     43847.0     44838.0   \n",
      "2     13754.0     14572.0     15567.0     16977.0     18457.0     19823.0   \n",
      "3     18342.0     19059.0     20389.0     21782.0     23134.0     24180.0   \n",
      "4     21401.0     22537.0     24388.0     26468.0     28696.0     30378.0   \n",
      "\n",
      "   2024-08-31  2024-09-30  2024-10-31  \n",
      "0   1173406.0   1180162.0   1181190.0  \n",
      "1     43767.0     42694.0     41774.0  \n",
      "2     20703.0     21328.0     21589.0  \n",
      "3     24779.0     25144.0     25409.0  \n",
      "4     31631.0     31774.0     31776.0  \n",
      "\n",
      "[5 rows x 85 columns] \n",
      "\n",
      "Dataset: sales_data\n",
      "   RegionID  SizeRank       RegionName RegionType StateName  2008-02-29  \\\n",
      "0    102001         0    United States    country       NaN    202444.0   \n",
      "1    394913         1     New York, NY        msa        NY      8671.0   \n",
      "2    753899         2  Los Angeles, CA        msa        CA      4137.0   \n",
      "3    394463         3      Chicago, IL        msa        IL      5580.0   \n",
      "4    394514         4       Dallas, TX        msa        TX      4873.0   \n",
      "\n",
      "   2008-03-31  2008-04-30  2008-05-31  2008-06-30  ...  2024-01-31  \\\n",
      "0    234240.0    260112.0    286644.0    299878.0  ...    213284.0   \n",
      "1      9170.0     10219.0     10612.0     11518.0  ...     10433.0   \n",
      "2      5037.0      6062.0      6871.0      7225.0  ...      4400.0   \n",
      "3      6918.0      7236.0      7945.0      8783.0  ...      5511.0   \n",
      "4      5523.0      5988.0      6672.0      6673.0  ...      4207.0   \n",
      "\n",
      "   2024-02-29  2024-03-31  2024-04-30  2024-05-31  2024-06-30  2024-07-31  \\\n",
      "0    236191.0    284929.0    321190.0    354379.0    329816.0    345965.0   \n",
      "1      9029.0     10171.0     11182.0     12466.0     12713.0     14428.0   \n",
      "2      4988.0      6100.0      6722.0      7123.0      6387.0      7026.0   \n",
      "3      5775.0      7681.0      9290.0     10212.0      9776.0     10261.0   \n",
      "4      5142.0      6156.0      6976.0      7474.0      6489.0      6821.0   \n",
      "\n",
      "   2024-08-31  2024-09-30  2024-10-31  \n",
      "0    335499.0    286245.0    308139.0  \n",
      "1     14561.0     12038.0     11781.0  \n",
      "2      6791.0      5876.0      6960.0  \n",
      "3      9917.0      8549.0      8954.0  \n",
      "4      6375.0      5426.0      5830.0  \n",
      "\n",
      "[5 rows x 206 columns] \n",
      "\n",
      "Dataset: zhvf_growth\n",
      "   RegionID  SizeRank       RegionName RegionType StateName    BaseDate  \\\n",
      "0    102001         0    United States    country       NaN  2024-10-31   \n",
      "1    394913         1     New York, NY        msa        NY  2024-10-31   \n",
      "2    753899         2  Los Angeles, CA        msa        CA  2024-10-31   \n",
      "3    394463         3      Chicago, IL        msa        IL  2024-10-31   \n",
      "4    394514         4       Dallas, TX        msa        TX  2024-10-31   \n",
      "\n",
      "   2024-11-30  2025-01-31  2025-10-31  \n",
      "0         0.2         0.6         2.9  \n",
      "1         0.3         0.5         1.5  \n",
      "2         0.2         0.4         2.3  \n",
      "3         0.1         0.2         1.1  \n",
      "4        -0.2        -0.7         1.2   \n",
      "\n",
      "Dataset: zori\n",
      "   RegionID  SizeRank       RegionName RegionType StateName   2015-01-31  \\\n",
      "0    102001         0    United States    country       NaN  1219.505157   \n",
      "1    394913         1     New York, NY        msa        NY  2309.053853   \n",
      "2    753899         2  Los Angeles, CA        msa        CA  1824.564158   \n",
      "3    394463         3      Chicago, IL        msa        IL  1376.890143   \n",
      "4    394514         4       Dallas, TX        msa        TX  1102.520229   \n",
      "\n",
      "    2015-02-28   2015-03-31   2015-04-30   2015-05-31  ...   2024-01-31  \\\n",
      "0  1226.110978  1235.157406  1244.364461  1253.736804  ...  1944.107977   \n",
      "1  2323.945634  2342.172815  2362.866865  2378.708487  ...  3174.657547   \n",
      "2  1837.131789  1852.995958  1866.544385  1880.965935  ...  2871.259690   \n",
      "3  1383.676519  1393.215837  1402.069318  1412.366133  ...  1917.995356   \n",
      "4  1107.580420  1115.085598  1127.112455  1136.976254  ...  1741.246848   \n",
      "\n",
      "    2024-02-29   2024-03-31   2024-04-30   2024-05-31   2024-06-30  \\\n",
      "0  1953.303835  1965.220282  1976.936082  1988.630874  1999.099587   \n",
      "1  3193.191963  3224.492468  3253.440784  3287.035670  3315.485733   \n",
      "2  2884.646776  2901.529115  2911.722715  2926.292759  2939.666326   \n",
      "3  1933.028681  1947.243502  1967.196287  1985.349245  2002.663746   \n",
      "4  1738.896640  1743.615955  1748.528748  1756.554919  1762.601323   \n",
      "\n",
      "    2024-07-31   2024-08-31   2024-09-30   2024-10-31  \n",
      "0  2007.481254  2011.654608  2012.727325  2009.011878  \n",
      "1  3333.168448  3338.425192  3327.404340  3312.654681  \n",
      "2  2953.144347  2959.110454  2963.153361  2960.439674  \n",
      "3  2011.593882  2014.948727  2013.286737  2012.134644  \n",
      "4  1768.678076  1771.439698  1767.837761  1760.888138  \n",
      "\n",
      "[5 rows x 123 columns] \n",
      "\n"
     ]
    }
   ],
   "source": [
    "# Display datasets\n",
    "for name, df in dataframes.items():\n",
    "    print(f\"Dataset: {name}\")\n",
    "    print(df.head(), \"\\n\")"
   ]
  },
  {
   "cell_type": "code",
   "execution_count": 4,
   "id": "7311d09f-0655-438d-b262-559b344ad1e1",
   "metadata": {},
   "outputs": [
    {
     "name": "stdout",
     "output_type": "stream",
     "text": [
      "Data cleaning completed.\n"
     ]
    }
   ],
   "source": [
    "# Data Cleaning\n",
    "for name, df in dataframes.items():\n",
    "    df.dropna(thresh=len(df.columns) * 0.8, inplace=True)\n",
    "    dataframes[name] = df\n",
    "print(\"Data cleaning completed.\")"
   ]
  },
  {
   "cell_type": "code",
   "execution_count": 5,
   "id": "8b8db9d6-76d9-4d87-81dc-43ec748c3905",
   "metadata": {},
   "outputs": [
    {
     "ename": "KeyError",
     "evalue": "nan",
     "output_type": "error",
     "traceback": [
      "\u001b[1;31m---------------------------------------------------------------------------\u001b[0m",
      "\u001b[1;31mKeyError\u001b[0m                                  Traceback (most recent call last)",
      "File \u001b[1;32m~\\.pyenv\\pyenv-win\\versions\\3.10.11\\lib\\site-packages\\pandas\\core\\indexes\\base.py:3805\u001b[0m, in \u001b[0;36mIndex.get_loc\u001b[1;34m(self, key)\u001b[0m\n\u001b[0;32m   3804\u001b[0m \u001b[38;5;28;01mtry\u001b[39;00m:\n\u001b[1;32m-> 3805\u001b[0m     \u001b[38;5;28;01mreturn\u001b[39;00m \u001b[38;5;28;43mself\u001b[39;49m\u001b[38;5;241;43m.\u001b[39;49m\u001b[43m_engine\u001b[49m\u001b[38;5;241;43m.\u001b[39;49m\u001b[43mget_loc\u001b[49m\u001b[43m(\u001b[49m\u001b[43mcasted_key\u001b[49m\u001b[43m)\u001b[49m\n\u001b[0;32m   3806\u001b[0m \u001b[38;5;28;01mexcept\u001b[39;00m \u001b[38;5;167;01mKeyError\u001b[39;00m \u001b[38;5;28;01mas\u001b[39;00m err:\n",
      "File \u001b[1;32mindex.pyx:167\u001b[0m, in \u001b[0;36mpandas._libs.index.IndexEngine.get_loc\u001b[1;34m()\u001b[0m\n",
      "File \u001b[1;32mindex.pyx:196\u001b[0m, in \u001b[0;36mpandas._libs.index.IndexEngine.get_loc\u001b[1;34m()\u001b[0m\n",
      "File \u001b[1;32mpandas\\\\_libs\\\\hashtable_class_helper.pxi:7081\u001b[0m, in \u001b[0;36mpandas._libs.hashtable.PyObjectHashTable.get_item\u001b[1;34m()\u001b[0m\n",
      "File \u001b[1;32mpandas\\\\_libs\\\\hashtable_class_helper.pxi:7089\u001b[0m, in \u001b[0;36mpandas._libs.hashtable.PyObjectHashTable.get_item\u001b[1;34m()\u001b[0m\n",
      "\u001b[1;31mKeyError\u001b[0m: nan",
      "\nThe above exception was the direct cause of the following exception:\n",
      "\u001b[1;31mKeyError\u001b[0m                                  Traceback (most recent call last)",
      "Cell \u001b[1;32mIn[5], line 7\u001b[0m\n\u001b[0;32m      4\u001b[0m growth_column \u001b[38;5;241m=\u001b[39m sales_data\u001b[38;5;241m.\u001b[39mcolumns[sales_data\u001b[38;5;241m.\u001b[39mcolumns\u001b[38;5;241m.\u001b[39mstr\u001b[38;5;241m.\u001b[39mcontains(\u001b[38;5;124m\"\u001b[39m\u001b[38;5;124mgrowth\u001b[39m\u001b[38;5;124m\"\u001b[39m, case\u001b[38;5;241m=\u001b[39m\u001b[38;5;28;01mFalse\u001b[39;00m)]\u001b[38;5;241m.\u001b[39mmax()\n\u001b[0;32m      6\u001b[0m sales_data[latest_date] \u001b[38;5;241m=\u001b[39m pd\u001b[38;5;241m.\u001b[39mto_numeric(sales_data[latest_date], errors\u001b[38;5;241m=\u001b[39m\u001b[38;5;124m\"\u001b[39m\u001b[38;5;124mcoerce\u001b[39m\u001b[38;5;124m\"\u001b[39m)\n\u001b[1;32m----> 7\u001b[0m sales_data[growth_column] \u001b[38;5;241m=\u001b[39m pd\u001b[38;5;241m.\u001b[39mto_numeric(\u001b[43msales_data\u001b[49m\u001b[43m[\u001b[49m\u001b[43mgrowth_column\u001b[49m\u001b[43m]\u001b[49m, errors\u001b[38;5;241m=\u001b[39m\u001b[38;5;124m\"\u001b[39m\u001b[38;5;124mcoerce\u001b[39m\u001b[38;5;124m\"\u001b[39m)\n\u001b[0;32m      8\u001b[0m purchase_price \u001b[38;5;241m=\u001b[39m sales_data[latest_date]\n\u001b[0;32m      9\u001b[0m sales_data[\u001b[38;5;124m\"\u001b[39m\u001b[38;5;124mProjected_Price\u001b[39m\u001b[38;5;124m\"\u001b[39m] \u001b[38;5;241m=\u001b[39m purchase_price \u001b[38;5;241m*\u001b[39m (\u001b[38;5;241m1\u001b[39m \u001b[38;5;241m+\u001b[39m sales_data[growth_column] \u001b[38;5;241m/\u001b[39m \u001b[38;5;241m100\u001b[39m)\n",
      "File \u001b[1;32m~\\.pyenv\\pyenv-win\\versions\\3.10.11\\lib\\site-packages\\pandas\\core\\frame.py:4102\u001b[0m, in \u001b[0;36mDataFrame.__getitem__\u001b[1;34m(self, key)\u001b[0m\n\u001b[0;32m   4100\u001b[0m \u001b[38;5;28;01mif\u001b[39;00m \u001b[38;5;28mself\u001b[39m\u001b[38;5;241m.\u001b[39mcolumns\u001b[38;5;241m.\u001b[39mnlevels \u001b[38;5;241m>\u001b[39m \u001b[38;5;241m1\u001b[39m:\n\u001b[0;32m   4101\u001b[0m     \u001b[38;5;28;01mreturn\u001b[39;00m \u001b[38;5;28mself\u001b[39m\u001b[38;5;241m.\u001b[39m_getitem_multilevel(key)\n\u001b[1;32m-> 4102\u001b[0m indexer \u001b[38;5;241m=\u001b[39m \u001b[38;5;28;43mself\u001b[39;49m\u001b[38;5;241;43m.\u001b[39;49m\u001b[43mcolumns\u001b[49m\u001b[38;5;241;43m.\u001b[39;49m\u001b[43mget_loc\u001b[49m\u001b[43m(\u001b[49m\u001b[43mkey\u001b[49m\u001b[43m)\u001b[49m\n\u001b[0;32m   4103\u001b[0m \u001b[38;5;28;01mif\u001b[39;00m is_integer(indexer):\n\u001b[0;32m   4104\u001b[0m     indexer \u001b[38;5;241m=\u001b[39m [indexer]\n",
      "File \u001b[1;32m~\\.pyenv\\pyenv-win\\versions\\3.10.11\\lib\\site-packages\\pandas\\core\\indexes\\base.py:3812\u001b[0m, in \u001b[0;36mIndex.get_loc\u001b[1;34m(self, key)\u001b[0m\n\u001b[0;32m   3807\u001b[0m     \u001b[38;5;28;01mif\u001b[39;00m \u001b[38;5;28misinstance\u001b[39m(casted_key, \u001b[38;5;28mslice\u001b[39m) \u001b[38;5;129;01mor\u001b[39;00m (\n\u001b[0;32m   3808\u001b[0m         \u001b[38;5;28misinstance\u001b[39m(casted_key, abc\u001b[38;5;241m.\u001b[39mIterable)\n\u001b[0;32m   3809\u001b[0m         \u001b[38;5;129;01mand\u001b[39;00m \u001b[38;5;28many\u001b[39m(\u001b[38;5;28misinstance\u001b[39m(x, \u001b[38;5;28mslice\u001b[39m) \u001b[38;5;28;01mfor\u001b[39;00m x \u001b[38;5;129;01min\u001b[39;00m casted_key)\n\u001b[0;32m   3810\u001b[0m     ):\n\u001b[0;32m   3811\u001b[0m         \u001b[38;5;28;01mraise\u001b[39;00m InvalidIndexError(key)\n\u001b[1;32m-> 3812\u001b[0m     \u001b[38;5;28;01mraise\u001b[39;00m \u001b[38;5;167;01mKeyError\u001b[39;00m(key) \u001b[38;5;28;01mfrom\u001b[39;00m \u001b[38;5;21;01merr\u001b[39;00m\n\u001b[0;32m   3813\u001b[0m \u001b[38;5;28;01mexcept\u001b[39;00m \u001b[38;5;167;01mTypeError\u001b[39;00m:\n\u001b[0;32m   3814\u001b[0m     \u001b[38;5;66;03m# If we have a listlike key, _check_indexing_error will raise\u001b[39;00m\n\u001b[0;32m   3815\u001b[0m     \u001b[38;5;66;03m#  InvalidIndexError. Otherwise we fall through and re-raise\u001b[39;00m\n\u001b[0;32m   3816\u001b[0m     \u001b[38;5;66;03m#  the TypeError.\u001b[39;00m\n\u001b[0;32m   3817\u001b[0m     \u001b[38;5;28mself\u001b[39m\u001b[38;5;241m.\u001b[39m_check_indexing_error(key)\n",
      "\u001b[1;31mKeyError\u001b[0m: nan"
     ]
    }
   ],
   "source": [
    "# Sales ROI Analysis\n",
    "sales_data = dataframes[\"sales_data\"]\n",
    "latest_date = sales_data.columns[sales_data.columns.str.match(r\"\\d{4}-\\d{2}-\\d{2}\")].max()\n",
    "growth_column = sales_data.columns[sales_data.columns.str.contains(\"growth\", case=False)].max()\n",
    "\n",
    "sales_data[latest_date] = pd.to_numeric(sales_data[latest_date], errors=\"coerce\")\n",
    "sales_data[growth_column] = pd.to_numeric(sales_data[growth_column], errors=\"coerce\")\n",
    "purchase_price = sales_data[latest_date]\n",
    "sales_data[\"Projected_Price\"] = purchase_price * (1 + sales_data[growth_column] / 100)"
   ]
  },
  {
   "cell_type": "code",
   "execution_count": null,
   "id": "413068c1-e5b8-416a-937d-e8dc78149930",
   "metadata": {},
   "outputs": [],
   "source": [
    "print(sales_data.columns)"
   ]
  },
  {
   "cell_type": "code",
   "execution_count": null,
   "id": "61f770cd-c680-487c-8a9c-0176772ee047",
   "metadata": {},
   "outputs": [],
   "source": [
    "latest_date = sales_data.columns[sales_data.columns.str.match(r\"\\d{4}-\\d{2}-\\d{2}\")].max()\n",
    "growth_column = sales_data.columns[sales_data.columns.str.contains(\"growth\", case=False)].max()\n",
    "print(\"Latest Date Column:\", latest_date)\n",
    "print(\"Growth Column:\", growth_column)"
   ]
  },
  {
   "cell_type": "code",
   "execution_count": null,
   "id": "2315fe05-7468-4b73-af21-abc6d27d099c",
   "metadata": {},
   "outputs": [],
   "source": [
    "sales_data[latest_date] = pd.to_numeric(sales_data[latest_date], errors=\"coerce\")\n",
    "sales_data[growth_column] = pd.to_numeric(sales_data[growth_column], errors=\"coerce\")"
   ]
  },
  {
   "cell_type": "code",
   "execution_count": null,
   "id": "8086dbfd-66a2-4a31-bc21-1e6ec69acbc2",
   "metadata": {},
   "outputs": [],
   "source": [
    "print(sales_data[latest_date].head())\n",
    "print(sales_data[growth_column].head())"
   ]
  },
  {
   "cell_type": "code",
   "execution_count": null,
   "id": "649805d1-0a5d-4c38-9531-2a6ec1ada1e6",
   "metadata": {},
   "outputs": [],
   "source": [
    "sales_data[latest_date] = pd.to_numeric(sales_data[latest_date], errors=\"coerce\")\n",
    "sales_data[growth_column] = pd.to_numeric(sales_data[growth_column], errors=\"coerce\")\n",
    "print(sales_data[sales_data[latest_date].isna()])  # Check rows with NaN in `latest_date`\n",
    "print(sales_data[sales_data[growth_column].isna()])  # Check rows with NaN in `growth_column`\n",
    "\n",
    "# Drop rows with NaN in these columns\n",
    "sales_data.dropna(subset=[latest_date, growth_column], inplace=True)"
   ]
  },
  {
   "cell_type": "code",
   "execution_count": null,
   "id": "a28f45a9-27ad-4f3e-80cd-586244c46f83",
   "metadata": {},
   "outputs": [],
   "source": [
    "purchase_price = sales_data[latest_date]\n",
    "sales_data[\"Projected_Price\"] = purchase_price * (1 + sales_data[growth_column] / 100)"
   ]
  },
  {
   "cell_type": "code",
   "execution_count": null,
   "id": "e586c782-a272-4c59-ab15-37cc516d0202",
   "metadata": {},
   "outputs": [],
   "source": []
  }
 ],
 "metadata": {
  "kernelspec": {
   "display_name": "Python 3 (ipykernel)",
   "language": "python",
   "name": "python3"
  },
  "language_info": {
   "codemirror_mode": {
    "name": "ipython",
    "version": 3
   },
   "file_extension": ".py",
   "mimetype": "text/x-python",
   "name": "python",
   "nbconvert_exporter": "python",
   "pygments_lexer": "ipython3",
   "version": "3.10.11"
  }
 },
 "nbformat": 4,
 "nbformat_minor": 5
}
